{
 "cells": [
  {
   "cell_type": "code",
   "execution_count": 21,
   "id": "d4538e59",
   "metadata": {
    "scrolled": true
   },
   "outputs": [
    {
     "name": "stderr",
     "output_type": "stream",
     "text": [
      "22/06/17 17:49:10 WARN SQLConf: The SQL config 'spark.sql.execution.arrow.enabled' has been deprecated in Spark v3.0 and may be removed in the future. Use 'spark.sql.execution.arrow.pyspark.enabled' instead of it.\n",
      "/usr/local/lib/python3.7/site-packages/pyspark/sql/context.py:79: FutureWarning: Deprecated in 3.0.0. Use SparkSession.builder.getOrCreate() instead.\n",
      "  FutureWarning\n",
      "22/06/17 17:49:10 WARN SQLConf: The SQL config 'spark.sql.execution.arrow.enabled' has been deprecated in Spark v3.0 and may be removed in the future. Use 'spark.sql.execution.arrow.pyspark.enabled' instead of it.\n"
     ]
    }
   ],
   "source": [
    "from pyspark.sql import pandas\n",
    "from pyspark import SparkConf\n",
    "from pyspark.sql import SparkSession\n",
    "from pyspark.sql import SQLContext\n",
    "\n",
    "conf = SparkConf()\n",
    "conf.set('spark.jars.packages', 'org.apache.hadoop:hadoop-aws:3.2.2,com.microsoft.azure:spark-mssql-connector_2.12:1.2.0')\n",
    "conf.set('spark.hadoop.fs.s3a.aws.credentials.provider', 'com.amazonaws.auth.InstanceProfileCredentialsProvider')\n",
    "conf.set(\"spark.sql.execution.arrow.enabled\",\"true\")\n",
    "\n",
    "spark = SparkSession.builder \\\n",
    ".appName(\"EDU_REGIOES\") \\\n",
    ".config(conf=conf) \\\n",
    ".getOrCreate()\n",
    "\n",
    "sqlCtx = SQLContext(spark)"
   ]
  },
  {
   "cell_type": "code",
   "execution_count": 22,
   "id": "639549e9",
   "metadata": {},
   "outputs": [],
   "source": [
    "from pyspark.sql.types import *\n",
    "from pyspark.sql.functions import sum, max, min, avg, count, mean, round, col\n",
    "from pyspark.sql.window import Window"
   ]
  },
  {
   "cell_type": "code",
   "execution_count": 23,
   "id": "acf37852",
   "metadata": {},
   "outputs": [],
   "source": [
    "%run -i funcoes.ipynb\n",
    "\n",
    "s3 = Aws_importer()\n",
    "f_pandas = Pandas_Spark()"
   ]
  },
  {
   "cell_type": "code",
   "execution_count": 24,
   "id": "3c217e39",
   "metadata": {},
   "outputs": [],
   "source": [
    "#importing\n",
    "import pandas as pd\n",
    "pdf = pd.read_excel(\"s3a://alex-group2-sptech-bucket-brutos/ATU_BRASIL_REGIOES_UFS_2021.xlsx\")"
   ]
  },
  {
   "cell_type": "code",
   "execution_count": 25,
   "id": "02f1ff46",
   "metadata": {
    "scrolled": true
   },
   "outputs": [
    {
     "data": {
      "text/html": [
       "<div>\n",
       "<style scoped>\n",
       "    .dataframe tbody tr th:only-of-type {\n",
       "        vertical-align: middle;\n",
       "    }\n",
       "\n",
       "    .dataframe tbody tr th {\n",
       "        vertical-align: top;\n",
       "    }\n",
       "\n",
       "    .dataframe thead th {\n",
       "        text-align: right;\n",
       "    }\n",
       "</style>\n",
       "<table border=\"1\" class=\"dataframe\">\n",
       "  <thead>\n",
       "    <tr style=\"text-align: right;\">\n",
       "      <th></th>\n",
       "      <th>Ano</th>\n",
       "      <th>Unidade Geográfica</th>\n",
       "      <th>Localização</th>\n",
       "      <th>Dependência Administrativa</th>\n",
       "      <th>Total 1</th>\n",
       "      <th>Creche</th>\n",
       "      <th>Pré-Escola</th>\n",
       "      <th>Total</th>\n",
       "      <th>Anos Iniciais</th>\n",
       "      <th>Anos Finais</th>\n",
       "      <th>...</th>\n",
       "      <th>7° ano</th>\n",
       "      <th>8° ano</th>\n",
       "      <th>9° ano</th>\n",
       "      <th>Turmas Multietapa, Multi ou Correção de Fluxo 2</th>\n",
       "      <th>Total</th>\n",
       "      <th>1ª série</th>\n",
       "      <th>2ª série</th>\n",
       "      <th>3ª série</th>\n",
       "      <th>4ª série</th>\n",
       "      <th>Não-Seriado</th>\n",
       "    </tr>\n",
       "  </thead>\n",
       "  <tbody>\n",
       "    <tr>\n",
       "      <th>0</th>\n",
       "      <td>2021</td>\n",
       "      <td>Brasil</td>\n",
       "      <td>Total</td>\n",
       "      <td>Total</td>\n",
       "      <td>15.4</td>\n",
       "      <td>13.4</td>\n",
       "      <td>17.2</td>\n",
       "      <td>22.9</td>\n",
       "      <td>21.2</td>\n",
       "      <td>26.6</td>\n",
       "      <td>...</td>\n",
       "      <td>26.9</td>\n",
       "      <td>26.9</td>\n",
       "      <td>26.6</td>\n",
       "      <td>15</td>\n",
       "      <td>30.1</td>\n",
       "      <td>30.8</td>\n",
       "      <td>30.4</td>\n",
       "      <td>29.7</td>\n",
       "      <td>21.9</td>\n",
       "      <td>23.9</td>\n",
       "    </tr>\n",
       "    <tr>\n",
       "      <th>1</th>\n",
       "      <td>2021</td>\n",
       "      <td>Brasil</td>\n",
       "      <td>Urbana</td>\n",
       "      <td>Total</td>\n",
       "      <td>15.4</td>\n",
       "      <td>13.3</td>\n",
       "      <td>17.6</td>\n",
       "      <td>24.2</td>\n",
       "      <td>21.9</td>\n",
       "      <td>27.7</td>\n",
       "      <td>...</td>\n",
       "      <td>27.9</td>\n",
       "      <td>28</td>\n",
       "      <td>27.9</td>\n",
       "      <td>16.8</td>\n",
       "      <td>30.7</td>\n",
       "      <td>31.2</td>\n",
       "      <td>30.9</td>\n",
       "      <td>30.3</td>\n",
       "      <td>21.7</td>\n",
       "      <td>26.3</td>\n",
       "    </tr>\n",
       "    <tr>\n",
       "      <th>2</th>\n",
       "      <td>2021</td>\n",
       "      <td>Brasil</td>\n",
       "      <td>Rural</td>\n",
       "      <td>Total</td>\n",
       "      <td>14.8</td>\n",
       "      <td>14.9</td>\n",
       "      <td>14.6</td>\n",
       "      <td>17.1</td>\n",
       "      <td>16.4</td>\n",
       "      <td>20.2</td>\n",
       "      <td>...</td>\n",
       "      <td>21.1</td>\n",
       "      <td>20.3</td>\n",
       "      <td>19.3</td>\n",
       "      <td>14.9</td>\n",
       "      <td>23</td>\n",
       "      <td>24.2</td>\n",
       "      <td>23.6</td>\n",
       "      <td>21.9</td>\n",
       "      <td>25.7</td>\n",
       "      <td>16.7</td>\n",
       "    </tr>\n",
       "    <tr>\n",
       "      <th>3</th>\n",
       "      <td>2021</td>\n",
       "      <td>Brasil</td>\n",
       "      <td>Total</td>\n",
       "      <td>Federal</td>\n",
       "      <td>12.7</td>\n",
       "      <td>11.5</td>\n",
       "      <td>13.8</td>\n",
       "      <td>24.7</td>\n",
       "      <td>22</td>\n",
       "      <td>26</td>\n",
       "      <td>...</td>\n",
       "      <td>25.8</td>\n",
       "      <td>26.3</td>\n",
       "      <td>27.5</td>\n",
       "      <td>--</td>\n",
       "      <td>29.8</td>\n",
       "      <td>31.6</td>\n",
       "      <td>30.7</td>\n",
       "      <td>29.2</td>\n",
       "      <td>25.8</td>\n",
       "      <td>24.7</td>\n",
       "    </tr>\n",
       "    <tr>\n",
       "      <th>4</th>\n",
       "      <td>2021</td>\n",
       "      <td>Brasil</td>\n",
       "      <td>Urbana</td>\n",
       "      <td>Federal</td>\n",
       "      <td>12.8</td>\n",
       "      <td>11.6</td>\n",
       "      <td>13.8</td>\n",
       "      <td>24.7</td>\n",
       "      <td>22.1</td>\n",
       "      <td>26</td>\n",
       "      <td>...</td>\n",
       "      <td>25.9</td>\n",
       "      <td>26.4</td>\n",
       "      <td>27.6</td>\n",
       "      <td>--</td>\n",
       "      <td>29.8</td>\n",
       "      <td>31.5</td>\n",
       "      <td>30.8</td>\n",
       "      <td>29.3</td>\n",
       "      <td>25.2</td>\n",
       "      <td>25.2</td>\n",
       "    </tr>\n",
       "    <tr>\n",
       "      <th>...</th>\n",
       "      <td>...</td>\n",
       "      <td>...</td>\n",
       "      <td>...</td>\n",
       "      <td>...</td>\n",
       "      <td>...</td>\n",
       "      <td>...</td>\n",
       "      <td>...</td>\n",
       "      <td>...</td>\n",
       "      <td>...</td>\n",
       "      <td>...</td>\n",
       "      <td>...</td>\n",
       "      <td>...</td>\n",
       "      <td>...</td>\n",
       "      <td>...</td>\n",
       "      <td>...</td>\n",
       "      <td>...</td>\n",
       "      <td>...</td>\n",
       "      <td>...</td>\n",
       "      <td>...</td>\n",
       "      <td>...</td>\n",
       "      <td>...</td>\n",
       "    </tr>\n",
       "    <tr>\n",
       "      <th>582</th>\n",
       "      <td>2021</td>\n",
       "      <td>Distrito Federal</td>\n",
       "      <td>Urbana</td>\n",
       "      <td>Privada</td>\n",
       "      <td>13.7</td>\n",
       "      <td>13.6</td>\n",
       "      <td>13.8</td>\n",
       "      <td>20.2</td>\n",
       "      <td>17.2</td>\n",
       "      <td>26.1</td>\n",
       "      <td>...</td>\n",
       "      <td>25.7</td>\n",
       "      <td>26.6</td>\n",
       "      <td>27.6</td>\n",
       "      <td>13</td>\n",
       "      <td>32.4</td>\n",
       "      <td>32.5</td>\n",
       "      <td>32.4</td>\n",
       "      <td>32.4</td>\n",
       "      <td>--</td>\n",
       "      <td>20.5</td>\n",
       "    </tr>\n",
       "    <tr>\n",
       "      <th>583</th>\n",
       "      <td>2021</td>\n",
       "      <td>Distrito Federal</td>\n",
       "      <td>Rural</td>\n",
       "      <td>Privada</td>\n",
       "      <td>19.4</td>\n",
       "      <td>22.6</td>\n",
       "      <td>12.3</td>\n",
       "      <td>28.6</td>\n",
       "      <td>8</td>\n",
       "      <td>38.9</td>\n",
       "      <td>...</td>\n",
       "      <td>36.3</td>\n",
       "      <td>36.4</td>\n",
       "      <td>44</td>\n",
       "      <td>--</td>\n",
       "      <td>40.4</td>\n",
       "      <td>48</td>\n",
       "      <td>26</td>\n",
       "      <td>50.5</td>\n",
       "      <td>--</td>\n",
       "      <td>--</td>\n",
       "    </tr>\n",
       "    <tr>\n",
       "      <th>584</th>\n",
       "      <td>2021</td>\n",
       "      <td>Distrito Federal</td>\n",
       "      <td>Total</td>\n",
       "      <td>Pública</td>\n",
       "      <td>19.6</td>\n",
       "      <td>13.3</td>\n",
       "      <td>19.7</td>\n",
       "      <td>24.1</td>\n",
       "      <td>21.2</td>\n",
       "      <td>29</td>\n",
       "      <td>...</td>\n",
       "      <td>29.8</td>\n",
       "      <td>29.9</td>\n",
       "      <td>29.9</td>\n",
       "      <td>9.6</td>\n",
       "      <td>33.8</td>\n",
       "      <td>32.9</td>\n",
       "      <td>34.3</td>\n",
       "      <td>34.7</td>\n",
       "      <td>--</td>\n",
       "      <td>11</td>\n",
       "    </tr>\n",
       "    <tr>\n",
       "      <th>585</th>\n",
       "      <td>2021</td>\n",
       "      <td>Distrito Federal</td>\n",
       "      <td>Urbana</td>\n",
       "      <td>Pública</td>\n",
       "      <td>19.8</td>\n",
       "      <td>13.8</td>\n",
       "      <td>19.9</td>\n",
       "      <td>24.4</td>\n",
       "      <td>21.4</td>\n",
       "      <td>29.2</td>\n",
       "      <td>...</td>\n",
       "      <td>30.1</td>\n",
       "      <td>30.3</td>\n",
       "      <td>30.2</td>\n",
       "      <td>6.6</td>\n",
       "      <td>34</td>\n",
       "      <td>33.1</td>\n",
       "      <td>34.5</td>\n",
       "      <td>35</td>\n",
       "      <td>--</td>\n",
       "      <td>11</td>\n",
       "    </tr>\n",
       "    <tr>\n",
       "      <th>586</th>\n",
       "      <td>2021</td>\n",
       "      <td>Distrito Federal</td>\n",
       "      <td>Rural</td>\n",
       "      <td>Pública</td>\n",
       "      <td>16.4</td>\n",
       "      <td>12</td>\n",
       "      <td>16.6</td>\n",
       "      <td>21.1</td>\n",
       "      <td>19.3</td>\n",
       "      <td>25</td>\n",
       "      <td>...</td>\n",
       "      <td>25.8</td>\n",
       "      <td>24.6</td>\n",
       "      <td>25.4</td>\n",
       "      <td>14.1</td>\n",
       "      <td>28.4</td>\n",
       "      <td>28</td>\n",
       "      <td>29.2</td>\n",
       "      <td>28</td>\n",
       "      <td>--</td>\n",
       "      <td>--</td>\n",
       "    </tr>\n",
       "  </tbody>\n",
       "</table>\n",
       "<p>587 rows × 26 columns</p>\n",
       "</div>"
      ],
      "text/plain": [
       "      Ano Unidade Geográfica Localização Dependência Administrativa Total 1  \\\n",
       "0    2021             Brasil       Total                      Total    15.4   \n",
       "1    2021             Brasil      Urbana                      Total    15.4   \n",
       "2    2021             Brasil       Rural                      Total    14.8   \n",
       "3    2021             Brasil       Total                    Federal    12.7   \n",
       "4    2021             Brasil      Urbana                    Federal    12.8   \n",
       "..    ...                ...         ...                        ...     ...   \n",
       "582  2021   Distrito Federal      Urbana                    Privada    13.7   \n",
       "583  2021   Distrito Federal       Rural                    Privada    19.4   \n",
       "584  2021   Distrito Federal       Total                    Pública    19.6   \n",
       "585  2021   Distrito Federal      Urbana                    Pública    19.8   \n",
       "586  2021   Distrito Federal       Rural                    Pública    16.4   \n",
       "\n",
       "    Creche Pré-Escola Total Anos Iniciais Anos Finais  ... 7° ano 8° ano  \\\n",
       "0     13.4       17.2  22.9          21.2        26.6  ...   26.9   26.9   \n",
       "1     13.3       17.6  24.2          21.9        27.7  ...   27.9     28   \n",
       "2     14.9       14.6  17.1          16.4        20.2  ...   21.1   20.3   \n",
       "3     11.5       13.8  24.7            22          26  ...   25.8   26.3   \n",
       "4     11.6       13.8  24.7          22.1          26  ...   25.9   26.4   \n",
       "..     ...        ...   ...           ...         ...  ...    ...    ...   \n",
       "582   13.6       13.8  20.2          17.2        26.1  ...   25.7   26.6   \n",
       "583   22.6       12.3  28.6             8        38.9  ...   36.3   36.4   \n",
       "584   13.3       19.7  24.1          21.2          29  ...   29.8   29.9   \n",
       "585   13.8       19.9  24.4          21.4        29.2  ...   30.1   30.3   \n",
       "586     12       16.6  21.1          19.3          25  ...   25.8   24.6   \n",
       "\n",
       "    9° ano Turmas Multietapa, Multi ou Correção de Fluxo 2 Total  1ª série  \\\n",
       "0     26.6                                              15   30.1     30.8   \n",
       "1     27.9                                            16.8   30.7     31.2   \n",
       "2     19.3                                            14.9     23     24.2   \n",
       "3     27.5                                              --   29.8     31.6   \n",
       "4     27.6                                              --   29.8     31.5   \n",
       "..     ...                                             ...    ...      ...   \n",
       "582   27.6                                              13   32.4     32.5   \n",
       "583     44                                              --   40.4       48   \n",
       "584   29.9                                             9.6   33.8     32.9   \n",
       "585   30.2                                             6.6     34     33.1   \n",
       "586   25.4                                            14.1   28.4       28   \n",
       "\n",
       "    2ª série 3ª série 4ª série Não-Seriado  \n",
       "0       30.4     29.7     21.9        23.9  \n",
       "1       30.9     30.3     21.7        26.3  \n",
       "2       23.6     21.9     25.7        16.7  \n",
       "3       30.7     29.2     25.8        24.7  \n",
       "4       30.8     29.3     25.2        25.2  \n",
       "..       ...      ...      ...         ...  \n",
       "582     32.4     32.4       --        20.5  \n",
       "583       26     50.5       --          --  \n",
       "584     34.3     34.7       --          11  \n",
       "585     34.5       35       --          11  \n",
       "586     29.2       28       --          --  \n",
       "\n",
       "[587 rows x 26 columns]"
      ]
     },
     "execution_count": 25,
     "metadata": {},
     "output_type": "execute_result"
    }
   ],
   "source": [
    "pdf"
   ]
  },
  {
   "cell_type": "code",
   "execution_count": 26,
   "id": "aabbc42d",
   "metadata": {
    "scrolled": false
   },
   "outputs": [
    {
     "data": {
      "text/plain": [
       "Index(['Ano', 'Unidade Geográfica', 'Localização',\n",
       "       'Dependência Administrativa', 'Total 1', 'Creche', 'Pré-Escola',\n",
       "       'Total', 'Anos Iniciais', 'Anos Finais', '1º Ano', '2° ano', '3° ano',\n",
       "       '4° ano', '5° ano', '6° ano', '7° ano', '8° ano', '9° ano',\n",
       "       'Turmas Multietapa, Multi ou Correção de Fluxo 2', 'Total ', '1ª série',\n",
       "       '2ª série', '3ª série', '4ª série', 'Não-Seriado'],\n",
       "      dtype='object')"
      ]
     },
     "execution_count": 26,
     "metadata": {},
     "output_type": "execute_result"
    }
   ],
   "source": [
    "pdf.columns"
   ]
  },
  {
   "cell_type": "code",
   "execution_count": 27,
   "id": "dc22d4d1",
   "metadata": {
    "scrolled": true
   },
   "outputs": [
    {
     "data": {
      "text/plain": [
       "Ano                                                 int64\n",
       "Unidade Geográfica                                 object\n",
       "Localização                                        object\n",
       "Dependência Administrativa                         object\n",
       "Total 1                                            object\n",
       "Creche                                             object\n",
       "Pré-Escola                                         object\n",
       "Total                                              object\n",
       "Anos Iniciais                                      object\n",
       "Anos Finais                                        object\n",
       "1º Ano                                             object\n",
       "2° ano                                             object\n",
       "3° ano                                             object\n",
       "4° ano                                             object\n",
       "5° ano                                             object\n",
       "6° ano                                             object\n",
       "7° ano                                             object\n",
       "8° ano                                             object\n",
       "9° ano                                             object\n",
       "Turmas Multietapa, Multi ou Correção de Fluxo 2    object\n",
       "Total                                              object\n",
       "1ª série                                           object\n",
       "2ª série                                           object\n",
       "3ª série                                           object\n",
       "4ª série                                           object\n",
       "Não-Seriado                                        object\n",
       "dtype: object"
      ]
     },
     "execution_count": 27,
     "metadata": {},
     "output_type": "execute_result"
    }
   ],
   "source": [
    "pdf.dtypes"
   ]
  },
  {
   "cell_type": "code",
   "execution_count": 28,
   "id": "2678450b",
   "metadata": {},
   "outputs": [
    {
     "data": {
      "text/plain": [
       "Ano                                                587\n",
       "Unidade Geográfica                                 587\n",
       "Localização                                        587\n",
       "Dependência Administrativa                         587\n",
       "Total 1                                            587\n",
       "Creche                                             587\n",
       "Pré-Escola                                         587\n",
       "Total                                              587\n",
       "Anos Iniciais                                      587\n",
       "Anos Finais                                        587\n",
       "1º Ano                                             587\n",
       "2° ano                                             587\n",
       "3° ano                                             587\n",
       "4° ano                                             587\n",
       "5° ano                                             587\n",
       "6° ano                                             587\n",
       "7° ano                                             587\n",
       "8° ano                                             587\n",
       "9° ano                                             587\n",
       "Turmas Multietapa, Multi ou Correção de Fluxo 2    587\n",
       "Total                                              587\n",
       "1ª série                                           587\n",
       "2ª série                                           587\n",
       "3ª série                                           587\n",
       "4ª série                                           587\n",
       "Não-Seriado                                        587\n",
       "dtype: int64"
      ]
     },
     "execution_count": 28,
     "metadata": {},
     "output_type": "execute_result"
    }
   ],
   "source": [
    "pdf.count()"
   ]
  },
  {
   "cell_type": "code",
   "execution_count": 29,
   "id": "3fc26eac",
   "metadata": {},
   "outputs": [],
   "source": [
    "pdf.replace(\"--\", 0, inplace=True)"
   ]
  },
  {
   "cell_type": "code",
   "execution_count": 31,
   "id": "38e2131f",
   "metadata": {},
   "outputs": [],
   "source": [
    "pdf = pdf.astype({'1º Ano': float, '2° ano': float, '3° ano': float, '4° ano': float, '5° ano': float, '6° ano': float, '7° ano': float, '8° ano': float, '9° ano': float, '1ª série': float, '2ª série': float, '3ª série': float, '4ª série': float})"
   ]
  },
  {
   "cell_type": "code",
   "execution_count": 32,
   "id": "b40e9c2e",
   "metadata": {
    "scrolled": true
   },
   "outputs": [
    {
     "name": "stderr",
     "output_type": "stream",
     "text": [
      "/usr/local/lib/python3.7/site-packages/pyspark/sql/pandas/conversion.py:329: UserWarning: createDataFrame attempted Arrow optimization because 'spark.sql.execution.arrow.pyspark.enabled' is set to true; however, failed by the reason below:\n",
      "  PyArrow >= 1.0.0 must be installed; however, it was not found.\n",
      "Attempting non-optimization as 'spark.sql.execution.arrow.pyspark.fallback.enabled' is set to true.\n",
      "  warnings.warn(msg)\n"
     ]
    }
   ],
   "source": [
    "#dataframe from pandar to spark\n",
    "sparkDF= f_pandas.pandas_to_spark(pdf)"
   ]
  },
  {
   "cell_type": "code",
   "execution_count": 33,
   "id": "aa36dddc",
   "metadata": {
    "scrolled": true
   },
   "outputs": [
    {
     "name": "stdout",
     "output_type": "stream",
     "text": [
      "+----+------------------+-----------+--------------------------+-------+------+----------+-----+-------------+-----------+------+------+------+------+------+------+------+------+------+-----------------------------------------------+------+--------+--------+--------+--------+-----------+\n",
      "| Ano|Unidade Geográfica|Localização|Dependência Administrativa|Total 1|Creche|Pré-Escola|Total|Anos Iniciais|Anos Finais|1º Ano|2° ano|3° ano|4° ano|5° ano|6° ano|7° ano|8° ano|9° ano|Turmas Multietapa, Multi ou Correção de Fluxo 2|Total |1ª série|2ª série|3ª série|4ª série|Não-Seriado|\n",
      "+----+------------------+-----------+--------------------------+-------+------+----------+-----+-------------+-----------+------+------+------+------+------+------+------+------+------+-----------------------------------------------+------+--------+--------+--------+--------+-----------+\n",
      "|2021|            Brasil|      Total|                     Total|   15.4|  13.4|      17.2| 22.9|         21.2|       26.6|  19.8|  20.4|  21.0|  22.2|  22.4|  26.1|  26.9|  26.9|  26.6|                                           15.0|  30.1|    30.8|    30.4|    29.7|    21.9|       23.9|\n",
      "|2021|            Brasil|     Urbana|                     Total|   15.4|  13.3|      17.6| 24.2|         21.9|       27.7|  20.4|  21.0|  21.8|  22.9|  23.2|  27.1|  27.9|  28.0|  27.9|                                           16.8|  30.7|    31.2|    30.9|    30.3|    21.7|       26.3|\n",
      "|2021|            Brasil|      Rural|                     Total|   14.8|  14.9|      14.6| 17.1|         16.4|       20.2|  15.2|  15.8|  15.8|  17.6|  17.3|  20.2|  21.1|  20.3|  19.3|                                           14.9|  23.0|    24.2|    23.6|    21.9|    25.7|       16.7|\n",
      "|2021|            Brasil|      Total|                   Federal|   12.7|  11.5|      13.8| 24.7|         22.0|       26.0|  15.5|  20.8|  23.9|  24.1|  24.8|  24.0|  25.8|  26.3|  27.5|                                            0.0|  29.8|    31.6|    30.7|    29.2|    25.8|       24.7|\n",
      "|2021|            Brasil|     Urbana|                   Federal|   12.8|  11.6|      13.8| 24.7|         22.1|       26.0|  15.5|  20.9|  24.1|  24.3|  24.9|  24.1|  25.9|  26.4|  27.6|                                            0.0|  29.8|    31.5|    30.8|    29.3|    25.2|       25.2|\n",
      "|2021|            Brasil|      Rural|                   Federal|   11.7|  10.2|      14.0| 15.4|         15.3|       15.5|   0.0|  12.0|  15.0|  17.0|  17.0|  14.0|  21.0|  15.0|  12.0|                                            0.0|  30.2|    32.5|    30.1|    28.4|    41.4|       20.4|\n",
      "|2021|            Brasil|      Total|                  Estadual|   16.6|  10.6|      17.1| 26.5|         23.2|       28.5|  22.0|  22.9|  23.2|  24.0|  23.7|  27.5|  28.6|  28.9|  28.9|                                           13.7|  30.7|    31.3|    30.9|    30.1|    20.1|       23.9|\n",
      "|2021|            Brasil|     Urbana|                  Estadual|   19.0|  10.6|      19.5| 27.5|         24.1|       29.2|  22.9|  23.7|  24.1|  24.8|  24.6|  28.2|  29.3|  29.6|  29.7|                                           16.9|  31.3|    31.9|    31.5|    30.8|    20.0|       26.8|\n",
      "|2021|            Brasil|      Rural|                  Estadual|   10.2|  10.7|      10.1| 16.0|         13.6|       18.8|  12.4|  13.3|  13.2|  14.4|  14.4|  17.9|  19.3|  19.1|  18.8|                                           12.5|  22.5|    23.6|    23.2|    21.5|    23.4|       16.4|\n",
      "|2021|            Brasil|      Total|                 Municipal|   17.5|  15.3|      19.1| 23.1|         22.6|       26.6|  21.2|  21.8|  22.4|  23.7|  23.7|  26.6|  27.2|  26.7|  25.9|                                           15.3|  28.4|    28.5|    29.1|    27.8|    24.5|        7.0|\n",
      "+----+------------------+-----------+--------------------------+-------+------+----------+-----+-------------+-----------+------+------+------+------+------+------+------+------+------+-----------------------------------------------+------+--------+--------+--------+--------+-----------+\n",
      "only showing top 10 rows\n",
      "\n"
     ]
    },
    {
     "name": "stderr",
     "output_type": "stream",
     "text": [
      "                                                                                \r"
     ]
    }
   ],
   "source": [
    "sparkDF.show(n=10)"
   ]
  },
  {
   "cell_type": "code",
   "execution_count": 34,
   "id": "7b4bc4ba",
   "metadata": {},
   "outputs": [
    {
     "data": {
      "text/plain": [
       "['Ano',\n",
       " 'Unidade Geográfica',\n",
       " 'Localização',\n",
       " 'Dependência Administrativa',\n",
       " 'Total 1',\n",
       " 'Creche',\n",
       " 'Pré-Escola',\n",
       " 'Total',\n",
       " 'Anos Iniciais',\n",
       " 'Anos Finais',\n",
       " '1º Ano',\n",
       " '2° ano',\n",
       " '3° ano',\n",
       " '4° ano',\n",
       " '5° ano',\n",
       " '6° ano',\n",
       " '7° ano',\n",
       " '8° ano',\n",
       " '9° ano',\n",
       " 'Turmas Multietapa, Multi ou Correção de Fluxo 2',\n",
       " 'Total ',\n",
       " '1ª série',\n",
       " '2ª série',\n",
       " '3ª série',\n",
       " '4ª série',\n",
       " 'Não-Seriado']"
      ]
     },
     "execution_count": 34,
     "metadata": {},
     "output_type": "execute_result"
    }
   ],
   "source": [
    "sparkDF.columns"
   ]
  },
  {
   "cell_type": "code",
   "execution_count": 36,
   "id": "c6aabaa9",
   "metadata": {},
   "outputs": [
    {
     "name": "stderr",
     "output_type": "stream",
     "text": [
      "22/06/17 17:50:22 WARN SQLConf: The SQL config 'spark.sql.execution.arrow.enabled' has been deprecated in Spark v3.0 and may be removed in the future. Use 'spark.sql.execution.arrow.pyspark.enabled' instead of it.\n"
     ]
    },
    {
     "name": "stdout",
     "output_type": "stream",
     "text": [
      "+-------+-----------------+-----------------+------------------+------------------+------------------+------------------+-----------------+------------------+------------------+\n",
      "|summary|           1º Ano|           2° ano|            3° ano|            4° ano|            5° ano|            6° ano|           7° ano|            8° ano|            9° ano|\n",
      "+-------+-----------------+-----------------+------------------+------------------+------------------+------------------+-----------------+------------------+------------------+\n",
      "|   mean|15.74361158432709|16.64565587734242|17.154855195911406|18.256558773424196|18.550425894378204|22.056899488926756|22.92402044293015|22.764565587734243|22.519420783645657|\n",
      "+-------+-----------------+-----------------+------------------+------------------+------------------+------------------+-----------------+------------------+------------------+\n",
      "\n"
     ]
    }
   ],
   "source": [
    "sparkDF.select(\"1º Ano\",\"2° ano\",\"3° ano\",\"4° ano\",\"5° ano\",\"6° ano\",\"7° ano\",\"8° ano\",\"9° ano\").summary(\"mean\").show()"
   ]
  },
  {
   "cell_type": "code",
   "execution_count": 37,
   "id": "44ac30d4",
   "metadata": {},
   "outputs": [],
   "source": [
    "sparkDF = sparkDF.drop(*(\"Total 1\",\"Total \", \"Turmas Multietapa, Multi ou Correção de Fluxo 2\",\"Não-Seriado\",\"Creche\",\"Pré-Escola\",\"Total\",\"Anos Iniciais\",\"Anos Finais\"))"
   ]
  },
  {
   "cell_type": "code",
   "execution_count": 38,
   "id": "433d5526",
   "metadata": {},
   "outputs": [
    {
     "name": "stderr",
     "output_type": "stream",
     "text": [
      "22/06/17 17:50:33 WARN AbstractS3ACommitterFactory: Using standard FileOutputCommitter to commit work. This is slow and potentially unsafe.\n",
      "22/06/17 17:50:33 WARN AbstractS3ACommitterFactory: Using standard FileOutputCommitter to commit work. This is slow and potentially unsafe.\n",
      "22/06/17 17:50:33 WARN AbstractS3ACommitterFactory: Using standard FileOutputCommitter to commit work. This is slow and potentially unsafe.\n",
      "22/06/17 17:50:37 WARN AbstractS3ACommitterFactory: Using standard FileOutputCommitter to commit work. This is slow and potentially unsafe.\n",
      "22/06/17 17:50:37 WARN AbstractS3ACommitterFactory: Using standard FileOutputCommitter to commit work. This is slow and potentially unsafe.\n",
      "22/06/17 17:50:37 WARN AbstractS3ACommitterFactory: Using standard FileOutputCommitter to commit work. This is slow and potentially unsafe.\n",
      "                                                                                \r"
     ]
    }
   ],
   "source": [
    "#preprocessed\n",
    "s3.save_s3_data(sparkDF,'cliente','MEDIAS_ESCOLARES_BRASIL')\n",
    "s3.save_s3_data(sparkDF,'preprocessado','MEDIAS_ESCOLARES_BRASIL')\n",
    "s3.save_data_client_side(sparkDF,'MEDIAS_ESCOLARES_BRASIL')"
   ]
  },
  {
   "cell_type": "code",
   "execution_count": 39,
   "id": "703b5806",
   "metadata": {},
   "outputs": [
    {
     "data": {
      "text/plain": [
       "['Ano',\n",
       " 'Unidade Geográfica',\n",
       " 'Localização',\n",
       " 'Dependência Administrativa',\n",
       " '1º Ano',\n",
       " '2° ano',\n",
       " '3° ano',\n",
       " '4° ano',\n",
       " '5° ano',\n",
       " '6° ano',\n",
       " '7° ano',\n",
       " '8° ano',\n",
       " '9° ano',\n",
       " '1ª série',\n",
       " '2ª série',\n",
       " '3ª série',\n",
       " '4ª série']"
      ]
     },
     "execution_count": 39,
     "metadata": {},
     "output_type": "execute_result"
    }
   ],
   "source": [
    "sparkDF.columns"
   ]
  },
  {
   "cell_type": "code",
   "execution_count": 40,
   "id": "12968495",
   "metadata": {},
   "outputs": [
    {
     "data": {
      "text/plain": [
       "<bound method DataFrame.printSchema of DataFrame[Ano: bigint, Unidade Geográfica: string, Localização: string, Dependência Administrativa: string, 1º Ano: double, 2° ano: double, 3° ano: double, 4° ano: double, 5° ano: double, 6° ano: double, 7° ano: double, 8° ano: double, 9° ano: double, 1ª série: double, 2ª série: double, 3ª série: double, 4ª série: double]>"
      ]
     },
     "execution_count": 40,
     "metadata": {},
     "output_type": "execute_result"
    }
   ],
   "source": [
    "sparkDF.printSchema"
   ]
  },
  {
   "cell_type": "code",
   "execution_count": 41,
   "id": "32ae4ff0",
   "metadata": {
    "scrolled": true
   },
   "outputs": [],
   "source": [
    "sugestionDF = sparkDF.groupBy(\"Ano\",\"Unidade Geográfica\",\"Dependência Administrativa\",\"Localização\").agg(round(avg(\"1º Ano\"),1).alias(\"1 ano\"),round(avg(\"2° Ano\"),1).alias(\"2 ano\"),\\\n",
    "                round(avg(\"3° Ano\"),1).alias(\"3 ano\"),round(avg(\"4° Ano\"),1).alias(\"4 ano\"),round(avg(\"5° Ano\"),1).alias(\"5 ano\"),round(avg(\"6° Ano\"),1).alias(\"6 ano\"),\\\n",
    "                round(avg(\"7° Ano\"),1).alias(\"7 ano\"),round(avg(\"8° Ano\"),1).alias(\"8 ano\"),round(avg(\"9° Ano\"),1).alias(\"9 ano\"),round(avg(\"1ª série\"),1).alias(\"1 serie\"),\\\n",
    "                round(avg(\"2ª série\"),1).alias(\"2 serie\"),round(avg(\"3ª série\"),1).alias(\"3 serie\"),round(avg(\"4ª série\"),1).alias(\"4 serie\")) \\\n",
    "        .where(sparkDF[\"Dependência Administrativa\"]!=\"Total\").where(sparkDF[\"Localização\"]!=\"Total\").orderBy(\"Unidade Geográfica\")"
   ]
  },
  {
   "cell_type": "code",
   "execution_count": 42,
   "id": "382459ea",
   "metadata": {},
   "outputs": [
    {
     "data": {
      "text/plain": [
       "324"
      ]
     },
     "execution_count": 42,
     "metadata": {},
     "output_type": "execute_result"
    }
   ],
   "source": [
    "sugestionDF.count()"
   ]
  },
  {
   "cell_type": "code",
   "execution_count": 44,
   "id": "c5d84cb4",
   "metadata": {
    "scrolled": true
   },
   "outputs": [
    {
     "name": "stdout",
     "output_type": "stream",
     "text": [
      "+----+------------------+--------------------------+-----------+-----+-----+-----+-----+-----+-----+-----+-----+-----+-------+-------+-------+-------+\n",
      "| Ano|Unidade Geográfica|Dependência Administrativa|Localização|1 ano|2 ano|3 ano|4 ano|5 ano|6 ano|7 ano|8 ano|9 ano|1 serie|2 serie|3 serie|4 serie|\n",
      "+----+------------------+--------------------------+-----------+-----+-----+-----+-----+-----+-----+-----+-----+-----+-------+-------+-------+-------+\n",
      "|2021|              Acre|                   Pública|      Rural| 18.2| 18.4| 19.1| 19.4| 19.2| 16.3| 18.0| 17.2| 17.5|   14.7|   17.5|   16.5|    0.0|\n",
      "|2021|              Acre|                  Estadual|     Urbana| 23.2| 24.1| 25.5| 26.5| 26.4| 31.9| 31.7| 31.3| 31.9|   33.3|   33.8|   33.4|    0.0|\n",
      "|2021|              Acre|                  Estadual|      Rural| 15.5| 16.1| 16.7| 17.8| 17.6| 16.3| 18.0| 17.0| 18.3|   14.7|   17.5|   16.5|    0.0|\n",
      "|2021|              Acre|                 Municipal|      Rural| 20.0| 19.9| 20.6| 20.6| 20.5| 16.4| 18.0| 17.9| 14.5|    0.0|    0.0|    0.0|    0.0|\n",
      "|2021|              Acre|                   Privada|     Urbana| 15.3| 16.1| 16.3| 17.3| 19.5| 23.7| 26.8| 25.3| 27.3|   31.4|   34.3|   29.3|    0.0|\n",
      "|2021|              Acre|                 Municipal|     Urbana| 23.3| 23.5| 24.4| 24.5| 25.3| 29.3| 27.9| 29.2| 24.6|    0.0|    0.0|    0.0|    0.0|\n",
      "|2021|              Acre|                   Pública|     Urbana| 23.3| 23.8| 24.9| 25.4| 25.8| 31.7| 31.3| 31.1| 31.3|   33.3|   33.7|   33.3|    0.0|\n",
      "|2021|              Acre|                   Federal|     Urbana| 25.0| 26.0| 25.0| 23.0| 29.0| 31.0| 27.0| 30.0| 33.0|   33.2|   32.1|   31.6|    0.0|\n",
      "|2021|           Alagoas|                 Municipal|     Urbana| 22.0| 22.9| 24.4| 26.5| 26.2| 34.6| 35.4| 35.0| 33.9|    0.0|    0.0|    0.0|    0.0|\n",
      "|2021|           Alagoas|                  Estadual|     Urbana| 19.2| 21.1| 22.9| 24.5| 24.3| 33.1| 34.9| 35.1| 34.4|   40.1|   38.6|   36.4|    0.0|\n",
      "+----+------------------+--------------------------+-----------+-----+-----+-----+-----+-----+-----+-----+-----+-----+-------+-------+-------+-------+\n",
      "only showing top 10 rows\n",
      "\n"
     ]
    }
   ],
   "source": [
    "sugestionDF.show(n=10)"
   ]
  },
  {
   "cell_type": "code",
   "execution_count": 45,
   "id": "bcd8b7e3",
   "metadata": {},
   "outputs": [
    {
     "data": {
      "text/plain": [
       "<bound method DataFrame.printSchema of DataFrame[Ano: bigint, Unidade Geográfica: string, Dependência Administrativa: string, Localização: string, 1 ano: double, 2 ano: double, 3 ano: double, 4 ano: double, 5 ano: double, 6 ano: double, 7 ano: double, 8 ano: double, 9 ano: double, 1 serie: double, 2 serie: double, 3 serie: double, 4 serie: double]>"
      ]
     },
     "execution_count": 45,
     "metadata": {},
     "output_type": "execute_result"
    }
   ],
   "source": [
    "sugestionDF.printSchema"
   ]
  },
  {
   "cell_type": "code",
   "execution_count": 46,
   "id": "ba597c89",
   "metadata": {},
   "outputs": [
    {
     "name": "stderr",
     "output_type": "stream",
     "text": [
      "22/06/17 17:52:34 WARN SQLConf: The SQL config 'spark.sql.execution.arrow.enabled' has been deprecated in Spark v3.0 and may be removed in the future. Use 'spark.sql.execution.arrow.pyspark.enabled' instead of it.\n",
      "22/06/17 17:52:34 WARN SQLConf: The SQL config 'spark.sql.execution.arrow.enabled' has been deprecated in Spark v3.0 and may be removed in the future. Use 'spark.sql.execution.arrow.pyspark.enabled' instead of it.\n",
      "22/06/17 17:52:34 WARN SQLConf: The SQL config 'spark.sql.execution.arrow.enabled' has been deprecated in Spark v3.0 and may be removed in the future. Use 'spark.sql.execution.arrow.pyspark.enabled' instead of it.\n",
      "22/06/17 17:52:34 WARN SQLConf: The SQL config 'spark.sql.execution.arrow.enabled' has been deprecated in Spark v3.0 and may be removed in the future. Use 'spark.sql.execution.arrow.pyspark.enabled' instead of it.\n",
      "22/06/17 17:52:34 WARN SQLConf: The SQL config 'spark.sql.execution.arrow.enabled' has been deprecated in Spark v3.0 and may be removed in the future. Use 'spark.sql.execution.arrow.pyspark.enabled' instead of it.\n",
      "22/06/17 17:52:34 WARN SQLConf: The SQL config 'spark.sql.execution.arrow.enabled' has been deprecated in Spark v3.0 and may be removed in the future. Use 'spark.sql.execution.arrow.pyspark.enabled' instead of it.\n",
      "22/06/17 17:52:34 WARN SQLConf: The SQL config 'spark.sql.execution.arrow.enabled' has been deprecated in Spark v3.0 and may be removed in the future. Use 'spark.sql.execution.arrow.pyspark.enabled' instead of it.\n",
      "22/06/17 17:52:34 WARN SQLConf: The SQL config 'spark.sql.execution.arrow.enabled' has been deprecated in Spark v3.0 and may be removed in the future. Use 'spark.sql.execution.arrow.pyspark.enabled' instead of it.\n",
      "22/06/17 17:52:34 WARN SQLConf: The SQL config 'spark.sql.execution.arrow.enabled' has been deprecated in Spark v3.0 and may be removed in the future. Use 'spark.sql.execution.arrow.pyspark.enabled' instead of it.\n",
      "22/06/17 17:52:34 WARN SQLConf: The SQL config 'spark.sql.execution.arrow.enabled' has been deprecated in Spark v3.0 and may be removed in the future. Use 'spark.sql.execution.arrow.pyspark.enabled' instead of it.\n",
      "22/06/17 17:52:34 WARN SQLConf: The SQL config 'spark.sql.execution.arrow.enabled' has been deprecated in Spark v3.0 and may be removed in the future. Use 'spark.sql.execution.arrow.pyspark.enabled' instead of it.\n",
      "22/06/17 17:52:34 WARN SQLConf: The SQL config 'spark.sql.execution.arrow.enabled' has been deprecated in Spark v3.0 and may be removed in the future. Use 'spark.sql.execution.arrow.pyspark.enabled' instead of it.\n",
      "22/06/17 17:52:34 WARN SQLConf: The SQL config 'spark.sql.execution.arrow.enabled' has been deprecated in Spark v3.0 and may be removed in the future. Use 'spark.sql.execution.arrow.pyspark.enabled' instead of it.\n",
      "22/06/17 17:52:34 WARN SQLConf: The SQL config 'spark.sql.execution.arrow.enabled' has been deprecated in Spark v3.0 and may be removed in the future. Use 'spark.sql.execution.arrow.pyspark.enabled' instead of it.\n",
      "22/06/17 17:52:34 WARN SQLConf: The SQL config 'spark.sql.execution.arrow.enabled' has been deprecated in Spark v3.0 and may be removed in the future. Use 'spark.sql.execution.arrow.pyspark.enabled' instead of it.\n",
      "22/06/17 17:52:34 WARN SQLConf: The SQL config 'spark.sql.execution.arrow.enabled' has been deprecated in Spark v3.0 and may be removed in the future. Use 'spark.sql.execution.arrow.pyspark.enabled' instead of it.\n",
      "22/06/17 17:52:34 WARN SQLConf: The SQL config 'spark.sql.execution.arrow.enabled' has been deprecated in Spark v3.0 and may be removed in the future. Use 'spark.sql.execution.arrow.pyspark.enabled' instead of it.\n"
     ]
    }
   ],
   "source": [
    "_sugestionDF = sugestionDF.select(\n",
    "    col('Unidade Geográfica').cast(StringType()).alias('UNIDADE_GEOGRAFICA'),\n",
    "    col('Ano').cast(LongType()).alias('ANO'),\n",
    "    col('Localização').cast(StringType()).alias('LOCALIZACAO'),\n",
    "    col('Dependência Administrativa').cast(StringType()).alias('DEPENDENCIA_ADMINISTRATIVA'),\n",
    "    col('1 ano').cast(FloatType()).alias('1_ANO'),\n",
    "    col('2 ano').cast(FloatType()).alias('2_ANO'),\n",
    "    col('3 ano').cast(FloatType()).alias('3_ANO'),\n",
    "    col('4 ano').cast(FloatType()).alias('4_ANO'),\n",
    "    col('5 ano').cast(FloatType()).alias('5_ANO'),\n",
    "    col('6 ano').cast(FloatType()).alias('6_ANO'),\n",
    "    col('7 ano').cast(FloatType()).alias('7_ANO'),\n",
    "    col('8 ano').cast(FloatType()).alias('8_ANO'),\n",
    "    col('9 ano').cast(FloatType()).alias('9_ANO'),\n",
    "    col('1 serie').cast(FloatType()).alias('1_SERIE'),\n",
    "    col('2 serie').cast(FloatType()).alias('2_SERIE'),\n",
    "    col('3 serie').cast(FloatType()).alias('3_SERIE'),\n",
    "    col('4 serie').cast(FloatType()).alias('4_SERIE'),\n",
    ")"
   ]
  },
  {
   "cell_type": "code",
   "execution_count": 49,
   "id": "cacd57db",
   "metadata": {
    "scrolled": true
   },
   "outputs": [
    {
     "name": "stderr",
     "output_type": "stream",
     "text": [
      "22/06/17 18:04:20 WARN AbstractS3ACommitterFactory: Using standard FileOutputCommitter to commit work. This is slow and potentially unsafe.\n",
      "22/06/17 18:04:21 WARN AbstractS3ACommitterFactory: Using standard FileOutputCommitter to commit work. This is slow and potentially unsafe.\n",
      "22/06/17 18:04:23 WARN AbstractS3ACommitterFactory: Using standard FileOutputCommitter to commit work. This is slow and potentially unsafe.\n",
      "22/06/17 18:04:24 WARN AbstractS3ACommitterFactory: Using standard FileOutputCommitter to commit work. This is slow and potentially unsafe.\n",
      "                                                                                \r"
     ]
    }
   ],
   "source": [
    "#saving into s3 client\n",
    "s3.save_s3_data(sugestionDF,'preprocessado','MEDIAS_ESCOLARES_BRASIL/SUGESTAO')\n",
    "s3.save_s3_data(sugestionDF,'cliente','MEDIAS_ESCOLARES_BRASIL/SUGESTAO')\n",
    "s3.save_data_client_side(sugestionDF,'MEDIAS_ESCOLARES_BRASIL_sugestao')"
   ]
  },
  {
   "cell_type": "code",
   "execution_count": 39,
   "id": "44b32b01",
   "metadata": {},
   "outputs": [],
   "source": [
    "#end the process of spark session\n",
    "spark.stop()"
   ]
  },
  {
   "cell_type": "code",
   "execution_count": null,
   "id": "277b57d4",
   "metadata": {},
   "outputs": [],
   "source": []
  }
 ],
 "metadata": {
  "kernelspec": {
   "display_name": "Python 3 (ipykernel)",
   "language": "python",
   "name": "python3"
  },
  "language_info": {
   "codemirror_mode": {
    "name": "ipython",
    "version": 3
   },
   "file_extension": ".py",
   "mimetype": "text/x-python",
   "name": "python",
   "nbconvert_exporter": "python",
   "pygments_lexer": "ipython3",
   "version": "3.7.10"
  }
 },
 "nbformat": 4,
 "nbformat_minor": 5
}

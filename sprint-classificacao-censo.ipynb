{
 "cells": [
  {
   "cell_type": "code",
   "execution_count": 2,
   "metadata": {},
   "outputs": [
    {
     "ename": "Py4JJavaError",
     "evalue": "An error occurred while calling None.org.apache.spark.api.java.JavaSparkContext.\n: java.lang.RuntimeException: java.io.FileNotFoundException: java.io.FileNotFoundException: HADOOP_HOME and hadoop.home.dir are unset. -see https://wiki.apache.org/hadoop/WindowsProblems\r\n\tat org.apache.hadoop.util.Shell.getWinUtilsPath(Shell.java:736)\r\n\tat org.apache.hadoop.util.Shell.getSetPermissionCommand(Shell.java:271)\r\n\tat org.apache.hadoop.fs.FileUtil.chmod(FileUtil.java:1105)\r\n\tat org.apache.hadoop.fs.FileUtil.chmod(FileUtil.java:1091)\r\n\tat org.apache.spark.util.Utils$.fetchFile(Utils.scala:571)\r\n\tat org.apache.spark.SparkContext.addFile(SparkContext.scala:1633)\r\n\tat org.apache.spark.SparkContext.$anonfun$new$13(SparkContext.scala:510)\r\n\tat org.apache.spark.SparkContext.$anonfun$new$13$adapted(SparkContext.scala:510)\r\n\tat scala.collection.immutable.List.foreach(List.scala:431)\r\n\tat org.apache.spark.SparkContext.<init>(SparkContext.scala:510)\r\n\tat org.apache.spark.api.java.JavaSparkContext.<init>(JavaSparkContext.scala:58)\r\n\tat sun.reflect.NativeConstructorAccessorImpl.newInstance0(Native Method)\r\n\tat sun.reflect.NativeConstructorAccessorImpl.newInstance(NativeConstructorAccessorImpl.java:62)\r\n\tat sun.reflect.DelegatingConstructorAccessorImpl.newInstance(DelegatingConstructorAccessorImpl.java:45)\r\n\tat java.lang.reflect.Constructor.newInstance(Constructor.java:423)\r\n\tat py4j.reflection.MethodInvoker.invoke(MethodInvoker.java:247)\r\n\tat py4j.reflection.ReflectionEngine.invoke(ReflectionEngine.java:357)\r\n\tat py4j.Gateway.invoke(Gateway.java:238)\r\n\tat py4j.commands.ConstructorCommand.invokeConstructor(ConstructorCommand.java:80)\r\n\tat py4j.commands.ConstructorCommand.execute(ConstructorCommand.java:69)\r\n\tat py4j.ClientServerConnection.waitForCommands(ClientServerConnection.java:182)\r\n\tat py4j.ClientServerConnection.run(ClientServerConnection.java:106)\r\n\tat java.lang.Thread.run(Thread.java:748)\r\nCaused by: java.io.FileNotFoundException: java.io.FileNotFoundException: HADOOP_HOME and hadoop.home.dir are unset. -see https://wiki.apache.org/hadoop/WindowsProblems\r\n\tat org.apache.hadoop.util.Shell.fileNotFoundException(Shell.java:548)\r\n\tat org.apache.hadoop.util.Shell.getHadoopHomeDir(Shell.java:569)\r\n\tat org.apache.hadoop.util.Shell.getQualifiedBin(Shell.java:592)\r\n\tat org.apache.hadoop.util.Shell.<clinit>(Shell.java:689)\r\n\tat org.apache.hadoop.util.StringUtils.<clinit>(StringUtils.java:79)\r\n\tat org.apache.hadoop.conf.Configuration.getTimeDurationHelper(Configuration.java:1886)\r\n\tat org.apache.hadoop.conf.Configuration.getTimeDuration(Configuration.java:1846)\r\n\tat org.apache.hadoop.conf.Configuration.getTimeDuration(Configuration.java:1819)\r\n\tat org.apache.hadoop.util.ShutdownHookManager.getShutdownTimeout(ShutdownHookManager.java:183)\r\n\tat org.apache.hadoop.util.ShutdownHookManager$HookEntry.<init>(ShutdownHookManager.java:207)\r\n\tat org.apache.hadoop.util.ShutdownHookManager.addShutdownHook(ShutdownHookManager.java:304)\r\n\tat org.apache.spark.util.SparkShutdownHookManager.install(ShutdownHookManager.scala:181)\r\n\tat org.apache.spark.util.ShutdownHookManager$.shutdownHooks$lzycompute(ShutdownHookManager.scala:50)\r\n\tat org.apache.spark.util.ShutdownHookManager$.shutdownHooks(ShutdownHookManager.scala:48)\r\n\tat org.apache.spark.util.ShutdownHookManager$.addShutdownHook(ShutdownHookManager.scala:153)\r\n\tat org.apache.spark.util.ShutdownHookManager$.<init>(ShutdownHookManager.scala:58)\r\n\tat org.apache.spark.util.ShutdownHookManager$.<clinit>(ShutdownHookManager.scala)\r\n\tat org.apache.spark.util.Utils$.createTempDir(Utils.scala:335)\r\n\tat org.apache.spark.deploy.SparkSubmit.prepareSubmitEnvironment(SparkSubmit.scala:344)\r\n\tat org.apache.spark.deploy.SparkSubmit.org$apache$spark$deploy$SparkSubmit$$runMain(SparkSubmit.scala:898)\r\n\tat org.apache.spark.deploy.SparkSubmit.doRunMain$1(SparkSubmit.scala:180)\r\n\tat org.apache.spark.deploy.SparkSubmit.submit(SparkSubmit.scala:203)\r\n\tat org.apache.spark.deploy.SparkSubmit.doSubmit(SparkSubmit.scala:90)\r\n\tat org.apache.spark.deploy.SparkSubmit$$anon$2.doSubmit(SparkSubmit.scala:1043)\r\n\tat org.apache.spark.deploy.SparkSubmit$.main(SparkSubmit.scala:1052)\r\n\tat org.apache.spark.deploy.SparkSubmit.main(SparkSubmit.scala)\r\nCaused by: java.io.FileNotFoundException: HADOOP_HOME and hadoop.home.dir are unset.\r\n\tat org.apache.hadoop.util.Shell.checkHadoopHomeInner(Shell.java:468)\r\n\tat org.apache.hadoop.util.Shell.checkHadoopHome(Shell.java:439)\r\n\tat org.apache.hadoop.util.Shell.<clinit>(Shell.java:516)\r\n\t... 22 more\r\n",
     "output_type": "error",
     "traceback": [
      "\u001b[1;31m---------------------------------------------------------------------------\u001b[0m",
      "\u001b[1;31mPy4JJavaError\u001b[0m                             Traceback (most recent call last)",
      "Input \u001b[1;32mIn [2]\u001b[0m, in \u001b[0;36m<cell line: 11>\u001b[1;34m()\u001b[0m\n\u001b[0;32m      8\u001b[0m conf\u001b[38;5;241m.\u001b[39mset(\u001b[38;5;124m'\u001b[39m\u001b[38;5;124mspark.hadoop.fs.s3a.aws.credentials.provider\u001b[39m\u001b[38;5;124m'\u001b[39m, \u001b[38;5;124m'\u001b[39m\u001b[38;5;124mcom.amazonaws.auth.InstanceProfileCredentialsProvider\u001b[39m\u001b[38;5;124m'\u001b[39m)\n\u001b[0;32m      9\u001b[0m conf\u001b[38;5;241m.\u001b[39mset(\u001b[38;5;124m\"\u001b[39m\u001b[38;5;124mspark.sql.execution.arrow.enabled\u001b[39m\u001b[38;5;124m\"\u001b[39m,\u001b[38;5;124m\"\u001b[39m\u001b[38;5;124mtrue\u001b[39m\u001b[38;5;124m\"\u001b[39m)\n\u001b[0;32m     11\u001b[0m spark \u001b[38;5;241m=\u001b[39m \u001b[43mSparkSession\u001b[49m\u001b[38;5;241;43m.\u001b[39;49m\u001b[43mbuilder\u001b[49m\u001b[43m \u001b[49m\u001b[43m\\\u001b[49m\n\u001b[0;32m     12\u001b[0m \u001b[38;5;241;43m.\u001b[39;49m\u001b[43mappName\u001b[49m\u001b[43m(\u001b[49m\u001b[38;5;124;43m\"\u001b[39;49m\u001b[38;5;124;43mCENSO\u001b[39;49m\u001b[38;5;124;43m\"\u001b[39;49m\u001b[43m)\u001b[49m\u001b[43m \u001b[49m\u001b[43m\\\u001b[49m\n\u001b[0;32m     13\u001b[0m \u001b[38;5;241;43m.\u001b[39;49m\u001b[43mconfig\u001b[49m\u001b[43m(\u001b[49m\u001b[43mconf\u001b[49m\u001b[38;5;241;43m=\u001b[39;49m\u001b[43mconf\u001b[49m\u001b[43m)\u001b[49m\u001b[43m \u001b[49m\u001b[43m\\\u001b[49m\n\u001b[1;32m---> 14\u001b[0m \u001b[38;5;241;43m.\u001b[39;49m\u001b[43mgetOrCreate\u001b[49m\u001b[43m(\u001b[49m\u001b[43m)\u001b[49m\n\u001b[0;32m     16\u001b[0m sqlCtx \u001b[38;5;241m=\u001b[39m SQLContext(spark)\n",
      "File \u001b[1;32m~\\AppData\\Local\\Programs\\Python\\Python310\\lib\\site-packages\\pyspark\\sql\\session.py:228\u001b[0m, in \u001b[0;36mSparkSession.Builder.getOrCreate\u001b[1;34m(self)\u001b[0m\n\u001b[0;32m    226\u001b[0m         sparkConf\u001b[38;5;241m.\u001b[39mset(key, value)\n\u001b[0;32m    227\u001b[0m     \u001b[38;5;66;03m# This SparkContext may be an existing one.\u001b[39;00m\n\u001b[1;32m--> 228\u001b[0m     sc \u001b[38;5;241m=\u001b[39m \u001b[43mSparkContext\u001b[49m\u001b[38;5;241;43m.\u001b[39;49m\u001b[43mgetOrCreate\u001b[49m\u001b[43m(\u001b[49m\u001b[43msparkConf\u001b[49m\u001b[43m)\u001b[49m\n\u001b[0;32m    229\u001b[0m \u001b[38;5;66;03m# Do not update `SparkConf` for existing `SparkContext`, as it's shared\u001b[39;00m\n\u001b[0;32m    230\u001b[0m \u001b[38;5;66;03m# by all sessions.\u001b[39;00m\n\u001b[0;32m    231\u001b[0m session \u001b[38;5;241m=\u001b[39m SparkSession(sc)\n",
      "File \u001b[1;32m~\\AppData\\Local\\Programs\\Python\\Python310\\lib\\site-packages\\pyspark\\context.py:392\u001b[0m, in \u001b[0;36mSparkContext.getOrCreate\u001b[1;34m(cls, conf)\u001b[0m\n\u001b[0;32m    390\u001b[0m \u001b[38;5;28;01mwith\u001b[39;00m SparkContext\u001b[38;5;241m.\u001b[39m_lock:\n\u001b[0;32m    391\u001b[0m     \u001b[38;5;28;01mif\u001b[39;00m SparkContext\u001b[38;5;241m.\u001b[39m_active_spark_context \u001b[38;5;129;01mis\u001b[39;00m \u001b[38;5;28;01mNone\u001b[39;00m:\n\u001b[1;32m--> 392\u001b[0m         \u001b[43mSparkContext\u001b[49m\u001b[43m(\u001b[49m\u001b[43mconf\u001b[49m\u001b[38;5;241;43m=\u001b[39;49m\u001b[43mconf\u001b[49m\u001b[43m \u001b[49m\u001b[38;5;129;43;01mor\u001b[39;49;00m\u001b[43m \u001b[49m\u001b[43mSparkConf\u001b[49m\u001b[43m(\u001b[49m\u001b[43m)\u001b[49m\u001b[43m)\u001b[49m\n\u001b[0;32m    393\u001b[0m     \u001b[38;5;28;01mreturn\u001b[39;00m SparkContext\u001b[38;5;241m.\u001b[39m_active_spark_context\n",
      "File \u001b[1;32m~\\AppData\\Local\\Programs\\Python\\Python310\\lib\\site-packages\\pyspark\\context.py:146\u001b[0m, in \u001b[0;36mSparkContext.__init__\u001b[1;34m(self, master, appName, sparkHome, pyFiles, environment, batchSize, serializer, conf, gateway, jsc, profiler_cls)\u001b[0m\n\u001b[0;32m    144\u001b[0m SparkContext\u001b[38;5;241m.\u001b[39m_ensure_initialized(\u001b[38;5;28mself\u001b[39m, gateway\u001b[38;5;241m=\u001b[39mgateway, conf\u001b[38;5;241m=\u001b[39mconf)\n\u001b[0;32m    145\u001b[0m \u001b[38;5;28;01mtry\u001b[39;00m:\n\u001b[1;32m--> 146\u001b[0m     \u001b[38;5;28;43mself\u001b[39;49m\u001b[38;5;241;43m.\u001b[39;49m\u001b[43m_do_init\u001b[49m\u001b[43m(\u001b[49m\u001b[43mmaster\u001b[49m\u001b[43m,\u001b[49m\u001b[43m \u001b[49m\u001b[43mappName\u001b[49m\u001b[43m,\u001b[49m\u001b[43m \u001b[49m\u001b[43msparkHome\u001b[49m\u001b[43m,\u001b[49m\u001b[43m \u001b[49m\u001b[43mpyFiles\u001b[49m\u001b[43m,\u001b[49m\u001b[43m \u001b[49m\u001b[43menvironment\u001b[49m\u001b[43m,\u001b[49m\u001b[43m \u001b[49m\u001b[43mbatchSize\u001b[49m\u001b[43m,\u001b[49m\u001b[43m \u001b[49m\u001b[43mserializer\u001b[49m\u001b[43m,\u001b[49m\n\u001b[0;32m    147\u001b[0m \u001b[43m                  \u001b[49m\u001b[43mconf\u001b[49m\u001b[43m,\u001b[49m\u001b[43m \u001b[49m\u001b[43mjsc\u001b[49m\u001b[43m,\u001b[49m\u001b[43m \u001b[49m\u001b[43mprofiler_cls\u001b[49m\u001b[43m)\u001b[49m\n\u001b[0;32m    148\u001b[0m \u001b[38;5;28;01mexcept\u001b[39;00m:\n\u001b[0;32m    149\u001b[0m     \u001b[38;5;66;03m# If an error occurs, clean up in order to allow future SparkContext creation:\u001b[39;00m\n\u001b[0;32m    150\u001b[0m     \u001b[38;5;28mself\u001b[39m\u001b[38;5;241m.\u001b[39mstop()\n",
      "File \u001b[1;32m~\\AppData\\Local\\Programs\\Python\\Python310\\lib\\site-packages\\pyspark\\context.py:209\u001b[0m, in \u001b[0;36mSparkContext._do_init\u001b[1;34m(self, master, appName, sparkHome, pyFiles, environment, batchSize, serializer, conf, jsc, profiler_cls)\u001b[0m\n\u001b[0;32m    206\u001b[0m \u001b[38;5;28mself\u001b[39m\u001b[38;5;241m.\u001b[39menvironment[\u001b[38;5;124m\"\u001b[39m\u001b[38;5;124mPYTHONHASHSEED\u001b[39m\u001b[38;5;124m\"\u001b[39m] \u001b[38;5;241m=\u001b[39m os\u001b[38;5;241m.\u001b[39menviron\u001b[38;5;241m.\u001b[39mget(\u001b[38;5;124m\"\u001b[39m\u001b[38;5;124mPYTHONHASHSEED\u001b[39m\u001b[38;5;124m\"\u001b[39m, \u001b[38;5;124m\"\u001b[39m\u001b[38;5;124m0\u001b[39m\u001b[38;5;124m\"\u001b[39m)\n\u001b[0;32m    208\u001b[0m \u001b[38;5;66;03m# Create the Java SparkContext through Py4J\u001b[39;00m\n\u001b[1;32m--> 209\u001b[0m \u001b[38;5;28mself\u001b[39m\u001b[38;5;241m.\u001b[39m_jsc \u001b[38;5;241m=\u001b[39m jsc \u001b[38;5;129;01mor\u001b[39;00m \u001b[38;5;28;43mself\u001b[39;49m\u001b[38;5;241;43m.\u001b[39;49m\u001b[43m_initialize_context\u001b[49m\u001b[43m(\u001b[49m\u001b[38;5;28;43mself\u001b[39;49m\u001b[38;5;241;43m.\u001b[39;49m\u001b[43m_conf\u001b[49m\u001b[38;5;241;43m.\u001b[39;49m\u001b[43m_jconf\u001b[49m\u001b[43m)\u001b[49m\n\u001b[0;32m    210\u001b[0m \u001b[38;5;66;03m# Reset the SparkConf to the one actually used by the SparkContext in JVM.\u001b[39;00m\n\u001b[0;32m    211\u001b[0m \u001b[38;5;28mself\u001b[39m\u001b[38;5;241m.\u001b[39m_conf \u001b[38;5;241m=\u001b[39m SparkConf(_jconf\u001b[38;5;241m=\u001b[39m\u001b[38;5;28mself\u001b[39m\u001b[38;5;241m.\u001b[39m_jsc\u001b[38;5;241m.\u001b[39msc()\u001b[38;5;241m.\u001b[39mconf())\n",
      "File \u001b[1;32m~\\AppData\\Local\\Programs\\Python\\Python310\\lib\\site-packages\\pyspark\\context.py:329\u001b[0m, in \u001b[0;36mSparkContext._initialize_context\u001b[1;34m(self, jconf)\u001b[0m\n\u001b[0;32m    325\u001b[0m \u001b[38;5;28;01mdef\u001b[39;00m \u001b[38;5;21m_initialize_context\u001b[39m(\u001b[38;5;28mself\u001b[39m, jconf):\n\u001b[0;32m    326\u001b[0m     \u001b[38;5;124;03m\"\"\"\u001b[39;00m\n\u001b[0;32m    327\u001b[0m \u001b[38;5;124;03m    Initialize SparkContext in function to allow subclass specific initialization\u001b[39;00m\n\u001b[0;32m    328\u001b[0m \u001b[38;5;124;03m    \"\"\"\u001b[39;00m\n\u001b[1;32m--> 329\u001b[0m     \u001b[38;5;28;01mreturn\u001b[39;00m \u001b[38;5;28;43mself\u001b[39;49m\u001b[38;5;241;43m.\u001b[39;49m\u001b[43m_jvm\u001b[49m\u001b[38;5;241;43m.\u001b[39;49m\u001b[43mJavaSparkContext\u001b[49m\u001b[43m(\u001b[49m\u001b[43mjconf\u001b[49m\u001b[43m)\u001b[49m\n",
      "File \u001b[1;32m~\\AppData\\Local\\Programs\\Python\\Python310\\lib\\site-packages\\py4j\\java_gateway.py:1585\u001b[0m, in \u001b[0;36mJavaClass.__call__\u001b[1;34m(self, *args)\u001b[0m\n\u001b[0;32m   1579\u001b[0m command \u001b[38;5;241m=\u001b[39m proto\u001b[38;5;241m.\u001b[39mCONSTRUCTOR_COMMAND_NAME \u001b[38;5;241m+\u001b[39m\\\n\u001b[0;32m   1580\u001b[0m     \u001b[38;5;28mself\u001b[39m\u001b[38;5;241m.\u001b[39m_command_header \u001b[38;5;241m+\u001b[39m\\\n\u001b[0;32m   1581\u001b[0m     args_command \u001b[38;5;241m+\u001b[39m\\\n\u001b[0;32m   1582\u001b[0m     proto\u001b[38;5;241m.\u001b[39mEND_COMMAND_PART\n\u001b[0;32m   1584\u001b[0m answer \u001b[38;5;241m=\u001b[39m \u001b[38;5;28mself\u001b[39m\u001b[38;5;241m.\u001b[39m_gateway_client\u001b[38;5;241m.\u001b[39msend_command(command)\n\u001b[1;32m-> 1585\u001b[0m return_value \u001b[38;5;241m=\u001b[39m \u001b[43mget_return_value\u001b[49m\u001b[43m(\u001b[49m\n\u001b[0;32m   1586\u001b[0m \u001b[43m    \u001b[49m\u001b[43manswer\u001b[49m\u001b[43m,\u001b[49m\u001b[43m \u001b[49m\u001b[38;5;28;43mself\u001b[39;49m\u001b[38;5;241;43m.\u001b[39;49m\u001b[43m_gateway_client\u001b[49m\u001b[43m,\u001b[49m\u001b[43m \u001b[49m\u001b[38;5;28;43;01mNone\u001b[39;49;00m\u001b[43m,\u001b[49m\u001b[43m \u001b[49m\u001b[38;5;28;43mself\u001b[39;49m\u001b[38;5;241;43m.\u001b[39;49m\u001b[43m_fqn\u001b[49m\u001b[43m)\u001b[49m\n\u001b[0;32m   1588\u001b[0m \u001b[38;5;28;01mfor\u001b[39;00m temp_arg \u001b[38;5;129;01min\u001b[39;00m temp_args:\n\u001b[0;32m   1589\u001b[0m     temp_arg\u001b[38;5;241m.\u001b[39m_detach()\n",
      "File \u001b[1;32m~\\AppData\\Local\\Programs\\Python\\Python310\\lib\\site-packages\\py4j\\protocol.py:326\u001b[0m, in \u001b[0;36mget_return_value\u001b[1;34m(answer, gateway_client, target_id, name)\u001b[0m\n\u001b[0;32m    324\u001b[0m value \u001b[38;5;241m=\u001b[39m OUTPUT_CONVERTER[\u001b[38;5;28mtype\u001b[39m](answer[\u001b[38;5;241m2\u001b[39m:], gateway_client)\n\u001b[0;32m    325\u001b[0m \u001b[38;5;28;01mif\u001b[39;00m answer[\u001b[38;5;241m1\u001b[39m] \u001b[38;5;241m==\u001b[39m REFERENCE_TYPE:\n\u001b[1;32m--> 326\u001b[0m     \u001b[38;5;28;01mraise\u001b[39;00m Py4JJavaError(\n\u001b[0;32m    327\u001b[0m         \u001b[38;5;124m\"\u001b[39m\u001b[38;5;124mAn error occurred while calling \u001b[39m\u001b[38;5;132;01m{0}\u001b[39;00m\u001b[38;5;132;01m{1}\u001b[39;00m\u001b[38;5;132;01m{2}\u001b[39;00m\u001b[38;5;124m.\u001b[39m\u001b[38;5;130;01m\\n\u001b[39;00m\u001b[38;5;124m\"\u001b[39m\u001b[38;5;241m.\u001b[39m\n\u001b[0;32m    328\u001b[0m         \u001b[38;5;28mformat\u001b[39m(target_id, \u001b[38;5;124m\"\u001b[39m\u001b[38;5;124m.\u001b[39m\u001b[38;5;124m\"\u001b[39m, name), value)\n\u001b[0;32m    329\u001b[0m \u001b[38;5;28;01melse\u001b[39;00m:\n\u001b[0;32m    330\u001b[0m     \u001b[38;5;28;01mraise\u001b[39;00m Py4JError(\n\u001b[0;32m    331\u001b[0m         \u001b[38;5;124m\"\u001b[39m\u001b[38;5;124mAn error occurred while calling \u001b[39m\u001b[38;5;132;01m{0}\u001b[39;00m\u001b[38;5;132;01m{1}\u001b[39;00m\u001b[38;5;132;01m{2}\u001b[39;00m\u001b[38;5;124m. Trace:\u001b[39m\u001b[38;5;130;01m\\n\u001b[39;00m\u001b[38;5;132;01m{3}\u001b[39;00m\u001b[38;5;130;01m\\n\u001b[39;00m\u001b[38;5;124m\"\u001b[39m\u001b[38;5;241m.\u001b[39m\n\u001b[0;32m    332\u001b[0m         \u001b[38;5;28mformat\u001b[39m(target_id, \u001b[38;5;124m\"\u001b[39m\u001b[38;5;124m.\u001b[39m\u001b[38;5;124m\"\u001b[39m, name, value))\n",
      "\u001b[1;31mPy4JJavaError\u001b[0m: An error occurred while calling None.org.apache.spark.api.java.JavaSparkContext.\n: java.lang.RuntimeException: java.io.FileNotFoundException: java.io.FileNotFoundException: HADOOP_HOME and hadoop.home.dir are unset. -see https://wiki.apache.org/hadoop/WindowsProblems\r\n\tat org.apache.hadoop.util.Shell.getWinUtilsPath(Shell.java:736)\r\n\tat org.apache.hadoop.util.Shell.getSetPermissionCommand(Shell.java:271)\r\n\tat org.apache.hadoop.fs.FileUtil.chmod(FileUtil.java:1105)\r\n\tat org.apache.hadoop.fs.FileUtil.chmod(FileUtil.java:1091)\r\n\tat org.apache.spark.util.Utils$.fetchFile(Utils.scala:571)\r\n\tat org.apache.spark.SparkContext.addFile(SparkContext.scala:1633)\r\n\tat org.apache.spark.SparkContext.$anonfun$new$13(SparkContext.scala:510)\r\n\tat org.apache.spark.SparkContext.$anonfun$new$13$adapted(SparkContext.scala:510)\r\n\tat scala.collection.immutable.List.foreach(List.scala:431)\r\n\tat org.apache.spark.SparkContext.<init>(SparkContext.scala:510)\r\n\tat org.apache.spark.api.java.JavaSparkContext.<init>(JavaSparkContext.scala:58)\r\n\tat sun.reflect.NativeConstructorAccessorImpl.newInstance0(Native Method)\r\n\tat sun.reflect.NativeConstructorAccessorImpl.newInstance(NativeConstructorAccessorImpl.java:62)\r\n\tat sun.reflect.DelegatingConstructorAccessorImpl.newInstance(DelegatingConstructorAccessorImpl.java:45)\r\n\tat java.lang.reflect.Constructor.newInstance(Constructor.java:423)\r\n\tat py4j.reflection.MethodInvoker.invoke(MethodInvoker.java:247)\r\n\tat py4j.reflection.ReflectionEngine.invoke(ReflectionEngine.java:357)\r\n\tat py4j.Gateway.invoke(Gateway.java:238)\r\n\tat py4j.commands.ConstructorCommand.invokeConstructor(ConstructorCommand.java:80)\r\n\tat py4j.commands.ConstructorCommand.execute(ConstructorCommand.java:69)\r\n\tat py4j.ClientServerConnection.waitForCommands(ClientServerConnection.java:182)\r\n\tat py4j.ClientServerConnection.run(ClientServerConnection.java:106)\r\n\tat java.lang.Thread.run(Thread.java:748)\r\nCaused by: java.io.FileNotFoundException: java.io.FileNotFoundException: HADOOP_HOME and hadoop.home.dir are unset. -see https://wiki.apache.org/hadoop/WindowsProblems\r\n\tat org.apache.hadoop.util.Shell.fileNotFoundException(Shell.java:548)\r\n\tat org.apache.hadoop.util.Shell.getHadoopHomeDir(Shell.java:569)\r\n\tat org.apache.hadoop.util.Shell.getQualifiedBin(Shell.java:592)\r\n\tat org.apache.hadoop.util.Shell.<clinit>(Shell.java:689)\r\n\tat org.apache.hadoop.util.StringUtils.<clinit>(StringUtils.java:79)\r\n\tat org.apache.hadoop.conf.Configuration.getTimeDurationHelper(Configuration.java:1886)\r\n\tat org.apache.hadoop.conf.Configuration.getTimeDuration(Configuration.java:1846)\r\n\tat org.apache.hadoop.conf.Configuration.getTimeDuration(Configuration.java:1819)\r\n\tat org.apache.hadoop.util.ShutdownHookManager.getShutdownTimeout(ShutdownHookManager.java:183)\r\n\tat org.apache.hadoop.util.ShutdownHookManager$HookEntry.<init>(ShutdownHookManager.java:207)\r\n\tat org.apache.hadoop.util.ShutdownHookManager.addShutdownHook(ShutdownHookManager.java:304)\r\n\tat org.apache.spark.util.SparkShutdownHookManager.install(ShutdownHookManager.scala:181)\r\n\tat org.apache.spark.util.ShutdownHookManager$.shutdownHooks$lzycompute(ShutdownHookManager.scala:50)\r\n\tat org.apache.spark.util.ShutdownHookManager$.shutdownHooks(ShutdownHookManager.scala:48)\r\n\tat org.apache.spark.util.ShutdownHookManager$.addShutdownHook(ShutdownHookManager.scala:153)\r\n\tat org.apache.spark.util.ShutdownHookManager$.<init>(ShutdownHookManager.scala:58)\r\n\tat org.apache.spark.util.ShutdownHookManager$.<clinit>(ShutdownHookManager.scala)\r\n\tat org.apache.spark.util.Utils$.createTempDir(Utils.scala:335)\r\n\tat org.apache.spark.deploy.SparkSubmit.prepareSubmitEnvironment(SparkSubmit.scala:344)\r\n\tat org.apache.spark.deploy.SparkSubmit.org$apache$spark$deploy$SparkSubmit$$runMain(SparkSubmit.scala:898)\r\n\tat org.apache.spark.deploy.SparkSubmit.doRunMain$1(SparkSubmit.scala:180)\r\n\tat org.apache.spark.deploy.SparkSubmit.submit(SparkSubmit.scala:203)\r\n\tat org.apache.spark.deploy.SparkSubmit.doSubmit(SparkSubmit.scala:90)\r\n\tat org.apache.spark.deploy.SparkSubmit$$anon$2.doSubmit(SparkSubmit.scala:1043)\r\n\tat org.apache.spark.deploy.SparkSubmit$.main(SparkSubmit.scala:1052)\r\n\tat org.apache.spark.deploy.SparkSubmit.main(SparkSubmit.scala)\r\nCaused by: java.io.FileNotFoundException: HADOOP_HOME and hadoop.home.dir are unset.\r\n\tat org.apache.hadoop.util.Shell.checkHadoopHomeInner(Shell.java:468)\r\n\tat org.apache.hadoop.util.Shell.checkHadoopHome(Shell.java:439)\r\n\tat org.apache.hadoop.util.Shell.<clinit>(Shell.java:516)\r\n\t... 22 more\r\n"
     ]
    }
   ],
   "source": [
    "from pyspark.sql import pandas\n",
    "from pyspark import SparkConf\n",
    "from pyspark.sql import SparkSession\n",
    "from pyspark.sql import SQLContext\n",
    "\n",
    "conf = SparkConf()\n",
    "conf.set('spark.jars.packages', 'org.apache.hadoop:hadoop-aws:3.2.2,com.microsoft.azure:spark-mssql-connector_2.12:1.2.0')\n",
    "conf.set('spark.hadoop.fs.s3a.aws.credentials.provider', 'com.amazonaws.auth.InstanceProfileCredentialsProvider')\n",
    "conf.set(\"spark.sql.execution.arrow.enabled\",\"true\")\n",
    "\n",
    "spark = SparkSession.builder \\\n",
    ".appName(\"CENSO\") \\\n",
    ".config(conf=conf) \\\n",
    ".getOrCreate()\n",
    "\n",
    "sqlCtx = SQLContext(spark)"
   ]
  },
  {
   "cell_type": "code",
   "execution_count": 3,
   "metadata": {},
   "outputs": [
    {
     "data": {
      "application/vnd.jupyter.widget-view+json": {
       "model_id": "",
       "version_major": 2,
       "version_minor": 0
      },
      "text/plain": [
       "FloatProgress(value=0.0, bar_style='info', description='Progress:', layout=Layout(height='25px', width='50%'),…"
      ]
     },
     "metadata": {},
     "output_type": "display_data"
    }
   ],
   "source": [
    "class Aws_importer():\n",
    "    def save_s3_data(self, df,bucket,folder):\n",
    "        df.write.mode('overwrite').csv('s3a://alex-group2-sptech-bucket-{}/{}'.format(bucket,folder))\n",
    "\n",
    "    def save_data_client_side(self, df,table):\n",
    "        df.write \\\n",
    "            .format('com.microsoft.sqlserver.jdbc.spark') \\\n",
    "            .mode('overwrite') \\\n",
    "            .option('driver', 'com.microsoft.sqlserver.jdbc.SQLServerDriver') \\\n",
    "            .option('url', 'jdbc:sqlserver://grupo02alexandre.database.windows.net:1433;databaseName=grupo02alexandre;') \\\n",
    "            .option('dbtable', 'dbo.{}'.format(table)) \\\n",
    "            .option('user', 'urubu100') \\\n",
    "            .option('password', 'PASSWORD') \\\n",
    "            .save()\n",
    "        \n",
    "class Pandas_Spark():\n",
    "    #transform pandas dataframe into spark dataframe\n",
    "    def equivalent_type(self,f):\n",
    "        if f == 'datetime64[ns]': return TimestampType()\n",
    "        elif f == 'int64': return LongType()\n",
    "        elif f == 'int32': return IntegerType()\n",
    "        elif f == 'float64': return DoubleType()\n",
    "        elif f == 'float32': return FloatType()\n",
    "        else: return StringType()\n",
    "\n",
    "    def define_structure(self,string, format_type):\n",
    "        try: typo = equivalent_type(format_type)\n",
    "        except: typo = StringType()\n",
    "        return StructField(string, typo)\n",
    "\n",
    "    # Given pandas dataframe, it will return a spark's dataframe.\n",
    "    def pandas_to_spark(self,pandas_df):\n",
    "        columns = list(pandas_df.columns)\n",
    "        types = list(pandas_df.dtypes)\n",
    "        struct_list = []\n",
    "        for column, typo in zip(columns, types): \n",
    "          struct_list.append(define_structure(column, typo))\n",
    "        p_schema = StructType(struct_list)\n",
    "        return sqlCtx.createDataFrame(pandas_df, p_schema)\n",
    "\n",
    "s3 = Aws_importer()"
   ]
  },
  {
   "cell_type": "code",
   "execution_count": 4,
   "metadata": {},
   "outputs": [
    {
     "data": {
      "application/vnd.jupyter.widget-view+json": {
       "model_id": "",
       "version_major": 2,
       "version_minor": 0
      },
      "text/plain": [
       "FloatProgress(value=0.0, bar_style='info', description='Progress:', layout=Layout(height='25px', width='50%'),…"
      ]
     },
     "metadata": {},
     "output_type": "display_data"
    }
   ],
   "source": [
    "from pyspark.sql import functions as F\n",
    "from pyspark.sql.functions import monotonically_increasing_id, row_number\n",
    "from pyspark.sql.window import Window\n",
    "from pyspark.sql.types import *\n",
    "from pyspark.sql.functions import sum, max, min, avg, count, mean, round, col\n",
    "import json\n",
    "import functools"
   ]
  },
  {
   "cell_type": "code",
   "execution_count": 5,
   "metadata": {},
   "outputs": [
    {
     "data": {
      "application/vnd.jupyter.widget-view+json": {
       "model_id": "",
       "version_major": 2,
       "version_minor": 0
      },
      "text/plain": [
       "FloatProgress(value=0.0, bar_style='info', description='Progress:', layout=Layout(height='25px', width='50%'),…"
      ]
     },
     "metadata": {},
     "output_type": "display_data"
    }
   ],
   "source": [
    "def unionAll(dfs):\n",
    "    return functools.reduce(lambda df1, df2: df1.union(df2.select(df1.columns)), dfs)"
   ]
  },
  {
   "cell_type": "code",
   "execution_count": 6,
   "metadata": {
    "scrolled": true
   },
   "outputs": [
    {
     "data": {
      "application/vnd.jupyter.widget-view+json": {
       "model_id": "",
       "version_major": 2,
       "version_minor": 0
      },
      "text/plain": [
       "FloatProgress(value=0.0, bar_style='info', description='Progress:', layout=Layout(height='25px', width='50%'),…"
      ]
     },
     "metadata": {},
     "output_type": "display_data"
    }
   ],
   "source": [
    "customType = StructType([\n",
    "    StructField('NU_ANO_CENSO',StringType()),\n",
    "    StructField('NO_REGIAO',StringType()),\n",
    "    StructField('CO_REGIAO',StringType()),\n",
    "    StructField('NO_UF',StringType()),\n",
    "    StructField('SG_UF',StringType()),\n",
    "    StructField('CO_UF',StringType()),\n",
    "    StructField('NO_MUNICIPIO',StringType()),\n",
    "    StructField('CO_MUNICIPIO',StringType()),\n",
    "    StructField('NO_MESORREGIAO',StringType()),\n",
    "    StructField('CO_MESORREGIAO',StringType()),\n",
    "    StructField('NO_MICRORREGIAO',StringType()),\n",
    "    StructField('CO_MICRORREGIAO',StringType()),\n",
    "    StructField('CO_DISTRITO',StringType()),\n",
    "    StructField('CO_ENTIDADE',StringType()),\n",
    "    StructField('NO_ENTIDADE',StringType()),\n",
    "    StructField('TP_DEPENDENCIA',StringType()),\n",
    "    StructField('TP_CATEGORIA_ESCOLA_PRIVADA',StringType()),\n",
    "    StructField('TP_LOCALIZACAO',StringType()),\n",
    "    StructField('TP_LOCALIZACAO_DIFERENCIADA',StringType()),\n",
    "    StructField('DS_ENDERECO',StringType()),\n",
    "    StructField('NU_ENDERECO',StringType()),\n",
    "    StructField('DS_COMPLEMENTO',StringType()),\n",
    "    StructField('NO_BAIRRO',StringType()),\n",
    "    StructField('CO_CEP',StringType()),\n",
    "    StructField('NU_DDD',StringType()),\n",
    "    StructField('NU_TELEFONE',StringType()),\n",
    "    StructField('TP_SITUACAO_FUNCIONAMENTO',StringType()),\n",
    "    StructField('CO_ORGAO_REGIONAL',StringType()),\n",
    "    StructField('DT_ANO_LETIVO_INICIO',StringType()),\n",
    "    StructField('DT_ANO_LETIVO_TERMINO',StringType()),\n",
    "    StructField('IN_VINCULO_SECRETARIA_EDUCACAO',StringType()),\n",
    "    StructField('IN_VINCULO_SEGURANCA_PUBLICA',StringType()),\n",
    "    StructField('IN_VINCULO_SECRETARIA_SAUDE',StringType()),\n",
    "    StructField('IN_VINCULO_OUTRO_ORGAO',StringType()),\n",
    "    StructField('IN_CONVENIADA_PP',StringType()),\n",
    "    StructField('TP_CONVENIO_PODER_PUBLICO',StringType()),\n",
    "    StructField('IN_MANT_ESCOLA_PRIVADA_EMP',StringType()),\n",
    "    StructField('IN_MANT_ESCOLA_PRIVADA_ONG',StringType()),\n",
    "    StructField('IN_MANT_ESCOLA_PRIVADA_OSCIP',StringType()),\n",
    "    StructField('IN_MANT_ESCOLA_PRIV_ONG_OSCIP',StringType()),\n",
    "    StructField('IN_MANT_ESCOLA_PRIVADA_SIND',StringType()),\n",
    "    StructField('IN_MANT_ESCOLA_PRIVADA_SIST_S',StringType()),\n",
    "    StructField('IN_MANT_ESCOLA_PRIVADA_S_FINS',StringType()),\n",
    "    StructField('NU_CNPJ_ESCOLA_PRIVADA',StringType()),\n",
    "    StructField('NU_CNPJ_MANTENEDORA',StringType()),\n",
    "    StructField('TP_REGULAMENTACAO',StringType()),\n",
    "    StructField('TP_RESPONSAVEL_REGULAMENTACAO',StringType()),\n",
    "    StructField('CO_ESCOLA_SEDE_VINCULADA',StringType()),\n",
    "    StructField('CO_IES_OFERTANTE',StringType()),\n",
    "    StructField('IN_LOCAL_FUNC_PREDIO_ESCOLAR',StringType()),\n",
    "    StructField('TP_OCUPACAO_PREDIO_ESCOLAR',StringType()),\n",
    "    StructField('IN_LOCAL_FUNC_SALAS_EMPRESA',StringType()),\n",
    "    StructField('IN_LOCAL_FUNC_SOCIOEDUCATIVO',StringType()),\n",
    "    StructField('IN_LOCAL_FUNC_UNID_PRISIONAL',StringType()),\n",
    "    StructField('IN_LOCAL_FUNC_PRISIONAL_SOCIO',StringType()),\n",
    "    StructField('IN_LOCAL_FUNC_TEMPLO_IGREJA',StringType()),\n",
    "    StructField('IN_LOCAL_FUNC_CASA_PROFESSOR',StringType()),\n",
    "    StructField('IN_LOCAL_FUNC_GALPAO',StringType()),\n",
    "    StructField('TP_OCUPACAO_GALPAO',StringType()),\n",
    "    StructField('IN_LOCAL_FUNC_SALAS_OUTRA_ESC',StringType()),\n",
    "    StructField('IN_LOCAL_FUNC_OUTROS',StringType()),\n",
    "    StructField('IN_PREDIO_COMPARTILHADO',StringType()),\n",
    "    StructField('IN_AGUA_FILTRADA',IntegerType()),\n",
    "    StructField('IN_AGUA_POTAVEL',IntegerType()),\n",
    "    StructField('IN_AGUA_REDE_PUBLICA',IntegerType()),\n",
    "    StructField('IN_AGUA_POCO_ARTESIANO',IntegerType()),\n",
    "    StructField('IN_AGUA_CACIMBA',IntegerType()),\n",
    "    StructField('IN_AGUA_FONTE_RIO',IntegerType()),\n",
    "    StructField('IN_AGUA_INEXISTENTE',IntegerType()),\n",
    "    StructField('IN_ENERGIA_REDE_PUBLICA',IntegerType()),\n",
    "    StructField('IN_ENERGIA_GERADOR',IntegerType()),\n",
    "    StructField('IN_ENERGIA_GERADOR_FOSSIL',IntegerType()),\n",
    "    StructField('IN_ENERGIA_OUTROS',IntegerType()),\n",
    "    StructField('IN_ENERGIA_RENOVAVEL',IntegerType()),\n",
    "    StructField('IN_ENERGIA_INEXISTENTE',IntegerType()),\n",
    "    StructField('IN_ESGOTO_REDE_PUBLICA',IntegerType()),\n",
    "    StructField('IN_ESGOTO_FOSSA_SEPTICA',IntegerType()),\n",
    "    StructField('IN_ESGOTO_FOSSA_COMUM',IntegerType()),\n",
    "    StructField('IN_ESGOTO_FOSSA',IntegerType()),\n",
    "    StructField('IN_ESGOTO_INEXISTENTE',IntegerType()),\n",
    "    StructField('IN_LIXO_SERVICO_COLETA',IntegerType()),\n",
    "    StructField('IN_LIXO_QUEIMA',IntegerType()),\n",
    "    StructField('IN_LIXO_ENTERRA',IntegerType()),\n",
    "    StructField('IN_LIXO_DESTINO_FINAL_PUBLICO',IntegerType()),\n",
    "    StructField('IN_LIXO_DESCARTA_OUTRA_AREA',IntegerType()),\n",
    "    StructField('IN_LIXO_JOGA_OUTRA_AREA',IntegerType()),\n",
    "    StructField('IN_LIXO_OUTROS',IntegerType()),\n",
    "    StructField('IN_LIXO_RECICLA',IntegerType()),\n",
    "    StructField('IN_TRATAMENTO_LIXO_SEPARACAO',IntegerType()),\n",
    "    StructField('IN_TRATAMENTO_LIXO_REUTILIZA',IntegerType()),\n",
    "    StructField('IN_TRATAMENTO_LIXO_RECICLAGEM',IntegerType()),\n",
    "    StructField('IN_TRATAMENTO_LIXO_INEXISTENTE',IntegerType()),\n",
    "    StructField('IN_ALMOXARIFADO',IntegerType()),\n",
    "    StructField('IN_AREA_VERDE',IntegerType()),\n",
    "    StructField('IN_AUDITORIO',IntegerType()),\n",
    "    StructField('IN_BANHEIRO_FORA_PREDIO',IntegerType()),\n",
    "    StructField('IN_BANHEIRO_DENTRO_PREDIO',IntegerType()),\n",
    "    StructField('IN_BANHEIRO',IntegerType()),\n",
    "    StructField('IN_BANHEIRO_EI',IntegerType()),\n",
    "    StructField('IN_BANHEIRO_PNE',IntegerType()),\n",
    "    StructField('IN_BANHEIRO_FUNCIONARIOS',IntegerType()),\n",
    "    StructField('IN_BANHEIRO_CHUVEIRO',IntegerType()),\n",
    "    StructField('IN_BERCARIO',IntegerType()),\n",
    "    StructField('IN_BIBLIOTECA',IntegerType()),\n",
    "    StructField('IN_BIBLIOTECA_SALA_LEITURA',IntegerType()),\n",
    "    StructField('IN_COZINHA',IntegerType()),\n",
    "    StructField('IN_DESPENSA',IntegerType()),\n",
    "    StructField('IN_DORMITORIO_ALUNO',IntegerType()),\n",
    "    StructField('IN_DORMITORIO_PROFESSOR',IntegerType()),\n",
    "    StructField('IN_LABORATORIO_CIENCIAS',IntegerType()),\n",
    "    StructField('IN_LABORATORIO_INFORMATICA',IntegerType()),\n",
    "    StructField('IN_PATIO_COBERTO',IntegerType()),\n",
    "    StructField('IN_PATIO_DESCOBERTO',IntegerType()),\n",
    "    StructField('IN_PARQUE_INFANTIL',IntegerType()),\n",
    "    StructField('IN_PISCINA',IntegerType()),\n",
    "    StructField('IN_QUADRA_ESPORTES',IntegerType()),\n",
    "    StructField('IN_QUADRA_ESPORTES_COBERTA',IntegerType()),\n",
    "    StructField('IN_QUADRA_ESPORTES_DESCOBERTA',IntegerType()),\n",
    "    StructField('IN_REFEITORIO',IntegerType()),\n",
    "    StructField('IN_SALA_ATELIE_ARTES',IntegerType()),\n",
    "    StructField('IN_SALA_MUSICA_CORAL',IntegerType()),\n",
    "    StructField('IN_SALA_ESTUDIO_DANCA',IntegerType()),\n",
    "    StructField('IN_SALA_MULTIUSO',IntegerType()),\n",
    "    StructField('IN_SALA_DIRETORIA',IntegerType()),\n",
    "    StructField('IN_SALA_LEITURA',IntegerType()),\n",
    "    StructField('IN_SALA_PROFESSOR',IntegerType()),\n",
    "    StructField('IN_SALA_REPOUSO_ALUNO',IntegerType()),\n",
    "    StructField('IN_SECRETARIA',IntegerType()),\n",
    "    StructField('IN_SALA_ATENDIMENTO_ESPECIAL',IntegerType()),\n",
    "    StructField('IN_TERREIRAO',IntegerType()),\n",
    "    StructField('IN_VIVEIRO',IntegerType()),\n",
    "    StructField('IN_DEPENDENCIAS_PNE',IntegerType()),\n",
    "    StructField('IN_LAVANDERIA',IntegerType()),\n",
    "    StructField('IN_DEPENDENCIAS_OUTRAS',IntegerType()),\n",
    "    StructField('IN_ACESSIBILIDADE_CORRIMAO',IntegerType()),\n",
    "    StructField('IN_ACESSIBILIDADE_ELEVADOR',IntegerType()),\n",
    "    StructField('IN_ACESSIBILIDADE_PISOS_TATEIS',IntegerType()),\n",
    "    StructField('IN_ACESSIBILIDADE_VAO_LIVRE',IntegerType()),\n",
    "    StructField('IN_ACESSIBILIDADE_RAMPAS',IntegerType()),\n",
    "    StructField('IN_ACESSIBILIDADE_SINAL_SONORO',IntegerType()),\n",
    "    StructField('IN_ACESSIBILIDADE_SINAL_TATIL',IntegerType()),\n",
    "    StructField('IN_ACESSIBILIDADE_SINAL_VISUAL',IntegerType()),\n",
    "    StructField('IN_ACESSIBILIDADE_INEXISTENTE',IntegerType()),\n",
    "    StructField('QT_SALAS_EXISTENTES',IntegerType()),\n",
    "    StructField('QT_SALAS_UTILIZADAS_DENTRO',IntegerType()),\n",
    "    StructField('QT_SALAS_UTILIZADAS_FORA',IntegerType()),\n",
    "    StructField('QT_SALAS_UTILIZADAS',IntegerType()),\n",
    "    StructField('QT_SALAS_UTILIZA_CLIMATIZADAS',IntegerType()),\n",
    "    StructField('QT_SALAS_UTILIZADAS_ACESSIVEIS',IntegerType()),\n",
    "    StructField('IN_EQUIP_PARABOLICA',IntegerType()),\n",
    "    StructField('IN_COMPUTADOR',IntegerType()),\n",
    "    StructField('IN_EQUIP_COPIADORA',IntegerType()),\n",
    "    StructField('IN_EQUIP_IMPRESSORA',IntegerType()),\n",
    "    StructField('IN_EQUIP_IMPRESSORA_MULT',IntegerType()),\n",
    "    StructField('IN_EQUIP_SCANNER',IntegerType()),\n",
    "    StructField('IN_EQUIP_NENHUM',IntegerType()),\n",
    "    StructField('IN_EQUIP_DVD',IntegerType()),\n",
    "    StructField('QT_EQUIP_DVD',IntegerType()),\n",
    "    StructField('IN_EQUIP_SOM',IntegerType()),\n",
    "    StructField('QT_EQUIP_SOM',IntegerType()),\n",
    "    StructField('IN_EQUIP_TV',IntegerType()),\n",
    "    StructField('QT_EQUIP_TV',IntegerType()),\n",
    "    StructField('IN_EQUIP_LOUSA_DIGITAL',IntegerType()),\n",
    "    StructField('QT_EQUIP_LOUSA_DIGITAL',IntegerType()),\n",
    "    StructField('IN_EQUIP_MULTIMIDIA',IntegerType()),\n",
    "    StructField('QT_EQUIP_MULTIMIDIA',IntegerType()),\n",
    "    StructField('IN_EQUIP_VIDEOCASSETE',IntegerType()),\n",
    "    StructField('IN_EQUIP_RETROPROJETOR',IntegerType()),\n",
    "    StructField('IN_EQUIP_FAX',IntegerType()),\n",
    "    StructField('IN_EQUIP_FOTO',IntegerType()),\n",
    "    StructField('QT_EQUIP_VIDEOCASSETE',IntegerType()),\n",
    "    StructField('QT_EQUIP_PARABOLICA',IntegerType()),\n",
    "    StructField('QT_EQUIP_COPIADORA',IntegerType()),\n",
    "    StructField('QT_EQUIP_RETROPROJETOR',IntegerType()),\n",
    "    StructField('QT_EQUIP_IMPRESSORA',IntegerType()),\n",
    "    StructField('QT_EQUIP_IMPRESSORA_MULT',IntegerType()),\n",
    "    StructField('QT_EQUIP_FAX',IntegerType()),\n",
    "    StructField('QT_EQUIP_FOTO',IntegerType()),\n",
    "    StructField('QT_COMP_ALUNO',IntegerType()),\n",
    "    StructField('IN_DESKTOP_ALUNO',IntegerType()),\n",
    "    StructField('QT_DESKTOP_ALUNO',IntegerType()),\n",
    "    StructField('IN_COMP_PORTATIL_ALUNO',IntegerType()),\n",
    "    StructField('QT_COMP_PORTATIL_ALUNO',IntegerType()),\n",
    "    StructField('IN_TABLET_ALUNO',IntegerType()),\n",
    "    StructField('QT_TABLET_ALUNO',IntegerType()),\n",
    "    StructField('QT_COMPUTADOR',IntegerType()),\n",
    "    StructField('QT_COMP_ADMINISTRATIVO',IntegerType()),\n",
    "    StructField('IN_INTERNET',IntegerType()),\n",
    "    StructField('IN_INTERNET_ALUNOS',IntegerType()),\n",
    "    StructField('IN_INTERNET_ADMINISTRATIVO',IntegerType()),\n",
    "    StructField('IN_INTERNET_APRENDIZAGEM',IntegerType()),\n",
    "    StructField('IN_INTERNET_COMUNIDADE',IntegerType()),\n",
    "    StructField('IN_ACESSO_INTERNET_COMPUTADOR',IntegerType()),\n",
    "    StructField('IN_ACES_INTERNET_DISP_PESSOAIS',IntegerType()),\n",
    "    StructField('TP_REDE_LOCAL',IntegerType()),\n",
    "    StructField('IN_BANDA_LARGA',IntegerType()),\n",
    "    StructField('QT_FUNCIONARIOS',IntegerType()),\n",
    "    StructField('IN_PROF_ADMINISTRATIVOS',IntegerType()),\n",
    "    StructField('QT_PROF_ADMINISTRATIVOS',IntegerType()),\n",
    "    StructField('IN_PROF_SERVICOS_GERAIS',IntegerType()),\n",
    "    StructField('QT_PROF_SERVICOS_GERAIS',IntegerType()),\n",
    "    StructField('IN_PROF_BIBLIOTECARIO',IntegerType()),\n",
    "    StructField('QT_PROF_BIBLIOTECARIO',IntegerType()),\n",
    "    StructField('IN_PROF_SAUDE',IntegerType()),\n",
    "    StructField('QT_PROF_SAUDE',IntegerType()),\n",
    "    StructField('IN_PROF_COORDENADOR',IntegerType()),\n",
    "    StructField('QT_PROF_COORDENADOR',IntegerType()),\n",
    "    StructField('IN_PROF_FONAUDIOLOGO',IntegerType()),\n",
    "    StructField('QT_PROF_FONAUDIOLOGO',IntegerType()),\n",
    "    StructField('IN_PROF_NUTRICIONISTA',IntegerType()),\n",
    "    StructField('QT_PROF_NUTRICIONISTA',IntegerType()),\n",
    "    StructField('IN_PROF_PSICOLOGO',IntegerType()),\n",
    "    StructField('QT_PROF_PSICOLOGO',IntegerType()),\n",
    "    StructField('IN_PROF_ALIMENTACAO',IntegerType()),\n",
    "    StructField('QT_PROF_ALIMENTACAO',IntegerType()),\n",
    "    StructField('IN_PROF_PEDAGOGIA',IntegerType()),\n",
    "    StructField('QT_PROF_PEDAGOGIA',IntegerType()),\n",
    "    StructField('IN_PROF_SECRETARIO',IntegerType()),\n",
    "    StructField('QT_PROF_SECRETARIO',IntegerType()),\n",
    "    StructField('IN_PROF_SEGURANCA',IntegerType()),\n",
    "    StructField('QT_PROF_SEGURANCA',IntegerType()),\n",
    "    StructField('IN_PROF_MONITORES',IntegerType()),\n",
    "    StructField('QT_PROF_MONITORES',IntegerType()),\n",
    "    StructField('IN_PROF_GESTAO',IntegerType()),\n",
    "    StructField('QT_PROF_GESTAO',IntegerType()),\n",
    "    StructField('IN_PROF_ASSIST_SOCIAL',IntegerType()),\n",
    "    StructField('QT_PROF_ASSIST_SOCIAL',IntegerType()),\n",
    "    StructField('IN_ALIMENTACAO',IntegerType()),\n",
    "    StructField('IN_SERIE_ANO',IntegerType()),\n",
    "    StructField('IN_PERIODOS_SEMESTRAIS',IntegerType()),\n",
    "    StructField('IN_FUNDAMENTAL_CICLOS',IntegerType()),\n",
    "    StructField('IN_GRUPOS_NAO_SERIADOS',IntegerType()),\n",
    "    StructField('IN_MODULOS',IntegerType()),\n",
    "    StructField('IN_FORMACAO_ALTERNANCIA',IntegerType()),\n",
    "    StructField('IN_MATERIAL_PED_MULTIMIDIA',IntegerType()),\n",
    "    StructField('IN_MATERIAL_PED_INFANTIL',IntegerType()),\n",
    "    StructField('IN_MATERIAL_PED_CIENTIFICO',IntegerType()),\n",
    "    StructField('IN_MATERIAL_PED_DIFUSAO',IntegerType()),\n",
    "    StructField('IN_MATERIAL_PED_MUSICAL',IntegerType()),\n",
    "    StructField('IN_MATERIAL_PED_JOGOS',IntegerType()),\n",
    "    StructField('IN_MATERIAL_PED_ARTISTICAS',IntegerType()),\n",
    "    StructField('IN_MATERIAL_PED_DESPORTIVA',IntegerType()),\n",
    "    StructField('IN_MATERIAL_PED_INDIGENA',IntegerType()),\n",
    "    StructField('IN_MATERIAL_PED_ETNICO',IntegerType()),\n",
    "    StructField('IN_MATERIAL_PED_CAMPO',IntegerType()),\n",
    "    StructField('IN_MATERIAL_PED_NENHUM',IntegerType()),\n",
    "    StructField('IN_MATERIAL_ESP_QUILOMBOLA',IntegerType()),\n",
    "    StructField('IN_MATERIAL_ESP_INDIGENA',IntegerType()),\n",
    "    StructField('IN_MATERIAL_ESP_NAO_UTILIZA',IntegerType()),\n",
    "    StructField('IN_EDUCACAO_INDIGENA',IntegerType()),\n",
    "    StructField('TP_INDIGENA_LINGUA',IntegerType()),\n",
    "    StructField('CO_LINGUA_INDIGENA_1',IntegerType()),\n",
    "    StructField('CO_LINGUA_INDIGENA_2',IntegerType()),\n",
    "    StructField('CO_LINGUA_INDIGENA_3',IntegerType()),\n",
    "    StructField('IN_BRASIL_ALFABETIZADO',IntegerType()),\n",
    "    StructField('IN_FINAL_SEMANA',IntegerType()),\n",
    "    StructField('IN_EXAME_SELECAO',IntegerType()),\n",
    "    StructField('IN_RESERVA_PPI',IntegerType()),\n",
    "    StructField('IN_RESERVA_RENDA',IntegerType()),\n",
    "    StructField('IN_RESERVA_PUBLICA',IntegerType()),\n",
    "    StructField('IN_RESERVA_PCD',IntegerType()),\n",
    "    StructField('IN_RESERVA_OUTROS',IntegerType()),\n",
    "    StructField('IN_RESERVA_NENHUMA',IntegerType()),\n",
    "    StructField('IN_REDES_SOCIAIS',IntegerType()),\n",
    "    StructField('IN_ESPACO_ATIVIDADE',IntegerType()),\n",
    "    StructField('IN_ESPACO_EQUIPAMENTO',IntegerType()),\n",
    "    StructField('IN_ORGAO_ASS_PAIS',IntegerType()),\n",
    "    StructField('IN_ORGAO_ASS_PAIS_MESTRES',IntegerType()),\n",
    "    StructField('IN_ORGAO_CONSELHO_ESCOLAR',IntegerType()),\n",
    "    StructField('IN_ORGAO_GREMIO_ESTUDANTIL',IntegerType()),\n",
    "    StructField('IN_ORGAO_OUTROS',IntegerType()),\n",
    "    StructField('IN_ORGAO_NENHUM',IntegerType()),\n",
    "    StructField('TP_PROPOSTA_PEDAGOGICA',IntegerType()),\n",
    "    StructField('TP_AEE',IntegerType()),\n",
    "    StructField('TP_ATIVIDADE_COMPLEMENTAR',IntegerType()),\n",
    "    StructField('IN_MEDIACAO_PRESENCIAL',IntegerType()),\n",
    "    StructField('IN_MEDIACAO_SEMIPRESENCIAL',IntegerType()),\n",
    "    StructField('IN_MEDIACAO_EAD',IntegerType()),\n",
    "    StructField('IN_REGULAR',IntegerType()),\n",
    "    StructField('IN_DIURNO',IntegerType()),\n",
    "    StructField('IN_NOTURNO',IntegerType()),\n",
    "    StructField('IN_EAD',IntegerType()),\n",
    "    StructField('IN_BAS',IntegerType()),\n",
    "    StructField('IN_INF',IntegerType()),\n",
    "    StructField('IN_INF_CRE',IntegerType()),\n",
    "    StructField('IN_INF_PRE',IntegerType()),\n",
    "    StructField('IN_FUND',IntegerType()),\n",
    "    StructField('IN_FUND_AI',IntegerType()),\n",
    "    StructField('IN_FUND_AF',IntegerType()),\n",
    "    StructField('IN_MED',IntegerType()),\n",
    "    StructField('IN_PROF',IntegerType()),\n",
    "    StructField('IN_PROF_TEC',IntegerType()),\n",
    "    StructField('IN_EJA',IntegerType()),\n",
    "    StructField('IN_EJA_FUND',IntegerType()),\n",
    "    StructField('IN_EJA_MED',IntegerType()),\n",
    "    StructField('IN_ESP',IntegerType()),\n",
    "    StructField('IN_ESP_CC',IntegerType()),\n",
    "    StructField('IN_ESP_CE',IntegerType()),\n",
    "    StructField('QT_MAT_BAS',IntegerType()),\n",
    "    StructField('QT_MAT_INF',IntegerType()),\n",
    "    StructField('QT_MAT_INF_CRE',IntegerType()),\n",
    "    StructField('QT_MAT_INF_PRE',IntegerType()),\n",
    "    StructField('QT_MAT_FUND',IntegerType()),\n",
    "    StructField('QT_MAT_FUND_AI',IntegerType()),\n",
    "    StructField('QT_MAT_FUND_AF',IntegerType()),\n",
    "    StructField('QT_MAT_MED',IntegerType()),\n",
    "    StructField('QT_MAT_PROF',IntegerType()),\n",
    "    StructField('QT_MAT_PROF_TEC',IntegerType()),\n",
    "    StructField('QT_MAT_EJA',IntegerType()),\n",
    "    StructField('QT_MAT_EJA_FUND',IntegerType()),\n",
    "    StructField('QT_MAT_EJA_MED',IntegerType()),\n",
    "    StructField('QT_MAT_ESP',IntegerType()),\n",
    "    StructField('QT_MAT_ESP_CC',IntegerType()),\n",
    "    StructField('QT_MAT_ESP_CE',IntegerType()),\n",
    "    StructField('QT_MAT_BAS_FEM',IntegerType()),\n",
    "    StructField('QT_MAT_BAS_MASC',IntegerType()),\n",
    "    StructField('QT_MAT_BAS_ND',IntegerType()),\n",
    "    StructField('QT_MAT_BAS_BRANCA',IntegerType()),\n",
    "    StructField('QT_MAT_BAS_PRETA',IntegerType()),\n",
    "    StructField('QT_MAT_BAS_PARDA',IntegerType()),\n",
    "    StructField('QT_MAT_BAS_AMARELA',IntegerType()),\n",
    "    StructField('QT_MAT_BAS_INDIGENA',IntegerType()),\n",
    "    StructField('QT_MAT_BAS_0_3',IntegerType()),\n",
    "    StructField('QT_MAT_BAS_4_5',IntegerType()),\n",
    "    StructField('QT_MAT_BAS_6_10',IntegerType()),\n",
    "    StructField('QT_MAT_BAS_11_14',IntegerType()),\n",
    "    StructField('QT_MAT_BAS_15_17',IntegerType()),\n",
    "    StructField('QT_MAT_BAS_18_MAIS',IntegerType()),\n",
    "    StructField('QT_MAT_BAS_D',IntegerType()),\n",
    "    StructField('QT_MAT_BAS_N',IntegerType()),\n",
    "    StructField('QT_MAT_BAS_EAD',IntegerType()),\n",
    "    StructField('QT_MAT_INF_INT',IntegerType()),\n",
    "    StructField('QT_MAT_INF_CRE_INT',IntegerType()),\n",
    "    StructField('QT_MAT_INF_PRE_INT',IntegerType()),\n",
    "    StructField('QT_MAT_FUND_INT',IntegerType()),\n",
    "    StructField('QT_MAT_FUND_AI_INT',IntegerType()),\n",
    "    StructField('QT_MAT_FUND_AF_INT',IntegerType()),\n",
    "    StructField('QT_MAT_MED_INT',IntegerType()),\n",
    "    StructField('QT_DOC_BAS',IntegerType()),\n",
    "    StructField('QT_DOC_INF',IntegerType()),\n",
    "    StructField('QT_DOC_INF_CRE',IntegerType()),\n",
    "    StructField('QT_DOC_INF_PRE',IntegerType()),\n",
    "    StructField('QT_DOC_FUND',IntegerType()),\n",
    "    StructField('QT_DOC_FUND_AI',IntegerType()),\n",
    "    StructField('QT_DOC_FUND_AF',IntegerType()),\n",
    "    StructField('QT_DOC_MED',IntegerType()),\n",
    "    StructField('QT_DOC_PROF',IntegerType()),\n",
    "    StructField('QT_DOC_PROF_TEC',IntegerType()),\n",
    "    StructField('QT_DOC_EJA',IntegerType()),\n",
    "    StructField('QT_DOC_EJA_FUND',IntegerType()),\n",
    "    StructField('QT_DOC_EJA_MED',IntegerType()),\n",
    "    StructField('QT_DOC_ESP',IntegerType()),\n",
    "    StructField('QT_DOC_ESP_CC',IntegerType()),\n",
    "    StructField('QT_DOC_ESP_CE',IntegerType()),\n",
    "    StructField('QT_TUR_BAS',IntegerType()),\n",
    "    StructField('QT_TUR_INF',IntegerType()),\n",
    "    StructField('QT_TUR_INF_CRE',IntegerType()),\n",
    "    StructField('QT_TUR_INF_PRE',IntegerType()),\n",
    "    StructField('QT_TUR_FUND',IntegerType()),\n",
    "    StructField('QT_TUR_FUND_AI',IntegerType()),\n",
    "    StructField('QT_TUR_FUND_AF',IntegerType()),\n",
    "    StructField('QT_TUR_MED',IntegerType()),\n",
    "    StructField('QT_TUR_PROF',IntegerType()),\n",
    "    StructField('QT_TUR_PROF_TEC',IntegerType()),\n",
    "    StructField('QT_TUR_EJA',IntegerType()),\n",
    "    StructField('QT_TUR_EJA_FUND',IntegerType()),\n",
    "    StructField('QT_TUR_EJA_MED',IntegerType()),\n",
    "    StructField('QT_TUR_ESP',IntegerType()),\n",
    "    StructField('QT_TUR_ESP_CC',IntegerType()),\n",
    "    StructField('QT_TUR_ESP_CE',IntegerType())\n",
    "])"
   ]
  },
  {
   "cell_type": "code",
   "execution_count": 7,
   "metadata": {},
   "outputs": [
    {
     "data": {
      "application/vnd.jupyter.widget-view+json": {
       "model_id": "",
       "version_major": 2,
       "version_minor": 0
      },
      "text/plain": [
       "FloatProgress(value=0.0, bar_style='info', description='Progress:', layout=Layout(height='25px', width='50%'),…"
      ]
     },
     "metadata": {},
     "output_type": "display_data"
    }
   ],
   "source": [
    "censo2018DF = spark.read.option('delimiter', ';').option('header', 'true').csv('s3a://alex-group2-sptech-bucket-brutos/microdados_ed_basica_2018.csv',schema=customType)"
   ]
  },
  {
   "cell_type": "code",
   "execution_count": 8,
   "metadata": {},
   "outputs": [
    {
     "data": {
      "application/vnd.jupyter.widget-view+json": {
       "model_id": "",
       "version_major": 2,
       "version_minor": 0
      },
      "text/plain": [
       "FloatProgress(value=0.0, bar_style='info', description='Progress:', layout=Layout(height='25px', width='50%'),…"
      ]
     },
     "metadata": {},
     "output_type": "display_data"
    }
   ],
   "source": [
    "censo2019DF = spark.read.option('delimiter', ';').option('header', 'true').csv('s3a://alex-group2-sptech-bucket-brutos/microdados_ed_basica_2019.csv',schema=customType)"
   ]
  },
  {
   "cell_type": "code",
   "execution_count": 9,
   "metadata": {},
   "outputs": [
    {
     "data": {
      "application/vnd.jupyter.widget-view+json": {
       "model_id": "",
       "version_major": 2,
       "version_minor": 0
      },
      "text/plain": [
       "FloatProgress(value=0.0, bar_style='info', description='Progress:', layout=Layout(height='25px', width='50%'),…"
      ]
     },
     "metadata": {},
     "output_type": "display_data"
    }
   ],
   "source": [
    "censo2020DF = spark.read.option('delimiter', ';').option('header', 'true').csv('s3a://alex-group2-sptech-bucket-brutos/microdados_ed_basica_2020.CSV',schema=customType)"
   ]
  },
  {
   "cell_type": "code",
   "execution_count": 10,
   "metadata": {},
   "outputs": [
    {
     "data": {
      "application/vnd.jupyter.widget-view+json": {
       "model_id": "",
       "version_major": 2,
       "version_minor": 0
      },
      "text/plain": [
       "FloatProgress(value=0.0, bar_style='info', description='Progress:', layout=Layout(height='25px', width='50%'),…"
      ]
     },
     "metadata": {},
     "output_type": "display_data"
    }
   ],
   "source": [
    "censo2021DF = spark.read.option('delimiter', ';').option('header', 'true').csv('s3a://alex-group2-sptech-bucket-brutos/microdados_ed_basica_2021.csv',schema=customType)"
   ]
  },
  {
   "cell_type": "code",
   "execution_count": 11,
   "metadata": {},
   "outputs": [
    {
     "data": {
      "application/vnd.jupyter.widget-view+json": {
       "model_id": "",
       "version_major": 2,
       "version_minor": 0
      },
      "text/plain": [
       "FloatProgress(value=0.0, bar_style='info', description='Progress:', layout=Layout(height='25px', width='50%'),…"
      ]
     },
     "metadata": {},
     "output_type": "display_data"
    }
   ],
   "source": [
    "censoEscolarDF = unionAll([censo2018DF,censo2019DF,censo2020DF,censo2021DF])"
   ]
  },
  {
   "cell_type": "code",
   "execution_count": 14,
   "metadata": {
    "scrolled": true
   },
   "outputs": [
    {
     "data": {
      "application/vnd.jupyter.widget-view+json": {
       "model_id": "",
       "version_major": 2,
       "version_minor": 0
      },
      "text/plain": [
       "FloatProgress(value=0.0, bar_style='info', description='Progress:', layout=Layout(height='25px', width='50%'),…"
      ]
     },
     "metadata": {},
     "output_type": "display_data"
    },
    {
     "name": "stdout",
     "output_type": "stream",
     "text": [
      "+-------------------+\n",
      "|              NO_UF|\n",
      "+-------------------+\n",
      "|          S�o Paulo|\n",
      "|     Rio de Janeiro|\n",
      "|           Rond�nia|\n",
      "|            Alagoas|\n",
      "|              Bahia|\n",
      "|              Piau�|\n",
      "|            Sergipe|\n",
      "|             Paran�|\n",
      "|          Tocantins|\n",
      "|              Cear�|\n",
      "|     Santa Catarina|\n",
      "|     Esp�rito Santo|\n",
      "| Mato Grosso do Sul|\n",
      "|         Pernambuco|\n",
      "|  Rio Grande do Sul|\n",
      "|           Maranh�o|\n",
      "|       Minas Gerais|\n",
      "|        Mato Grosso|\n",
      "|               Par�|\n",
      "|            Roraima|\n",
      "|   Distrito Federal|\n",
      "|              Amap�|\n",
      "|               Acre|\n",
      "|            Para�ba|\n",
      "|              Goi�s|\n",
      "|           Amazonas|\n",
      "|Rio Grande do Norte|\n",
      "+-------------------+"
     ]
    }
   ],
   "source": [
    "censoEscolarDF.select('NO_UF').distinct().show(n=30)"
   ]
  },
  {
   "cell_type": "code",
   "execution_count": 15,
   "metadata": {},
   "outputs": [
    {
     "data": {
      "application/vnd.jupyter.widget-view+json": {
       "model_id": "",
       "version_major": 2,
       "version_minor": 0
      },
      "text/plain": [
       "FloatProgress(value=0.0, bar_style='info', description='Progress:', layout=Layout(height='25px', width='50%'),…"
      ]
     },
     "metadata": {},
     "output_type": "display_data"
    }
   ],
   "source": [
    "censoEscolarDF = censoEscolarDF.replace('Cear�','Ceará','NO_UF')\\\n",
    "                .replace('Par�','Pará','NO_UF')\\\n",
    "                .replace('Piau�','Piauí','NO_UF')\\\n",
    "                .replace('Amap�','Amapá','NO_UF')\\\n",
    "                .replace('Maranh�o','Maranhão','NO_UF')\\\n",
    "                .replace('Para�ba','Paraíba','NO_UF')\\\n",
    "                .replace('Rond�nia','Rondônia','NO_UF')\\\n",
    "                .replace('Goi�s','Goiás','NO_UF')\\\n",
    "                .replace('Esp�rito Santo','Espírito Santo','NO_UF')\\\n",
    "                .replace('S�o Paulo','São Paulo','NO_UF')\\\n",
    "                .replace('Paran�','Paraná','NO_UF')"
   ]
  },
  {
   "cell_type": "code",
   "execution_count": 16,
   "metadata": {},
   "outputs": [
    {
     "data": {
      "application/vnd.jupyter.widget-view+json": {
       "model_id": "",
       "version_major": 2,
       "version_minor": 0
      },
      "text/plain": [
       "FloatProgress(value=0.0, bar_style='info', description='Progress:', layout=Layout(height='25px', width='50%'),…"
      ]
     },
     "metadata": {},
     "output_type": "display_data"
    },
    {
     "name": "stdout",
     "output_type": "stream",
     "text": [
      "910350"
     ]
    }
   ],
   "source": [
    "censoEscolarDF.count()"
   ]
  },
  {
   "cell_type": "code",
   "execution_count": 17,
   "metadata": {},
   "outputs": [
    {
     "data": {
      "application/vnd.jupyter.widget-view+json": {
       "model_id": "",
       "version_major": 2,
       "version_minor": 0
      },
      "text/plain": [
       "FloatProgress(value=0.0, bar_style='info', description='Progress:', layout=Layout(height='25px', width='50%'),…"
      ]
     },
     "metadata": {},
     "output_type": "display_data"
    },
    {
     "name": "stdout",
     "output_type": "stream",
     "text": [
      "370"
     ]
    }
   ],
   "source": [
    "len(censoEscolarDF.columns)"
   ]
  },
  {
   "cell_type": "code",
   "execution_count": 18,
   "metadata": {},
   "outputs": [
    {
     "data": {
      "application/vnd.jupyter.widget-view+json": {
       "model_id": "",
       "version_major": 2,
       "version_minor": 0
      },
      "text/plain": [
       "FloatProgress(value=0.0, bar_style='info', description='Progress:', layout=Layout(height='25px', width='50%'),…"
      ]
     },
     "metadata": {},
     "output_type": "display_data"
    }
   ],
   "source": [
    "censoEscolarDF = censoEscolarDF.fillna(0)"
   ]
  },
  {
   "cell_type": "code",
   "execution_count": 19,
   "metadata": {
    "collapsed": true
   },
   "outputs": [
    {
     "data": {
      "application/vnd.jupyter.widget-view+json": {
       "model_id": "057539073f7242b7ac6666ec4701d095",
       "version_major": 2,
       "version_minor": 0
      },
      "text/plain": [
       "FloatProgress(value=0.0, bar_style='info', description='Progress:', layout=Layout(height='25px', width='50%'),…"
      ]
     },
     "metadata": {},
     "output_type": "display_data"
    },
    {
     "ename": "KeyboardInterrupt",
     "evalue": "",
     "output_type": "error",
     "traceback": [
      "\u001b[0;31m---------------------------------------------------------------------------\u001b[0m",
      "\u001b[0;31mKeyboardInterrupt\u001b[0m                         Traceback (most recent call last)",
      "\u001b[0;32m<ipython-input-19-8c45b214ece3>\u001b[0m in \u001b[0;36m<module>\u001b[0;34m\u001b[0m\n\u001b[0;32m----> 1\u001b[0;31m \u001b[0mget_ipython\u001b[0m\u001b[0;34m(\u001b[0m\u001b[0;34m)\u001b[0m\u001b[0;34m.\u001b[0m\u001b[0mrun_cell_magic\u001b[0m\u001b[0;34m(\u001b[0m\u001b[0;34m'spark'\u001b[0m\u001b[0;34m,\u001b[0m \u001b[0;34m''\u001b[0m\u001b[0;34m,\u001b[0m \u001b[0;34m'censoEscolarDF.show()\\n'\u001b[0m\u001b[0;34m)\u001b[0m\u001b[0;34m\u001b[0m\u001b[0;34m\u001b[0m\u001b[0m\n\u001b[0m",
      "\u001b[0;32m/opt/conda/lib/python3.7/site-packages/IPython/core/interactiveshell.py\u001b[0m in \u001b[0;36mrun_cell_magic\u001b[0;34m(self, magic_name, line, cell)\u001b[0m\n\u001b[1;32m   2379\u001b[0m             \u001b[0;32mwith\u001b[0m \u001b[0mself\u001b[0m\u001b[0;34m.\u001b[0m\u001b[0mbuiltin_trap\u001b[0m\u001b[0;34m:\u001b[0m\u001b[0;34m\u001b[0m\u001b[0;34m\u001b[0m\u001b[0m\n\u001b[1;32m   2380\u001b[0m                 \u001b[0margs\u001b[0m \u001b[0;34m=\u001b[0m \u001b[0;34m(\u001b[0m\u001b[0mmagic_arg_s\u001b[0m\u001b[0;34m,\u001b[0m \u001b[0mcell\u001b[0m\u001b[0;34m)\u001b[0m\u001b[0;34m\u001b[0m\u001b[0;34m\u001b[0m\u001b[0m\n\u001b[0;32m-> 2381\u001b[0;31m                 \u001b[0mresult\u001b[0m \u001b[0;34m=\u001b[0m \u001b[0mfn\u001b[0m\u001b[0;34m(\u001b[0m\u001b[0;34m*\u001b[0m\u001b[0margs\u001b[0m\u001b[0;34m,\u001b[0m \u001b[0;34m**\u001b[0m\u001b[0mkwargs\u001b[0m\u001b[0;34m)\u001b[0m\u001b[0;34m\u001b[0m\u001b[0;34m\u001b[0m\u001b[0m\n\u001b[0m\u001b[1;32m   2382\u001b[0m             \u001b[0;32mreturn\u001b[0m \u001b[0mresult\u001b[0m\u001b[0;34m\u001b[0m\u001b[0;34m\u001b[0m\u001b[0m\n\u001b[1;32m   2383\u001b[0m \u001b[0;34m\u001b[0m\u001b[0m\n",
      "\u001b[0;32m<decorator-gen-125>\u001b[0m in \u001b[0;36mspark\u001b[0;34m(self, *args, **kwargs)\u001b[0m\n",
      "\u001b[0;32m/opt/conda/lib/python3.7/site-packages/IPython/core/magic.py\u001b[0m in \u001b[0;36m<lambda>\u001b[0;34m(f, *a, **k)\u001b[0m\n\u001b[1;32m    185\u001b[0m     \u001b[0;31m# but it's overkill for just that one bit of state.\u001b[0m\u001b[0;34m\u001b[0m\u001b[0;34m\u001b[0m\u001b[0;34m\u001b[0m\u001b[0m\n\u001b[1;32m    186\u001b[0m     \u001b[0;32mdef\u001b[0m \u001b[0mmagic_deco\u001b[0m\u001b[0;34m(\u001b[0m\u001b[0marg\u001b[0m\u001b[0;34m)\u001b[0m\u001b[0;34m:\u001b[0m\u001b[0;34m\u001b[0m\u001b[0;34m\u001b[0m\u001b[0m\n\u001b[0;32m--> 187\u001b[0;31m         \u001b[0mcall\u001b[0m \u001b[0;34m=\u001b[0m \u001b[0;32mlambda\u001b[0m \u001b[0mf\u001b[0m\u001b[0;34m,\u001b[0m \u001b[0;34m*\u001b[0m\u001b[0ma\u001b[0m\u001b[0;34m,\u001b[0m \u001b[0;34m**\u001b[0m\u001b[0mk\u001b[0m\u001b[0;34m:\u001b[0m \u001b[0mf\u001b[0m\u001b[0;34m(\u001b[0m\u001b[0;34m*\u001b[0m\u001b[0ma\u001b[0m\u001b[0;34m,\u001b[0m \u001b[0;34m**\u001b[0m\u001b[0mk\u001b[0m\u001b[0;34m)\u001b[0m\u001b[0;34m\u001b[0m\u001b[0;34m\u001b[0m\u001b[0m\n\u001b[0m\u001b[1;32m    188\u001b[0m \u001b[0;34m\u001b[0m\u001b[0m\n\u001b[1;32m    189\u001b[0m         \u001b[0;32mif\u001b[0m \u001b[0mcallable\u001b[0m\u001b[0;34m(\u001b[0m\u001b[0marg\u001b[0m\u001b[0;34m)\u001b[0m\u001b[0;34m:\u001b[0m\u001b[0;34m\u001b[0m\u001b[0;34m\u001b[0m\u001b[0m\n",
      "\u001b[0;32m/opt/conda/lib/python3.7/site-packages/sparkmagic/livyclientlib/exceptions.py\u001b[0m in \u001b[0;36mwrapped\u001b[0;34m(self, *args, **kwargs)\u001b[0m\n\u001b[1;32m    105\u001b[0m     \u001b[0;32mdef\u001b[0m \u001b[0mwrapped\u001b[0m\u001b[0;34m(\u001b[0m\u001b[0mself\u001b[0m\u001b[0;34m,\u001b[0m \u001b[0;34m*\u001b[0m\u001b[0margs\u001b[0m\u001b[0;34m,\u001b[0m \u001b[0;34m**\u001b[0m\u001b[0mkwargs\u001b[0m\u001b[0;34m)\u001b[0m\u001b[0;34m:\u001b[0m\u001b[0;34m\u001b[0m\u001b[0;34m\u001b[0m\u001b[0m\n\u001b[1;32m    106\u001b[0m         \u001b[0;32mtry\u001b[0m\u001b[0;34m:\u001b[0m\u001b[0;34m\u001b[0m\u001b[0;34m\u001b[0m\u001b[0m\n\u001b[0;32m--> 107\u001b[0;31m             \u001b[0mout\u001b[0m \u001b[0;34m=\u001b[0m \u001b[0mf\u001b[0m\u001b[0;34m(\u001b[0m\u001b[0mself\u001b[0m\u001b[0;34m,\u001b[0m \u001b[0;34m*\u001b[0m\u001b[0margs\u001b[0m\u001b[0;34m,\u001b[0m \u001b[0;34m**\u001b[0m\u001b[0mkwargs\u001b[0m\u001b[0;34m)\u001b[0m\u001b[0;34m\u001b[0m\u001b[0;34m\u001b[0m\u001b[0m\n\u001b[0m\u001b[1;32m    108\u001b[0m         \u001b[0;32mexcept\u001b[0m \u001b[0mException\u001b[0m \u001b[0;32mas\u001b[0m \u001b[0merr\u001b[0m\u001b[0;34m:\u001b[0m\u001b[0;34m\u001b[0m\u001b[0;34m\u001b[0m\u001b[0m\n\u001b[1;32m    109\u001b[0m             \u001b[0;32mif\u001b[0m \u001b[0mconf\u001b[0m\u001b[0;34m.\u001b[0m\u001b[0mall_errors_are_fatal\u001b[0m\u001b[0;34m(\u001b[0m\u001b[0;34m)\u001b[0m\u001b[0;34m:\u001b[0m\u001b[0;34m\u001b[0m\u001b[0;34m\u001b[0m\u001b[0m\n",
      "\u001b[0;32m/opt/conda/lib/python3.7/site-packages/sparkmagic/livyclientlib/exceptions.py\u001b[0m in \u001b[0;36mwrapped\u001b[0;34m(self, *args, **kwargs)\u001b[0m\n\u001b[1;32m     72\u001b[0m     \u001b[0;32mdef\u001b[0m \u001b[0mwrapped\u001b[0m\u001b[0;34m(\u001b[0m\u001b[0mself\u001b[0m\u001b[0;34m,\u001b[0m \u001b[0;34m*\u001b[0m\u001b[0margs\u001b[0m\u001b[0;34m,\u001b[0m \u001b[0;34m**\u001b[0m\u001b[0mkwargs\u001b[0m\u001b[0;34m)\u001b[0m\u001b[0;34m:\u001b[0m\u001b[0;34m\u001b[0m\u001b[0;34m\u001b[0m\u001b[0m\n\u001b[1;32m     73\u001b[0m         \u001b[0;32mtry\u001b[0m\u001b[0;34m:\u001b[0m\u001b[0;34m\u001b[0m\u001b[0;34m\u001b[0m\u001b[0m\n\u001b[0;32m---> 74\u001b[0;31m             \u001b[0mout\u001b[0m \u001b[0;34m=\u001b[0m \u001b[0mf\u001b[0m\u001b[0;34m(\u001b[0m\u001b[0mself\u001b[0m\u001b[0;34m,\u001b[0m \u001b[0;34m*\u001b[0m\u001b[0margs\u001b[0m\u001b[0;34m,\u001b[0m \u001b[0;34m**\u001b[0m\u001b[0mkwargs\u001b[0m\u001b[0;34m)\u001b[0m\u001b[0;34m\u001b[0m\u001b[0;34m\u001b[0m\u001b[0m\n\u001b[0m\u001b[1;32m     75\u001b[0m         \u001b[0;32mexcept\u001b[0m \u001b[0mexceptions_to_handle\u001b[0m \u001b[0;32mas\u001b[0m \u001b[0merr\u001b[0m\u001b[0;34m:\u001b[0m\u001b[0;34m\u001b[0m\u001b[0;34m\u001b[0m\u001b[0m\n\u001b[1;32m     76\u001b[0m             \u001b[0;32mif\u001b[0m \u001b[0mconf\u001b[0m\u001b[0;34m.\u001b[0m\u001b[0mall_errors_are_fatal\u001b[0m\u001b[0;34m(\u001b[0m\u001b[0;34m)\u001b[0m\u001b[0;34m:\u001b[0m\u001b[0;34m\u001b[0m\u001b[0;34m\u001b[0m\u001b[0m\n",
      "\u001b[0;32m/opt/conda/lib/python3.7/site-packages/sparkmagic/kernels/kernelmagics.py\u001b[0m in \u001b[0;36mspark\u001b[0;34m(self, line, cell, local_ns)\u001b[0m\n\u001b[1;32m    263\u001b[0m             \u001b[0mcoerce\u001b[0m \u001b[0;34m=\u001b[0m \u001b[0mget_coerce_value\u001b[0m\u001b[0;34m(\u001b[0m\u001b[0margs\u001b[0m\u001b[0;34m.\u001b[0m\u001b[0mcoerce\u001b[0m\u001b[0;34m)\u001b[0m\u001b[0;34m\u001b[0m\u001b[0;34m\u001b[0m\u001b[0m\n\u001b[1;32m    264\u001b[0m \u001b[0;34m\u001b[0m\u001b[0m\n\u001b[0;32m--> 265\u001b[0;31m             \u001b[0mself\u001b[0m\u001b[0;34m.\u001b[0m\u001b[0mexecute_spark\u001b[0m\u001b[0;34m(\u001b[0m\u001b[0mcell\u001b[0m\u001b[0;34m,\u001b[0m \u001b[0margs\u001b[0m\u001b[0;34m.\u001b[0m\u001b[0moutput\u001b[0m\u001b[0;34m,\u001b[0m \u001b[0margs\u001b[0m\u001b[0;34m.\u001b[0m\u001b[0msamplemethod\u001b[0m\u001b[0;34m,\u001b[0m \u001b[0margs\u001b[0m\u001b[0;34m.\u001b[0m\u001b[0mmaxrows\u001b[0m\u001b[0;34m,\u001b[0m \u001b[0margs\u001b[0m\u001b[0;34m.\u001b[0m\u001b[0msamplefraction\u001b[0m\u001b[0;34m,\u001b[0m \u001b[0;32mNone\u001b[0m\u001b[0;34m,\u001b[0m \u001b[0mcoerce\u001b[0m\u001b[0;34m)\u001b[0m\u001b[0;34m\u001b[0m\u001b[0;34m\u001b[0m\u001b[0m\n\u001b[0m\u001b[1;32m    266\u001b[0m         \u001b[0;32melse\u001b[0m\u001b[0;34m:\u001b[0m\u001b[0;34m\u001b[0m\u001b[0;34m\u001b[0m\u001b[0m\n\u001b[1;32m    267\u001b[0m             \u001b[0;32mreturn\u001b[0m\u001b[0;34m\u001b[0m\u001b[0;34m\u001b[0m\u001b[0m\n",
      "\u001b[0;32m/opt/conda/lib/python3.7/site-packages/sparkmagic/magics/sparkmagicsbase.py\u001b[0m in \u001b[0;36mexecute_spark\u001b[0;34m(self, cell, output_var, samplemethod, maxrows, samplefraction, session_name, coerce)\u001b[0m\n\u001b[1;32m     79\u001b[0m \u001b[0;34m\u001b[0m\u001b[0m\n\u001b[1;32m     80\u001b[0m     \u001b[0;32mdef\u001b[0m \u001b[0mexecute_spark\u001b[0m\u001b[0;34m(\u001b[0m\u001b[0mself\u001b[0m\u001b[0;34m,\u001b[0m \u001b[0mcell\u001b[0m\u001b[0;34m,\u001b[0m \u001b[0moutput_var\u001b[0m\u001b[0;34m,\u001b[0m \u001b[0msamplemethod\u001b[0m\u001b[0;34m,\u001b[0m \u001b[0mmaxrows\u001b[0m\u001b[0;34m,\u001b[0m \u001b[0msamplefraction\u001b[0m\u001b[0;34m,\u001b[0m \u001b[0msession_name\u001b[0m\u001b[0;34m,\u001b[0m \u001b[0mcoerce\u001b[0m\u001b[0;34m)\u001b[0m\u001b[0;34m:\u001b[0m\u001b[0;34m\u001b[0m\u001b[0;34m\u001b[0m\u001b[0m\n\u001b[0;32m---> 81\u001b[0;31m         \u001b[0;34m(\u001b[0m\u001b[0msuccess\u001b[0m\u001b[0;34m,\u001b[0m \u001b[0mout\u001b[0m\u001b[0;34m,\u001b[0m \u001b[0mmimetype\u001b[0m\u001b[0;34m)\u001b[0m \u001b[0;34m=\u001b[0m \u001b[0mself\u001b[0m\u001b[0;34m.\u001b[0m\u001b[0mspark_controller\u001b[0m\u001b[0;34m.\u001b[0m\u001b[0mrun_command\u001b[0m\u001b[0;34m(\u001b[0m\u001b[0mCommand\u001b[0m\u001b[0;34m(\u001b[0m\u001b[0mcell\u001b[0m\u001b[0;34m)\u001b[0m\u001b[0;34m,\u001b[0m \u001b[0msession_name\u001b[0m\u001b[0;34m)\u001b[0m\u001b[0;34m\u001b[0m\u001b[0;34m\u001b[0m\u001b[0m\n\u001b[0m\u001b[1;32m     82\u001b[0m         \u001b[0;32mif\u001b[0m \u001b[0;32mnot\u001b[0m \u001b[0msuccess\u001b[0m\u001b[0;34m:\u001b[0m\u001b[0;34m\u001b[0m\u001b[0;34m\u001b[0m\u001b[0m\n\u001b[1;32m     83\u001b[0m             \u001b[0;32mif\u001b[0m \u001b[0mconf\u001b[0m\u001b[0;34m.\u001b[0m\u001b[0mshutdown_session_on_spark_statement_errors\u001b[0m\u001b[0;34m(\u001b[0m\u001b[0;34m)\u001b[0m\u001b[0;34m:\u001b[0m\u001b[0;34m\u001b[0m\u001b[0;34m\u001b[0m\u001b[0m\n",
      "\u001b[0;32m/opt/conda/lib/python3.7/site-packages/sparkmagic/livyclientlib/sparkcontroller.py\u001b[0m in \u001b[0;36mrun_command\u001b[0;34m(self, command, client_name)\u001b[0m\n\u001b[1;32m     38\u001b[0m     \u001b[0;32mdef\u001b[0m \u001b[0mrun_command\u001b[0m\u001b[0;34m(\u001b[0m\u001b[0mself\u001b[0m\u001b[0;34m,\u001b[0m \u001b[0mcommand\u001b[0m\u001b[0;34m,\u001b[0m \u001b[0mclient_name\u001b[0m\u001b[0;34m=\u001b[0m\u001b[0;32mNone\u001b[0m\u001b[0;34m)\u001b[0m\u001b[0;34m:\u001b[0m\u001b[0;34m\u001b[0m\u001b[0;34m\u001b[0m\u001b[0m\n\u001b[1;32m     39\u001b[0m         \u001b[0msession_to_use\u001b[0m \u001b[0;34m=\u001b[0m \u001b[0mself\u001b[0m\u001b[0;34m.\u001b[0m\u001b[0mget_session_by_name_or_default\u001b[0m\u001b[0;34m(\u001b[0m\u001b[0mclient_name\u001b[0m\u001b[0;34m)\u001b[0m\u001b[0;34m\u001b[0m\u001b[0;34m\u001b[0m\u001b[0m\n\u001b[0;32m---> 40\u001b[0;31m         \u001b[0;32mreturn\u001b[0m \u001b[0mcommand\u001b[0m\u001b[0;34m.\u001b[0m\u001b[0mexecute\u001b[0m\u001b[0;34m(\u001b[0m\u001b[0msession_to_use\u001b[0m\u001b[0;34m)\u001b[0m\u001b[0;34m\u001b[0m\u001b[0;34m\u001b[0m\u001b[0m\n\u001b[0m\u001b[1;32m     41\u001b[0m \u001b[0;34m\u001b[0m\u001b[0m\n\u001b[1;32m     42\u001b[0m     \u001b[0;32mdef\u001b[0m \u001b[0mrun_sqlquery\u001b[0m\u001b[0;34m(\u001b[0m\u001b[0mself\u001b[0m\u001b[0;34m,\u001b[0m \u001b[0msqlquery\u001b[0m\u001b[0;34m,\u001b[0m \u001b[0mclient_name\u001b[0m\u001b[0;34m=\u001b[0m\u001b[0;32mNone\u001b[0m\u001b[0;34m)\u001b[0m\u001b[0;34m:\u001b[0m\u001b[0;34m\u001b[0m\u001b[0;34m\u001b[0m\u001b[0m\n",
      "\u001b[0;32m/opt/conda/lib/python3.7/site-packages/sparkmagic/livyclientlib/command.py\u001b[0m in \u001b[0;36mexecute\u001b[0;34m(self, session)\u001b[0m\n\u001b[1;32m     42\u001b[0m             \u001b[0mresponse\u001b[0m \u001b[0;34m=\u001b[0m \u001b[0msession\u001b[0m\u001b[0;34m.\u001b[0m\u001b[0mhttp_client\u001b[0m\u001b[0;34m.\u001b[0m\u001b[0mpost_statement\u001b[0m\u001b[0;34m(\u001b[0m\u001b[0msession\u001b[0m\u001b[0;34m.\u001b[0m\u001b[0mid\u001b[0m\u001b[0;34m,\u001b[0m \u001b[0mdata\u001b[0m\u001b[0;34m)\u001b[0m\u001b[0;34m\u001b[0m\u001b[0;34m\u001b[0m\u001b[0m\n\u001b[1;32m     43\u001b[0m             \u001b[0mstatement_id\u001b[0m \u001b[0;34m=\u001b[0m \u001b[0mresponse\u001b[0m\u001b[0;34m[\u001b[0m\u001b[0;34mu'id'\u001b[0m\u001b[0;34m]\u001b[0m\u001b[0;34m\u001b[0m\u001b[0;34m\u001b[0m\u001b[0m\n\u001b[0;32m---> 44\u001b[0;31m             \u001b[0moutput\u001b[0m \u001b[0;34m=\u001b[0m \u001b[0mself\u001b[0m\u001b[0;34m.\u001b[0m\u001b[0m_get_statement_output\u001b[0m\u001b[0;34m(\u001b[0m\u001b[0msession\u001b[0m\u001b[0;34m,\u001b[0m \u001b[0mstatement_id\u001b[0m\u001b[0;34m)\u001b[0m\u001b[0;34m\u001b[0m\u001b[0;34m\u001b[0m\u001b[0m\n\u001b[0m\u001b[1;32m     45\u001b[0m         \u001b[0;32mexcept\u001b[0m \u001b[0mException\u001b[0m \u001b[0;32mas\u001b[0m \u001b[0me\u001b[0m\u001b[0;34m:\u001b[0m\u001b[0;34m\u001b[0m\u001b[0;34m\u001b[0m\u001b[0m\n\u001b[1;32m     46\u001b[0m             self._spark_events.emit_statement_execution_end_event(session.guid, session.kind, session.id,\n",
      "\u001b[0;32m/opt/conda/lib/python3.7/site-packages/sparkmagic/livyclientlib/command.py\u001b[0m in \u001b[0;36m_get_statement_output\u001b[0;34m(self, session, statement_id)\u001b[0m\n\u001b[1;32m     74\u001b[0m             \u001b[0;32mif\u001b[0m \u001b[0mstatus\u001b[0m \u001b[0;32mnot\u001b[0m \u001b[0;32min\u001b[0m \u001b[0mFINAL_STATEMENT_STATUS\u001b[0m\u001b[0;34m:\u001b[0m\u001b[0;34m\u001b[0m\u001b[0;34m\u001b[0m\u001b[0m\n\u001b[1;32m     75\u001b[0m                 \u001b[0mprogress\u001b[0m\u001b[0;34m.\u001b[0m\u001b[0mvalue\u001b[0m \u001b[0;34m=\u001b[0m \u001b[0mstatement\u001b[0m\u001b[0;34m.\u001b[0m\u001b[0mget\u001b[0m\u001b[0;34m(\u001b[0m\u001b[0;34m'progress'\u001b[0m\u001b[0;34m,\u001b[0m \u001b[0;36m0.0\u001b[0m\u001b[0;34m)\u001b[0m\u001b[0;34m\u001b[0m\u001b[0;34m\u001b[0m\u001b[0m\n\u001b[0;32m---> 76\u001b[0;31m                 \u001b[0msession\u001b[0m\u001b[0;34m.\u001b[0m\u001b[0msleep\u001b[0m\u001b[0;34m(\u001b[0m\u001b[0mretries\u001b[0m\u001b[0;34m)\u001b[0m\u001b[0;34m\u001b[0m\u001b[0;34m\u001b[0m\u001b[0m\n\u001b[0m\u001b[1;32m     77\u001b[0m                 \u001b[0mretries\u001b[0m \u001b[0;34m+=\u001b[0m \u001b[0;36m1\u001b[0m\u001b[0;34m\u001b[0m\u001b[0;34m\u001b[0m\u001b[0m\n\u001b[1;32m     78\u001b[0m             \u001b[0;32melse\u001b[0m\u001b[0;34m:\u001b[0m\u001b[0;34m\u001b[0m\u001b[0;34m\u001b[0m\u001b[0m\n",
      "\u001b[0;32m/opt/conda/lib/python3.7/site-packages/sparkmagic/livyclientlib/livysession.py\u001b[0m in \u001b[0;36msleep\u001b[0;34m(self, retries)\u001b[0m\n\u001b[1;32m    280\u001b[0m \u001b[0;34m\u001b[0m\u001b[0m\n\u001b[1;32m    281\u001b[0m     \u001b[0;32mdef\u001b[0m \u001b[0msleep\u001b[0m\u001b[0;34m(\u001b[0m\u001b[0mself\u001b[0m\u001b[0;34m,\u001b[0m \u001b[0mretries\u001b[0m\u001b[0;34m)\u001b[0m\u001b[0;34m:\u001b[0m\u001b[0;34m\u001b[0m\u001b[0;34m\u001b[0m\u001b[0m\n\u001b[0;32m--> 282\u001b[0;31m         \u001b[0msleep\u001b[0m\u001b[0;34m(\u001b[0m\u001b[0mself\u001b[0m\u001b[0;34m.\u001b[0m\u001b[0m_policy\u001b[0m\u001b[0;34m.\u001b[0m\u001b[0mseconds_to_sleep\u001b[0m\u001b[0;34m(\u001b[0m\u001b[0mretries\u001b[0m\u001b[0;34m)\u001b[0m\u001b[0;34m)\u001b[0m\u001b[0;34m\u001b[0m\u001b[0;34m\u001b[0m\u001b[0m\n\u001b[0m\u001b[1;32m    283\u001b[0m \u001b[0;34m\u001b[0m\u001b[0m\n\u001b[1;32m    284\u001b[0m     \u001b[0;31m# This function will refresh the status and get the logs in a single call.\u001b[0m\u001b[0;34m\u001b[0m\u001b[0;34m\u001b[0m\u001b[0;34m\u001b[0m\u001b[0m\n",
      "\u001b[0;31mKeyboardInterrupt\u001b[0m: "
     ]
    }
   ],
   "source": [
    "censoEscolarDF.show()"
   ]
  },
  {
   "cell_type": "code",
   "execution_count": 21,
   "metadata": {},
   "outputs": [
    {
     "name": "stderr",
     "output_type": "stream",
     "text": [
      "An error was encountered:\n",
      "Session 2 did not reach idle status in time. Current status is busy.\n"
     ]
    }
   ],
   "source": [
    "censoEscolarDF = censoEscolarDF.drop('IN_FINAL_SEMANA','IN_BRASIL_ALFABETIZADO','TP_OCUPACAO_GALPAO','TP_OCUPACAO_PREDIO_ESCOLAR','TP_RESPONSAVEL_REGULAMENTACAO','IN_MANT_ESCOLA_PRIVADA_EMP','SG_UF','CO_CEP','DT_ANO_LETIVO_INICIO','DT_ANO_LETIVO_TERMINO','TP_CONVENIO_PODER_PUBLICO','CO_UF','CO_REGIAO','CO_MUNICIPIO','CO_MESORREGIAO','CO_MICRORREGIAO','CO_DISTRITO','CO_ENTIDADE','NO_ENTIDADE','TP_DEPENDENCIA','TP_CATEGORIA_ESCOLA_PRIVADA','TP_LOCALIZACAO','TP_LOCALIZACAO_DIFERENCIADA','DS_ENDERECO','NU_ENDERECO','DS_COMPLEMENTO','NO_BAIRRO','NU_DDD','NU_TELEFONE','TP_SITUACAO_FUNCIONAMENTO','CO_ORGAO_REGIONAL','QT_TUR_BAS','QT_TUR_INF','QT_TUR_INF_CRE','QT_TUR_INF_PRE','QT_TUR_FUND','QT_TUR_FUND_AI','QT_TUR_FUND_AF','QT_TUR_MED','QT_TUR_PROF','QT_TUR_PROF_TEC','QT_TUR_EJA','QT_TUR_EJA_FUND','QT_TUR_EJA_MED','QT_TUR_ESP','QT_TUR_ESP_CC','QT_TUR_ESP_CE','QT_DOC_BAS','QT_DOC_INF','QT_DOC_INF_CRE','QT_DOC_INF_PRE','QT_DOC_FUND','QT_DOC_FUND_AI','QT_DOC_FUND_AF','QT_DOC_MED','QT_DOC_PROF','QT_DOC_PROF_TEC','QT_DOC_EJA','QT_DOC_EJA_FUND','QT_DOC_EJA_MED','QT_DOC_ESP','QT_DOC_ESP_CC','QT_DOC_ESP_CE','IN_VINCULO_SECRETARIA_EDUCACAO','IN_VINCULO_SEGURANCA_PUBLICA','IN_VINCULO_SECRETARIA_SAUDE','IN_VINCULO_OUTRO_ORGAO','IN_CONVENIADA_PP','IN_MANT_ESCOLA_PRIVADA_ONG','IN_MANT_ESCOLA_PRIVADA_OSCIP','IN_MANT_ESCOLA_PRIV_ONG_OSCIP','IN_MANT_ESCOLA_PRIVADA_SIND','IN_MANT_ESCOLA_PRIVADA_SIST_S','IN_MANT_ESCOLA_PRIVADA_S_FINS','NU_CNPJ_ESCOLA_PRIVADA','NU_CNPJ_MANTENEDORA','TP_REGULAMENTACAO','CO_ESCOLA_SEDE_VINCULADA','CO_IES_OFERTANTE','IN_LOCAL_FUNC_PREDIO_ESCOLAR','IN_LOCAL_FUNC_SALAS_EMPRESA','IN_LOCAL_FUNC_SOCIOEDUCATIVO','IN_LOCAL_FUNC_UNID_PRISIONAL','IN_LOCAL_FUNC_PRISIONAL_SOCIO','IN_LOCAL_FUNC_TEMPLO_IGREJA','IN_LOCAL_FUNC_CASA_PROFESSOR','IN_LOCAL_FUNC_GALPAO','IN_LOCAL_FUNC_SALAS_OUTRA_ESC','IN_LOCAL_FUNC_OUTROS','IN_PREDIO_COMPARTILHADO','IN_TRATAMENTO_LIXO_SEPARACAO','IN_TRATAMENTO_LIXO_REUTILIZA','IN_TRATAMENTO_LIXO_RECICLAGEM','IN_TRATAMENTO_LIXO_INEXISTENTE','IN_ALMOXARIFADO','IN_AREA_VERDE','IN_AUDITORIO','IN_BANHEIRO_FORA_PREDIO','IN_BANHEIRO_DENTRO_PREDIO','IN_BANHEIRO','IN_BANHEIRO_EI','IN_BANHEIRO_PNE','IN_BANHEIRO_FUNCIONARIOS','IN_BANHEIRO_CHUVEIRO','IN_BERCARIO','IN_SALA_ATELIE_ARTES','IN_SALA_MUSICA_CORAL','IN_SALA_ESTUDIO_DANCA','IN_SALA_MULTIUSO','IN_SALA_DIRETORIA','IN_SALA_LEITURA','IN_SALA_PROFESSOR','IN_SALA_REPOUSO_ALUNO','IN_SECRETARIA','IN_SALA_ATENDIMENTO_ESPECIAL','IN_TERREIRAO','IN_VIVEIRO','IN_DEPENDENCIAS_PNE','IN_LAVANDERIA','IN_DEPENDENCIAS_OUTRAS','IN_ACESSIBILIDADE_CORRIMAO','IN_ACESSIBILIDADE_ELEVADOR','IN_ACESSIBILIDADE_PISOS_TATEIS','IN_ACESSIBILIDADE_VAO_LIVRE','IN_ACESSIBILIDADE_RAMPAS','IN_ACESSIBILIDADE_SINAL_SONORO','IN_ACESSIBILIDADE_SINAL_TATIL','IN_ACESSIBILIDADE_SINAL_VISUAL','IN_ACESSIBILIDADE_INEXISTENTE','IN_EQUIP_PARABOLICA','IN_COMPUTADOR','IN_EQUIP_COPIADORA','IN_EQUIP_IMPRESSORA','IN_EQUIP_IMPRESSORA_MULT','IN_EQUIP_SCANNER','IN_EQUIP_NENHUM','IN_EQUIP_DVD','QT_EQUIP_DVD','IN_EQUIP_SOM','QT_EQUIP_SOM','IN_EQUIP_TV','QT_EQUIP_TV','IN_EQUIP_LOUSA_DIGITAL','QT_EQUIP_LOUSA_DIGITAL','IN_EQUIP_MULTIMIDIA','QT_EQUIP_MULTIMIDIA','IN_EQUIP_VIDEOCASSETE','IN_EQUIP_RETROPROJETOR','IN_EQUIP_FAX','IN_EQUIP_FOTO','QT_EQUIP_VIDEOCASSETE','QT_EQUIP_PARABOLICA','QT_EQUIP_COPIADORA','QT_EQUIP_RETROPROJETOR','QT_EQUIP_IMPRESSORA','QT_EQUIP_IMPRESSORA_MULT','QT_EQUIP_FAX','QT_EQUIP_FOTO','QT_COMP_ALUNO','IN_SERIE_ANO','IN_PERIODOS_SEMESTRAIS','IN_FUNDAMENTAL_CICLOS','IN_GRUPOS_NAO_SERIADOS','IN_MODULOS','IN_FORMACAO_ALTERNANCIA','IN_MATERIAL_PED_MULTIMIDIA','IN_MATERIAL_PED_INFANTIL','IN_MATERIAL_PED_CIENTIFICO','IN_MATERIAL_PED_DIFUSAO','IN_MATERIAL_PED_MUSICAL','IN_MATERIAL_PED_JOGOS','IN_MATERIAL_PED_ARTISTICAS','IN_MATERIAL_PED_DESPORTIVA','IN_MATERIAL_PED_INDIGENA','IN_MATERIAL_PED_ETNICO','IN_MATERIAL_PED_CAMPO','IN_MATERIAL_PED_NENHUM','IN_MATERIAL_ESP_QUILOMBOLA','IN_MATERIAL_ESP_INDIGENA','IN_MATERIAL_ESP_NAO_UTILIZA','IN_RESERVA_PPI','IN_RESERVA_RENDA','IN_RESERVA_PUBLICA','IN_RESERVA_PCD','IN_RESERVA_OUTROS','IN_RESERVA_NENHUMA','IN_REDES_SOCIAIS','IN_ESPACO_ATIVIDADE','IN_ESPACO_EQUIPAMENTO','IN_ORGAO_ASS_PAIS','IN_ORGAO_ASS_PAIS_MESTRES','IN_ORGAO_CONSELHO_ESCOLAR','IN_ORGAO_GREMIO_ESTUDANTIL','IN_ORGAO_OUTROS','IN_ORGAO_NENHUM','TP_PROPOSTA_PEDAGOGICA','TP_AEE','TP_ATIVIDADE_COMPLEMENTAR','IN_MEDIACAO_PRESENCIAL','IN_MEDIACAO_SEMIPRESENCIAL','IN_MEDIACAO_EAD','IN_REGULAR','IN_EDUCACAO_INDIGENA','TP_INDIGENA_LINGUA','CO_LINGUA_INDIGENA_1','CO_LINGUA_INDIGENA_2','CO_LINGUA_INDIGENA_3','NO_MUNICIPIO','NO_MESORREGIAO','NO_MICRORREGIAO')"
   ]
  },
  {
   "cell_type": "code",
   "execution_count": 22,
   "metadata": {},
   "outputs": [
    {
     "name": "stderr",
     "output_type": "stream",
     "text": [
      "An error was encountered:\n",
      "Session 2 did not reach idle status in time. Current status is busy.\n"
     ]
    }
   ],
   "source": [
    "len(censoEscolarDF.columns)"
   ]
  },
  {
   "cell_type": "code",
   "execution_count": 19,
   "metadata": {},
   "outputs": [
    {
     "data": {
      "application/vnd.jupyter.widget-view+json": {
       "model_id": "",
       "version_major": 2,
       "version_minor": 0
      },
      "text/plain": [
       "FloatProgress(value=0.0, bar_style='info', description='Progress:', layout=Layout(height='25px', width='50%'),…"
      ]
     },
     "metadata": {},
     "output_type": "display_data"
    },
    {
     "name": "stdout",
     "output_type": "stream",
     "text": [
      "root\n",
      " |-- NU_ANO_CENSO: string (nullable = true)\n",
      " |-- NO_REGIAO: string (nullable = true)\n",
      " |-- NO_UF: string (nullable = true)\n",
      " |-- IN_AGUA_FILTRADA: integer (nullable = true)\n",
      " |-- IN_AGUA_POTAVEL: integer (nullable = true)\n",
      " |-- IN_AGUA_REDE_PUBLICA: integer (nullable = true)\n",
      " |-- IN_AGUA_POCO_ARTESIANO: integer (nullable = true)\n",
      " |-- IN_AGUA_CACIMBA: integer (nullable = true)\n",
      " |-- IN_AGUA_FONTE_RIO: integer (nullable = true)\n",
      " |-- IN_AGUA_INEXISTENTE: integer (nullable = true)\n",
      " |-- IN_ENERGIA_REDE_PUBLICA: integer (nullable = true)\n",
      " |-- IN_ENERGIA_GERADOR: integer (nullable = true)\n",
      " |-- IN_ENERGIA_GERADOR_FOSSIL: integer (nullable = true)\n",
      " |-- IN_ENERGIA_OUTROS: integer (nullable = true)\n",
      " |-- IN_ENERGIA_RENOVAVEL: integer (nullable = true)\n",
      " |-- IN_ENERGIA_INEXISTENTE: integer (nullable = true)\n",
      " |-- IN_ESGOTO_REDE_PUBLICA: integer (nullable = true)\n",
      " |-- IN_ESGOTO_FOSSA_SEPTICA: integer (nullable = true)\n",
      " |-- IN_ESGOTO_FOSSA_COMUM: integer (nullable = true)\n",
      " |-- IN_ESGOTO_FOSSA: integer (nullable = true)\n",
      " |-- IN_ESGOTO_INEXISTENTE: integer (nullable = true)\n",
      " |-- IN_LIXO_SERVICO_COLETA: integer (nullable = true)\n",
      " |-- IN_LIXO_QUEIMA: integer (nullable = true)\n",
      " |-- IN_LIXO_ENTERRA: integer (nullable = true)\n",
      " |-- IN_LIXO_DESTINO_FINAL_PUBLICO: integer (nullable = true)\n",
      " |-- IN_LIXO_DESCARTA_OUTRA_AREA: integer (nullable = true)\n",
      " |-- IN_LIXO_JOGA_OUTRA_AREA: integer (nullable = true)\n",
      " |-- IN_LIXO_OUTROS: integer (nullable = true)\n",
      " |-- IN_LIXO_RECICLA: integer (nullable = true)\n",
      " |-- IN_BIBLIOTECA: integer (nullable = true)\n",
      " |-- IN_BIBLIOTECA_SALA_LEITURA: integer (nullable = true)\n",
      " |-- IN_COZINHA: integer (nullable = true)\n",
      " |-- IN_DESPENSA: integer (nullable = true)\n",
      " |-- IN_DORMITORIO_ALUNO: integer (nullable = true)\n",
      " |-- IN_DORMITORIO_PROFESSOR: integer (nullable = true)\n",
      " |-- IN_LABORATORIO_CIENCIAS: integer (nullable = true)\n",
      " |-- IN_LABORATORIO_INFORMATICA: integer (nullable = true)\n",
      " |-- IN_PATIO_COBERTO: integer (nullable = true)\n",
      " |-- IN_PATIO_DESCOBERTO: integer (nullable = true)\n",
      " |-- IN_PARQUE_INFANTIL: integer (nullable = true)\n",
      " |-- IN_PISCINA: integer (nullable = true)\n",
      " |-- IN_QUADRA_ESPORTES: integer (nullable = true)\n",
      " |-- IN_QUADRA_ESPORTES_COBERTA: integer (nullable = true)\n",
      " |-- IN_QUADRA_ESPORTES_DESCOBERTA: integer (nullable = true)\n",
      " |-- IN_REFEITORIO: integer (nullable = true)\n",
      " |-- QT_SALAS_EXISTENTES: integer (nullable = true)\n",
      " |-- QT_SALAS_UTILIZADAS_DENTRO: integer (nullable = true)\n",
      " |-- QT_SALAS_UTILIZADAS_FORA: integer (nullable = true)\n",
      " |-- QT_SALAS_UTILIZADAS: integer (nullable = true)\n",
      " |-- QT_SALAS_UTILIZA_CLIMATIZADAS: integer (nullable = true)\n",
      " |-- QT_SALAS_UTILIZADAS_ACESSIVEIS: integer (nullable = true)\n",
      " |-- IN_DESKTOP_ALUNO: integer (nullable = true)\n",
      " |-- QT_DESKTOP_ALUNO: integer (nullable = true)\n",
      " |-- IN_COMP_PORTATIL_ALUNO: integer (nullable = true)\n",
      " |-- QT_COMP_PORTATIL_ALUNO: integer (nullable = true)\n",
      " |-- IN_TABLET_ALUNO: integer (nullable = true)\n",
      " |-- QT_TABLET_ALUNO: integer (nullable = true)\n",
      " |-- QT_COMPUTADOR: integer (nullable = true)\n",
      " |-- QT_COMP_ADMINISTRATIVO: integer (nullable = true)\n",
      " |-- IN_INTERNET: integer (nullable = true)\n",
      " |-- IN_INTERNET_ALUNOS: integer (nullable = true)\n",
      " |-- IN_INTERNET_ADMINISTRATIVO: integer (nullable = true)\n",
      " |-- IN_INTERNET_APRENDIZAGEM: integer (nullable = true)\n",
      " |-- IN_INTERNET_COMUNIDADE: integer (nullable = true)\n",
      " |-- IN_ACESSO_INTERNET_COMPUTADOR: integer (nullable = true)\n",
      " |-- IN_ACES_INTERNET_DISP_PESSOAIS: integer (nullable = true)\n",
      " |-- TP_REDE_LOCAL: integer (nullable = true)\n",
      " |-- IN_BANDA_LARGA: integer (nullable = true)\n",
      " |-- QT_FUNCIONARIOS: integer (nullable = true)\n",
      " |-- IN_PROF_ADMINISTRATIVOS: integer (nullable = true)\n",
      " |-- QT_PROF_ADMINISTRATIVOS: integer (nullable = true)\n",
      " |-- IN_PROF_SERVICOS_GERAIS: integer (nullable = true)\n",
      " |-- QT_PROF_SERVICOS_GERAIS: integer (nullable = true)\n",
      " |-- IN_PROF_BIBLIOTECARIO: integer (nullable = true)\n",
      " |-- QT_PROF_BIBLIOTECARIO: integer (nullable = true)\n",
      " |-- IN_PROF_SAUDE: integer (nullable = true)\n",
      " |-- QT_PROF_SAUDE: integer (nullable = true)\n",
      " |-- IN_PROF_COORDENADOR: integer (nullable = true)\n",
      " |-- QT_PROF_COORDENADOR: integer (nullable = true)\n",
      " |-- IN_PROF_FONAUDIOLOGO: integer (nullable = true)\n",
      " |-- QT_PROF_FONAUDIOLOGO: integer (nullable = true)\n",
      " |-- IN_PROF_NUTRICIONISTA: integer (nullable = true)\n",
      " |-- QT_PROF_NUTRICIONISTA: integer (nullable = true)\n",
      " |-- IN_PROF_PSICOLOGO: integer (nullable = true)\n",
      " |-- QT_PROF_PSICOLOGO: integer (nullable = true)\n",
      " |-- IN_PROF_ALIMENTACAO: integer (nullable = true)\n",
      " |-- QT_PROF_ALIMENTACAO: integer (nullable = true)\n",
      " |-- IN_PROF_PEDAGOGIA: integer (nullable = true)\n",
      " |-- QT_PROF_PEDAGOGIA: integer (nullable = true)\n",
      " |-- IN_PROF_SECRETARIO: integer (nullable = true)\n",
      " |-- QT_PROF_SECRETARIO: integer (nullable = true)\n",
      " |-- IN_PROF_SEGURANCA: integer (nullable = true)\n",
      " |-- QT_PROF_SEGURANCA: integer (nullable = true)\n",
      " |-- IN_PROF_MONITORES: integer (nullable = true)\n",
      " |-- QT_PROF_MONITORES: integer (nullable = true)\n",
      " |-- IN_PROF_GESTAO: integer (nullable = true)\n",
      " |-- QT_PROF_GESTAO: integer (nullable = true)\n",
      " |-- IN_PROF_ASSIST_SOCIAL: integer (nullable = true)\n",
      " |-- QT_PROF_ASSIST_SOCIAL: integer (nullable = true)\n",
      " |-- IN_ALIMENTACAO: integer (nullable = true)\n",
      " |-- IN_EXAME_SELECAO: integer (nullable = true)\n",
      " |-- IN_DIURNO: integer (nullable = true)\n",
      " |-- IN_NOTURNO: integer (nullable = true)\n",
      " |-- IN_EAD: integer (nullable = true)\n",
      " |-- IN_BAS: integer (nullable = true)\n",
      " |-- IN_INF: integer (nullable = true)\n",
      " |-- IN_INF_CRE: integer (nullable = true)\n",
      " |-- IN_INF_PRE: integer (nullable = true)\n",
      " |-- IN_FUND: integer (nullable = true)\n",
      " |-- IN_FUND_AI: integer (nullable = true)\n",
      " |-- IN_FUND_AF: integer (nullable = true)\n",
      " |-- IN_MED: integer (nullable = true)\n",
      " |-- IN_PROF: integer (nullable = true)\n",
      " |-- IN_PROF_TEC: integer (nullable = true)\n",
      " |-- IN_EJA: integer (nullable = true)\n",
      " |-- IN_EJA_FUND: integer (nullable = true)\n",
      " |-- IN_EJA_MED: integer (nullable = true)\n",
      " |-- IN_ESP: integer (nullable = true)\n",
      " |-- IN_ESP_CC: integer (nullable = true)\n",
      " |-- IN_ESP_CE: integer (nullable = true)\n",
      " |-- QT_MAT_BAS: integer (nullable = true)\n",
      " |-- QT_MAT_INF: integer (nullable = true)\n",
      " |-- QT_MAT_INF_CRE: integer (nullable = true)\n",
      " |-- QT_MAT_INF_PRE: integer (nullable = true)\n",
      " |-- QT_MAT_FUND: integer (nullable = true)\n",
      " |-- QT_MAT_FUND_AI: integer (nullable = true)\n",
      " |-- QT_MAT_FUND_AF: integer (nullable = true)\n",
      " |-- QT_MAT_MED: integer (nullable = true)\n",
      " |-- QT_MAT_PROF: integer (nullable = true)\n",
      " |-- QT_MAT_PROF_TEC: integer (nullable = true)\n",
      " |-- QT_MAT_EJA: integer (nullable = true)\n",
      " |-- QT_MAT_EJA_FUND: integer (nullable = true)\n",
      " |-- QT_MAT_EJA_MED: integer (nullable = true)\n",
      " |-- QT_MAT_ESP: integer (nullable = true)\n",
      " |-- QT_MAT_ESP_CC: integer (nullable = true)\n",
      " |-- QT_MAT_ESP_CE: integer (nullable = true)\n",
      " |-- QT_MAT_BAS_FEM: integer (nullable = true)\n",
      " |-- QT_MAT_BAS_MASC: integer (nullable = true)\n",
      " |-- QT_MAT_BAS_ND: integer (nullable = true)\n",
      " |-- QT_MAT_BAS_BRANCA: integer (nullable = true)\n",
      " |-- QT_MAT_BAS_PRETA: integer (nullable = true)\n",
      " |-- QT_MAT_BAS_PARDA: integer (nullable = true)\n",
      " |-- QT_MAT_BAS_AMARELA: integer (nullable = true)\n",
      " |-- QT_MAT_BAS_INDIGENA: integer (nullable = true)\n",
      " |-- QT_MAT_BAS_0_3: integer (nullable = true)\n",
      " |-- QT_MAT_BAS_4_5: integer (nullable = true)\n",
      " |-- QT_MAT_BAS_6_10: integer (nullable = true)\n",
      " |-- QT_MAT_BAS_11_14: integer (nullable = true)\n",
      " |-- QT_MAT_BAS_15_17: integer (nullable = true)\n",
      " |-- QT_MAT_BAS_18_MAIS: integer (nullable = true)\n",
      " |-- QT_MAT_BAS_D: integer (nullable = true)\n",
      " |-- QT_MAT_BAS_N: integer (nullable = true)\n",
      " |-- QT_MAT_BAS_EAD: integer (nullable = true)\n",
      " |-- QT_MAT_INF_INT: integer (nullable = true)\n",
      " |-- QT_MAT_INF_CRE_INT: integer (nullable = true)\n",
      " |-- QT_MAT_INF_PRE_INT: integer (nullable = true)\n",
      " |-- QT_MAT_FUND_INT: integer (nullable = true)\n",
      " |-- QT_MAT_FUND_AI_INT: integer (nullable = true)\n",
      " |-- QT_MAT_FUND_AF_INT: integer (nullable = true)\n",
      " |-- QT_MAT_MED_INT: integer (nullable = true)"
     ]
    }
   ],
   "source": [
    "censoEscolarDF.printSchema()"
   ]
  },
  {
   "cell_type": "code",
   "execution_count": 20,
   "metadata": {
    "scrolled": true
   },
   "outputs": [
    {
     "data": {
      "application/vnd.jupyter.widget-view+json": {
       "model_id": "",
       "version_major": 2,
       "version_minor": 0
      },
      "text/plain": [
       "FloatProgress(value=0.0, bar_style='info', description='Progress:', layout=Layout(height='25px', width='50%'),…"
      ]
     },
     "metadata": {},
     "output_type": "display_data"
    }
   ],
   "source": [
    "s3.save_s3_data(censoEscolarDF,'preprocessado','CENSO_ESCOLAR')\n",
    "s3.save_s3_data(censoEscolarDF,'cliente','CENSO_ESCOLAR')"
   ]
  },
  {
   "cell_type": "markdown",
   "metadata": {},
   "source": [
    "**Censo Escolar Saneamento**"
   ]
  },
  {
   "cell_type": "code",
   "execution_count": 21,
   "metadata": {
    "scrolled": true
   },
   "outputs": [
    {
     "data": {
      "application/vnd.jupyter.widget-view+json": {
       "model_id": "",
       "version_major": 2,
       "version_minor": 0
      },
      "text/plain": [
       "FloatProgress(value=0.0, bar_style='info', description='Progress:', layout=Layout(height='25px', width='50%'),…"
      ]
     },
     "metadata": {},
     "output_type": "display_data"
    },
    {
     "name": "stdout",
     "output_type": "stream",
     "text": [
      "+------------+------------+-----------------+---------------------+--------------------+-------------------------+---------------------------+--------------------+----------------------+------------------------+---------------------------+----------------------------+--------------------------+--------------------+--------------------------+\n",
      "|NU_ANO_CENSO|   NO_REGIAO|            NO_UF|sum(IN_AGUA_FILTRADA)|sum(IN_AGUA_POTAVEL)|sum(IN_AGUA_REDE_PUBLICA)|sum(IN_AGUA_POCO_ARTESIANO)|sum(IN_AGUA_CACIMBA)|sum(IN_AGUA_FONTE_RIO)|sum(IN_AGUA_INEXISTENTE)|sum(IN_ESGOTO_REDE_PUBLICA)|sum(IN_ESGOTO_FOSSA_SEPTICA)|sum(IN_ESGOTO_FOSSA_COMUM)|sum(IN_ESGOTO_FOSSA)|sum(IN_ESGOTO_INEXISTENTE)|\n",
      "+------------+------------+-----------------+---------------------+--------------------+-------------------------+---------------------------+--------------------+----------------------+------------------------+---------------------------+----------------------------+--------------------------+--------------------+--------------------------+\n",
      "|        2019|       Norte|         Amazonas|                    0|                4180|                     1215|                       1829|                 205|                  2411|                     127|                        617|                        1934|                       967|                2901|                      1879|\n",
      "|        2019|    Nordeste|         Maranh�o|                    0|               10804|                     5451|                       4185|                1368|                   302|                    1009|                       1561|                        5197|                      3103|                8300|                      1966|\n",
      "|        2021|    Nordeste|         Maranh�o|                    0|               10579|                     5376|                       4352|                1235|                   244|                     994|                       1461|                        5201|                      3389|                8590|                      1597|\n",
      "|        2020|    Nordeste|            Bahia|                    0|               15759|                    12121|                       2138|                2295|                   879|                     328|                       7827|                        3573|                      4629|                8202|                       749|\n",
      "|        2021|         Sul|           Paran�|                    0|                9370|                     8715|                        793|                 137|                   146|                       5|                       6274|                        2090|                      1256|                3346|                        11|\n",
      "|        2021|    Nordeste|            Piau�|                    0|                4228|                     2860|                       1216|                 380|                    13|                     196|                        943|                        2594|                       540|                3134|                       388|\n",
      "|        2019|    Nordeste|          Alagoas|                    0|                2862|                     2037|                        394|                 807|                    52|                      29|                       1014|                         846|                      1121|                1967|                        97|\n",
      "|        2019|     Sudeste|   Rio de Janeiro|                    0|               11334|                    10409|                        873|                 879|                   202|                      20|                      10218|                         831|                       424|                1255|                        35|\n",
      "|        2020|         Sul|Rio Grande do Sul|                    0|                7801|                     8715|                       1368|                 217|                    53|                      26|                       6421|                        2189|                      1605|                3794|                        24|\n",
      "|        2021|Centro-Oeste|      Mato Grosso|                    0|                2680|                     2006|                        882|                 145|                    77|                      19|                        889|                         971|                       886|                1857|                        70|\n",
      "|        2018|Centro-Oeste| Distrito Federal|                 1242|                   0|                     1188|                         64|                   4|                     3|                       0|                       1105|                           0|                         0|                 142|                         0|\n",
      "|        2019|Centro-Oeste| Distrito Federal|                    0|                1271|                     1225|                         63|                   5|                     2|                       0|                       1162|                          80|                        37|                 117|                         1|\n",
      "|        2021|       Norte|            Amap�|                    0|                 739|                      270|                        341|                 161|                   173|                      33|                         97|                         343|                       354|                 697|                        75|\n",
      "|        2019|     Sudeste|        S�o Paulo|                    0|               29984|                    29113|                        897|                 256|                   129|                      13|                      28473|                        1365|                        65|                1430|                       170|\n",
      "|        2019|    Nordeste|       Pernambuco|                    0|                8102|                     5717|                        983|                2347|                    87|                     285|                       4581|                        1362|                      2491|                3853|                       250|\n",
      "|        2021|Centro-Oeste|            Goi�s|                    0|                4604|                     4175|                        695|                  99|                    78|                       5|                       2650|                        1219|                       798|                2017|                        44|\n",
      "|        2018|    Nordeste|          Para�ba|                 4800|                   0|                     3034|                        463|                1481|                    28|                     310|                       1867|                           0|                         0|                3144|                        77|\n",
      "|        2021|       Norte|         Rond�nia|                    0|                1222|                      638|                        577|                 175|                    23|                      11|                        205|                         544|                       467|                1011|                        56|\n",
      "|        2021|       Norte|             Par�|                    0|                8511|                     3210|                       4515|                1415|                  1427|                     835|                       1271|                        2931|                      5168|                8099|                      1421|\n",
      "|        2019|    Nordeste|            Bahia|                    0|               15993|                    12238|                       2204|                2303|                   933|                     384|                       8017|                        3541|                      4591|                8132|                       886|\n",
      "+------------+------------+-----------------+---------------------+--------------------+-------------------------+---------------------------+--------------------+----------------------+------------------------+---------------------------+----------------------------+--------------------------+--------------------+--------------------------+\n",
      "only showing top 20 rows"
     ]
    }
   ],
   "source": [
    "censoEscolarSaneamentoDF = censoEscolarDF.groupBy('NU_ANO_CENSO','NO_REGIAO','NO_UF').sum('IN_AGUA_FILTRADA','IN_AGUA_POTAVEL','IN_AGUA_REDE_PUBLICA','IN_AGUA_POCO_ARTESIANO','IN_AGUA_CACIMBA','IN_AGUA_FONTE_RIO','IN_AGUA_INEXISTENTE','IN_ESGOTO_REDE_PUBLICA','IN_ESGOTO_FOSSA_SEPTICA','IN_ESGOTO_FOSSA_COMUM','IN_ESGOTO_FOSSA','IN_ESGOTO_INEXISTENTE')\n",
    "\n",
    "censoEscolarSaneamentoDF.show()"
   ]
  },
  {
   "cell_type": "code",
   "execution_count": 22,
   "metadata": {
    "scrolled": true
   },
   "outputs": [
    {
     "data": {
      "application/vnd.jupyter.widget-view+json": {
       "model_id": "",
       "version_major": 2,
       "version_minor": 0
      },
      "text/plain": [
       "FloatProgress(value=0.0, bar_style='info', description='Progress:', layout=Layout(height='25px', width='50%'),…"
      ]
     },
     "metadata": {},
     "output_type": "display_data"
    }
   ],
   "source": [
    "s3.save_s3_data(censoEscolarSaneamentoDF,'preprocessado','CENSO_ESCOLAR/DADOS_SANEAMENTO')\n",
    "s3.save_s3_data(censoEscolarSaneamentoDF,'cliente','CENSO_ESCOLAR/DADOS_SANEAMENTO')"
   ]
  },
  {
   "cell_type": "code",
   "execution_count": 28,
   "metadata": {
    "scrolled": true
   },
   "outputs": [
    {
     "data": {
      "application/vnd.jupyter.widget-view+json": {
       "model_id": "",
       "version_major": 2,
       "version_minor": 0
      },
      "text/plain": [
       "FloatProgress(value=0.0, bar_style='info', description='Progress:', layout=Layout(height='25px', width='50%'),…"
      ]
     },
     "metadata": {},
     "output_type": "display_data"
    },
    {
     "name": "stderr",
     "output_type": "stream",
     "text": [
      "An error was encountered:\n",
      "An error occurred while calling o2084.save.\n",
      ": java.lang.ClassNotFoundException: Failed to find data source: com.microsoft.sqlserver.jdbc.spark. Please find packages at http://spark.apache.org/third-party-projects.html\n",
      "\tat org.apache.spark.sql.execution.datasources.DataSource$.lookupDataSource(DataSource.scala:679)\n",
      "\tat org.apache.spark.sql.execution.datasources.DataSource$.lookupDataSourceV2(DataSource.scala:733)\n",
      "\tat org.apache.spark.sql.DataFrameWriter.lookupV2Provider(DataFrameWriter.scala:967)\n",
      "\tat org.apache.spark.sql.DataFrameWriter.save(DataFrameWriter.scala:304)\n",
      "\tat sun.reflect.NativeMethodAccessorImpl.invoke0(Native Method)\n",
      "\tat sun.reflect.NativeMethodAccessorImpl.invoke(NativeMethodAccessorImpl.java:62)\n",
      "\tat sun.reflect.DelegatingMethodAccessorImpl.invoke(DelegatingMethodAccessorImpl.java:43)\n",
      "\tat java.lang.reflect.Method.invoke(Method.java:498)\n",
      "\tat py4j.reflection.MethodInvoker.invoke(MethodInvoker.java:244)\n",
      "\tat py4j.reflection.ReflectionEngine.invoke(ReflectionEngine.java:357)\n",
      "\tat py4j.Gateway.invoke(Gateway.java:282)\n",
      "\tat py4j.commands.AbstractCommand.invokeMethod(AbstractCommand.java:132)\n",
      "\tat py4j.commands.CallCommand.execute(CallCommand.java:79)\n",
      "\tat py4j.GatewayConnection.run(GatewayConnection.java:238)\n",
      "\tat java.lang.Thread.run(Thread.java:750)\n",
      "Caused by: java.lang.ClassNotFoundException: com.microsoft.sqlserver.jdbc.spark.DefaultSource\n",
      "\tat java.net.URLClassLoader.findClass(URLClassLoader.java:387)\n",
      "\tat java.lang.ClassLoader.loadClass(ClassLoader.java:418)\n",
      "\tat java.lang.ClassLoader.loadClass(ClassLoader.java:351)\n",
      "\tat org.apache.spark.sql.execution.datasources.DataSource$.$anonfun$lookupDataSource$5(DataSource.scala:653)\n",
      "\tat scala.util.Try$.apply(Try.scala:213)\n",
      "\tat org.apache.spark.sql.execution.datasources.DataSource$.$anonfun$lookupDataSource$4(DataSource.scala:653)\n",
      "\tat scala.util.Failure.orElse(Try.scala:224)\n",
      "\tat org.apache.spark.sql.execution.datasources.DataSource$.lookupDataSource(DataSource.scala:653)\n",
      "\t... 14 more\n",
      "\n",
      "Traceback (most recent call last):\n",
      "  File \"<stdin>\", line 13, in save_data_client_side\n",
      "  File \"/usr/lib/spark/python/lib/pyspark.zip/pyspark/sql/readwriter.py\", line 825, in save\n",
      "    self._jwrite.save()\n",
      "  File \"/usr/lib/spark/python/lib/py4j-0.10.9-src.zip/py4j/java_gateway.py\", line 1305, in __call__\n",
      "    answer, self.gateway_client, self.target_id, self.name)\n",
      "  File \"/usr/lib/spark/python/lib/pyspark.zip/pyspark/sql/utils.py\", line 128, in deco\n",
      "    return f(*a, **kw)\n",
      "  File \"/usr/lib/spark/python/lib/py4j-0.10.9-src.zip/py4j/protocol.py\", line 328, in get_return_value\n",
      "    format(target_id, \".\", name), value)\n",
      "py4j.protocol.Py4JJavaError: An error occurred while calling o2084.save.\n",
      ": java.lang.ClassNotFoundException: Failed to find data source: com.microsoft.sqlserver.jdbc.spark. Please find packages at http://spark.apache.org/third-party-projects.html\n",
      "\tat org.apache.spark.sql.execution.datasources.DataSource$.lookupDataSource(DataSource.scala:679)\n",
      "\tat org.apache.spark.sql.execution.datasources.DataSource$.lookupDataSourceV2(DataSource.scala:733)\n",
      "\tat org.apache.spark.sql.DataFrameWriter.lookupV2Provider(DataFrameWriter.scala:967)\n",
      "\tat org.apache.spark.sql.DataFrameWriter.save(DataFrameWriter.scala:304)\n",
      "\tat sun.reflect.NativeMethodAccessorImpl.invoke0(Native Method)\n",
      "\tat sun.reflect.NativeMethodAccessorImpl.invoke(NativeMethodAccessorImpl.java:62)\n",
      "\tat sun.reflect.DelegatingMethodAccessorImpl.invoke(DelegatingMethodAccessorImpl.java:43)\n",
      "\tat java.lang.reflect.Method.invoke(Method.java:498)\n",
      "\tat py4j.reflection.MethodInvoker.invoke(MethodInvoker.java:244)\n",
      "\tat py4j.reflection.ReflectionEngine.invoke(ReflectionEngine.java:357)\n",
      "\tat py4j.Gateway.invoke(Gateway.java:282)\n",
      "\tat py4j.commands.AbstractCommand.invokeMethod(AbstractCommand.java:132)\n",
      "\tat py4j.commands.CallCommand.execute(CallCommand.java:79)\n",
      "\tat py4j.GatewayConnection.run(GatewayConnection.java:238)\n",
      "\tat java.lang.Thread.run(Thread.java:750)\n",
      "Caused by: java.lang.ClassNotFoundException: com.microsoft.sqlserver.jdbc.spark.DefaultSource\n",
      "\tat java.net.URLClassLoader.findClass(URLClassLoader.java:387)\n",
      "\tat java.lang.ClassLoader.loadClass(ClassLoader.java:418)\n",
      "\tat java.lang.ClassLoader.loadClass(ClassLoader.java:351)\n",
      "\tat org.apache.spark.sql.execution.datasources.DataSource$.$anonfun$lookupDataSource$5(DataSource.scala:653)\n",
      "\tat scala.util.Try$.apply(Try.scala:213)\n",
      "\tat org.apache.spark.sql.execution.datasources.DataSource$.$anonfun$lookupDataSource$4(DataSource.scala:653)\n",
      "\tat scala.util.Failure.orElse(Try.scala:224)\n",
      "\tat org.apache.spark.sql.execution.datasources.DataSource$.lookupDataSource(DataSource.scala:653)\n",
      "\t... 14 more\n",
      "\n",
      "\n"
     ]
    }
   ],
   "source": [
    "s3.save_data_client_side(censoEscolarSaneamentoDF,'CENSO_ESCOLAR_DADOS_SANEAMENTO')"
   ]
  },
  {
   "cell_type": "markdown",
   "metadata": {},
   "source": [
    "**Censo Escolar Energia**"
   ]
  },
  {
   "cell_type": "code",
   "execution_count": 61,
   "metadata": {
    "scrolled": true
   },
   "outputs": [
    {
     "name": "stderr",
     "output_type": "stream",
     "text": [
      "[Stage 46:==================================================>       (7 + 1) / 8]\r"
     ]
    },
    {
     "name": "stdout",
     "output_type": "stream",
     "text": [
      "+------------+---------+-------------------+----------------------------+-----------------------+------------------------------+----------------------+-------------------------+---------------------------+\n",
      "|NU_ANO_CENSO|NO_REGIAO|              NO_UF|sum(IN_ENERGIA_REDE_PUBLICA)|sum(IN_ENERGIA_GERADOR)|sum(IN_ENERGIA_GERADOR_FOSSIL)|sum(IN_ENERGIA_OUTROS)|sum(IN_ENERGIA_RENOVAVEL)|sum(IN_ENERGIA_INEXISTENTE)|\n",
      "+------------+---------+-------------------+----------------------------+-----------------------+------------------------------+----------------------+-------------------------+---------------------------+\n",
      "|        2018|    Norte|               Par�|                        8144|                   1135|                             0|                   221|                        0|                       1407|\n",
      "|        2018|    Norte|               Acre|                         905|                    105|                             0|                    20|                        0|                        565|\n",
      "|        2018| Nordeste|           Maranh�o|                       11686|                     58|                             0|                    31|                        0|                        215|\n",
      "|        2018|  Sudeste|       Minas Gerais|                       16219|                     35|                             0|                    90|                        0|                          2|\n",
      "|        2018| Nordeste|         Pernambuco|                        8663|                     21|                             0|                    13|                        0|                         28|\n",
      "|        2018|    Norte|              Amap�|                         661|                    143|                             0|                    14|                        0|                         48|\n",
      "|        2018|    Norte|            Roraima|                         564|                    101|                             0|                     1|                        0|                        179|\n",
      "|        2018| Nordeste|              Cear�|                        7791|                     42|                             0|                     7|                        0|                          0|\n",
      "|        2018| Nordeste|Rio Grande do Norte|                        3608|                     19|                             0|                    13|                        0|                          3|\n",
      "|        2018|    Norte|           Rond�nia|                        1217|                     37|                             0|                     2|                        0|                         36|\n",
      "|        2018| Nordeste|            Alagoas|                        3079|                      8|                             0|                     5|                        0|                          5|\n",
      "|        2018| Nordeste|              Bahia|                       16820|                     44|                             0|                   182|                        0|                        391|\n",
      "|        2018| Nordeste|            Para�ba|                        4955|                      9|                             0|                     7|                        0|                         18|\n",
      "|        2018|    Norte|           Amazonas|                        3338|                    743|                             0|                   210|                        0|                       1193|\n",
      "|        2018| Nordeste|            Sergipe|                        2124|                      3|                             0|                     3|                        0|                          0|\n",
      "|        2018| Nordeste|              Piau�|                        4583|                     25|                             0|                    13|                        0|                         81|\n",
      "|        2018|    Norte|          Tocantins|                        1624|                     11|                             0|                     4|                        0|                         25|\n",
      "|        2018|      Sul|  Rio Grande do Sul|                       10060|                     43|                             0|                    26|                        0|                          1|\n",
      "|        2018|      Sul|     Santa Catarina|                        6444|                     29|                             0|                    15|                        0|                          0|\n",
      "|        2018|  Sudeste|     Rio de Janeiro|                       11328|                     33|                             0|                    35|                        0|                          0|\n",
      "+------------+---------+-------------------+----------------------------+-----------------------+------------------------------+----------------------+-------------------------+---------------------------+\n",
      "only showing top 20 rows\n",
      "\n"
     ]
    },
    {
     "name": "stderr",
     "output_type": "stream",
     "text": [
      "                                                                                \r"
     ]
    }
   ],
   "source": [
    "censoEscolarEnergiaDF = censoEscolarDF.groupBy('NU_ANO_CENSO','NO_REGIAO','NO_UF').sum('IN_ENERGIA_REDE_PUBLICA','IN_ENERGIA_GERADOR','IN_ENERGIA_GERADOR_FOSSIL','IN_ENERGIA_OUTROS','IN_ENERGIA_RENOVAVEL','IN_ENERGIA_INEXISTENTE')\n",
    "censoEscolarEnergiaDF.show()"
   ]
  },
  {
   "cell_type": "code",
   "execution_count": 20,
   "metadata": {
    "scrolled": true
   },
   "outputs": [
    {
     "name": "stderr",
     "output_type": "stream",
     "text": [
      "22/06/22 02:25:28 WARN AbstractS3ACommitterFactory: Using standard FileOutputCommitter to commit work. This is slow and potentially unsafe.\n",
      "22/06/22 02:25:28 WARN AbstractS3ACommitterFactory: Using standard FileOutputCommitter to commit work. This is slow and potentially unsafe.\n",
      "22/06/22 02:25:28 WARN AbstractS3ACommitterFactory: Using standard FileOutputCommitter to commit work. This is slow and potentially unsafe.\n",
      "22/06/22 02:25:36 WARN AbstractS3ACommitterFactory: Using standard FileOutputCommitter to commit work. This is slow and potentially unsafe.\n",
      "22/06/22 02:25:36 WARN AbstractS3ACommitterFactory: Using standard FileOutputCommitter to commit work. This is slow and potentially unsafe.\n",
      "22/06/22 02:25:43 WARN AbstractS3ACommitterFactory: Using standard FileOutputCommitter to commit work. This is slow and potentially unsafe.\n",
      "22/06/22 02:25:43 WARN AbstractS3ACommitterFactory: Using standard FileOutputCommitter to commit work. This is slow and potentially unsafe.\n",
      "22/06/22 02:25:49 WARN AbstractS3ACommitterFactory: Using standard FileOutputCommitter to commit work. This is slow and potentially unsafe.\n",
      "22/06/22 02:25:49 WARN AbstractS3ACommitterFactory: Using standard FileOutputCommitter to commit work. This is slow and potentially unsafe.\n",
      "22/06/22 02:26:05 WARN AbstractS3ACommitterFactory: Using standard FileOutputCommitter to commit work. This is slow and potentially unsafe.\n",
      "22/06/22 02:26:06 WARN AbstractS3ACommitterFactory: Using standard FileOutputCommitter to commit work. This is slow and potentially unsafe.\n",
      "22/06/22 02:26:06 WARN AbstractS3ACommitterFactory: Using standard FileOutputCommitter to commit work. This is slow and potentially unsafe.\n",
      "22/06/22 02:26:10 WARN AbstractS3ACommitterFactory: Using standard FileOutputCommitter to commit work. This is slow and potentially unsafe.\n",
      "22/06/22 02:26:11 WARN AbstractS3ACommitterFactory: Using standard FileOutputCommitter to commit work. This is slow and potentially unsafe.\n",
      "22/06/22 02:26:16 WARN AbstractS3ACommitterFactory: Using standard FileOutputCommitter to commit work. This is slow and potentially unsafe.\n",
      "22/06/22 02:26:16 WARN AbstractS3ACommitterFactory: Using standard FileOutputCommitter to commit work. This is slow and potentially unsafe.\n",
      "22/06/22 02:26:21 WARN AbstractS3ACommitterFactory: Using standard FileOutputCommitter to commit work. This is slow and potentially unsafe.\n",
      "22/06/22 02:26:21 WARN AbstractS3ACommitterFactory: Using standard FileOutputCommitter to commit work. This is slow and potentially unsafe.\n",
      "                                                                                \r"
     ]
    }
   ],
   "source": [
    "s3.save_s3_data(censoEscolarEnergiaDF,'preprocessado','CENSO_ESCOLAR/DADOS_ENERGIA')\n",
    "s3.save_s3_data(censoEscolarEnergiaDF,'cliente','CENSO_ESCOLAR/DADOS_ENERGIA')"
   ]
  },
  {
   "cell_type": "code",
   "execution_count": 21,
   "metadata": {},
   "outputs": [
    {
     "name": "stderr",
     "output_type": "stream",
     "text": [
      "                                                                                \r"
     ]
    }
   ],
   "source": [
    "s3.save_data_client_side(censoEscolarEnergiaDF,'CENSO_ESCOLAR_DADOS_ENERGIA')"
   ]
  },
  {
   "cell_type": "markdown",
   "metadata": {},
   "source": [
    "**Censo Escolar Reciclagem**"
   ]
  },
  {
   "cell_type": "code",
   "execution_count": 51,
   "metadata": {
    "scrolled": true
   },
   "outputs": [
    {
     "name": "stdout",
     "output_type": "stream",
     "text": [
      "+------------+---------+--------+--------------------+-----------------+---------------+----------------------+--------------+---------------+-----------------------------+---------------------------+-----------------------+--------------+---------------+\n",
      "|NU_ANO_CENSO|NO_REGIAO|   NO_UF|        NO_MUNICIPIO|   NO_MESORREGIAO|NO_MICRORREGIAO|IN_LIXO_SERVICO_COLETA|IN_LIXO_QUEIMA|IN_LIXO_ENTERRA|IN_LIXO_DESTINO_FINAL_PUBLICO|IN_LIXO_DESCARTA_OUTRA_AREA|IN_LIXO_JOGA_OUTRA_AREA|IN_LIXO_OUTROS|IN_LIXO_RECICLA|\n",
      "+------------+---------+--------+--------------------+-----------------+---------------+----------------------+--------------+---------------+-----------------------------+---------------------------+-----------------------+--------------+---------------+\n",
      "|        2018|    Norte|Rond�nia|Alta Floresta D'O...|Leste Rondoniense|         Cacoal|                     0|             1|              1|                            0|                          0|                      0|             0|              0|\n",
      "|        2018|    Norte|Rond�nia|Alta Floresta D'O...|Leste Rondoniense|         Cacoal|                     1|             1|              0|                            0|                          0|                      0|             0|              0|\n",
      "|        2018|    Norte|Rond�nia|Alta Floresta D'O...|Leste Rondoniense|         Cacoal|                     0|             1|              0|                            0|                          0|                      0|             0|              0|\n",
      "|        2018|    Norte|Rond�nia|Alta Floresta D'O...|Leste Rondoniense|         Cacoal|                     1|             0|              0|                            0|                          0|                      0|             0|              0|\n",
      "|        2018|    Norte|Rond�nia|Alta Floresta D'O...|Leste Rondoniense|         Cacoal|                     0|             0|              0|                            0|                          0|                      0|             0|              0|\n",
      "|        2018|    Norte|Rond�nia|Alta Floresta D'O...|Leste Rondoniense|         Cacoal|                     0|             0|              0|                            0|                          0|                      0|             0|              0|\n",
      "|        2018|    Norte|Rond�nia|Alta Floresta D'O...|Leste Rondoniense|         Cacoal|                     0|             0|              0|                            0|                          0|                      0|             0|              0|\n",
      "|        2018|    Norte|Rond�nia|Alta Floresta D'O...|Leste Rondoniense|         Cacoal|                     0|             1|              0|                            0|                          0|                      0|             0|              0|\n",
      "|        2018|    Norte|Rond�nia|Alta Floresta D'O...|Leste Rondoniense|         Cacoal|                     1|             0|              0|                            0|                          0|                      0|             0|              1|\n",
      "|        2018|    Norte|Rond�nia|Alta Floresta D'O...|Leste Rondoniense|         Cacoal|                     0|             0|              0|                            0|                          0|                      0|             0|              0|\n",
      "|        2018|    Norte|Rond�nia|Alta Floresta D'O...|Leste Rondoniense|         Cacoal|                     1|             0|              0|                            0|                          0|                      0|             0|              0|\n",
      "|        2018|    Norte|Rond�nia|Alta Floresta D'O...|Leste Rondoniense|         Cacoal|                     0|             1|              0|                            0|                          0|                      0|             0|              0|\n",
      "|        2018|    Norte|Rond�nia|Alta Floresta D'O...|Leste Rondoniense|         Cacoal|                     1|             0|              0|                            0|                          0|                      0|             0|              0|\n",
      "|        2018|    Norte|Rond�nia|Alta Floresta D'O...|Leste Rondoniense|         Cacoal|                     0|             0|              0|                            0|                          0|                      0|             0|              0|\n",
      "|        2018|    Norte|Rond�nia|Alta Floresta D'O...|Leste Rondoniense|         Cacoal|                     0|             1|              0|                            0|                          0|                      0|             0|              0|\n",
      "|        2018|    Norte|Rond�nia|Alta Floresta D'O...|Leste Rondoniense|         Cacoal|                     0|             1|              0|                            0|                          0|                      0|             0|              0|\n",
      "|        2018|    Norte|Rond�nia|Alta Floresta D'O...|Leste Rondoniense|         Cacoal|                     0|             0|              0|                            0|                          0|                      0|             0|              0|\n",
      "|        2018|    Norte|Rond�nia|Alta Floresta D'O...|Leste Rondoniense|         Cacoal|                     0|             1|              0|                            0|                          0|                      0|             0|              0|\n",
      "|        2018|    Norte|Rond�nia|Alta Floresta D'O...|Leste Rondoniense|         Cacoal|                     0|             0|              0|                            0|                          0|                      0|             0|              0|\n",
      "|        2018|    Norte|Rond�nia|Alta Floresta D'O...|Leste Rondoniense|         Cacoal|                     0|             1|              0|                            0|                          0|                      0|             0|              0|\n",
      "+------------+---------+--------+--------------------+-----------------+---------------+----------------------+--------------+---------------+-----------------------------+---------------------------+-----------------------+--------------+---------------+\n",
      "only showing top 20 rows\n",
      "\n"
     ]
    }
   ],
   "source": [
    "censoEscolarReciclagemDF = censoEscolarDF.groupBy('NU_ANO_CENSO','NO_REGIAO','NO_UF').sum('IN_LIXO_SERVICO_COLETA','IN_LIXO_QUEIMA','IN_LIXO_ENTERRA','IN_LIXO_DESTINO_FINAL_PUBLICO','IN_LIXO_DESCARTA_OUTRA_AREA','IN_LIXO_JOGA_OUTRA_AREA','IN_LIXO_OUTROS','IN_LIXO_RECICLA')\n",
    "censoEscolarReciclagemDF.show()"
   ]
  },
  {
   "cell_type": "code",
   "execution_count": 23,
   "metadata": {
    "scrolled": true
   },
   "outputs": [
    {
     "name": "stderr",
     "output_type": "stream",
     "text": [
      "22/06/22 02:32:50 WARN AbstractS3ACommitterFactory: Using standard FileOutputCommitter to commit work. This is slow and potentially unsafe.\n",
      "22/06/22 02:32:51 WARN AbstractS3ACommitterFactory: Using standard FileOutputCommitter to commit work. This is slow and potentially unsafe.\n",
      "22/06/22 02:32:51 WARN AbstractS3ACommitterFactory: Using standard FileOutputCommitter to commit work. This is slow and potentially unsafe.\n",
      "22/06/22 02:32:57 WARN AbstractS3ACommitterFactory: Using standard FileOutputCommitter to commit work. This is slow and potentially unsafe.\n",
      "22/06/22 02:32:57 WARN AbstractS3ACommitterFactory: Using standard FileOutputCommitter to commit work. This is slow and potentially unsafe.\n",
      "22/06/22 02:33:02 WARN AbstractS3ACommitterFactory: Using standard FileOutputCommitter to commit work. This is slow and potentially unsafe.\n",
      "22/06/22 02:33:03 WARN AbstractS3ACommitterFactory: Using standard FileOutputCommitter to commit work. This is slow and potentially unsafe.\n",
      "22/06/22 02:33:08 WARN AbstractS3ACommitterFactory: Using standard FileOutputCommitter to commit work. This is slow and potentially unsafe.\n",
      "22/06/22 02:33:09 WARN AbstractS3ACommitterFactory: Using standard FileOutputCommitter to commit work. This is slow and potentially unsafe.\n",
      "22/06/22 02:33:22 WARN AbstractS3ACommitterFactory: Using standard FileOutputCommitter to commit work. This is slow and potentially unsafe.\n",
      "22/06/22 02:33:23 WARN AbstractS3ACommitterFactory: Using standard FileOutputCommitter to commit work. This is slow and potentially unsafe.\n",
      "22/06/22 02:33:23 WARN AbstractS3ACommitterFactory: Using standard FileOutputCommitter to commit work. This is slow and potentially unsafe.\n",
      "22/06/22 02:33:28 WARN AbstractS3ACommitterFactory: Using standard FileOutputCommitter to commit work. This is slow and potentially unsafe.\n",
      "22/06/22 02:33:28 WARN AbstractS3ACommitterFactory: Using standard FileOutputCommitter to commit work. This is slow and potentially unsafe.\n",
      "22/06/22 02:33:33 WARN AbstractS3ACommitterFactory: Using standard FileOutputCommitter to commit work. This is slow and potentially unsafe.\n",
      "22/06/22 02:33:34 WARN AbstractS3ACommitterFactory: Using standard FileOutputCommitter to commit work. This is slow and potentially unsafe.\n",
      "22/06/22 02:33:37 WARN AbstractS3ACommitterFactory: Using standard FileOutputCommitter to commit work. This is slow and potentially unsafe.\n",
      "22/06/22 02:33:38 WARN AbstractS3ACommitterFactory: Using standard FileOutputCommitter to commit work. This is slow and potentially unsafe.\n",
      "                                                                                \r"
     ]
    }
   ],
   "source": [
    "s3.save_s3_data(censoEscolarReciclagemDF,'preprocessado','CENSO_ESCOLAR/DADOS_RECICLAGEM')\n",
    "s3.save_s3_data(censoEscolarReciclagemDF,'cliente','CENSO_ESCOLAR/DADOS_RECICLAGEM')"
   ]
  },
  {
   "cell_type": "code",
   "execution_count": 24,
   "metadata": {},
   "outputs": [
    {
     "name": "stderr",
     "output_type": "stream",
     "text": [
      "                                                                                \r"
     ]
    }
   ],
   "source": [
    "s3.save_data_client_side(censoEscolarReciclagemDF,'CENSO_ESCOLAR_DADOS_RECICLAGEM')"
   ]
  },
  {
   "cell_type": "markdown",
   "metadata": {},
   "source": [
    "**Censo Escolar Predio**"
   ]
  },
  {
   "cell_type": "code",
   "execution_count": 52,
   "metadata": {},
   "outputs": [
    {
     "name": "stdout",
     "output_type": "stream",
     "text": [
      "+------------+---------+--------+--------------------+-----------------+---------------+-------------+--------------------------+----------+-----------+-------------------+-----------------------+-----------------------+--------------------------+----------------+-------------------+------------------+----------+------------------+--------------------------+-----------------------------+-------------+-------------------+--------------------------+------------------------+-------------------+-----------------------------+------------------------------+--------------+\n",
      "|NU_ANO_CENSO|NO_REGIAO|   NO_UF|        NO_MUNICIPIO|   NO_MESORREGIAO|NO_MICRORREGIAO|IN_BIBLIOTECA|IN_BIBLIOTECA_SALA_LEITURA|IN_COZINHA|IN_DESPENSA|IN_DORMITORIO_ALUNO|IN_DORMITORIO_PROFESSOR|IN_LABORATORIO_CIENCIAS|IN_LABORATORIO_INFORMATICA|IN_PATIO_COBERTO|IN_PATIO_DESCOBERTO|IN_PARQUE_INFANTIL|IN_PISCINA|IN_QUADRA_ESPORTES|IN_QUADRA_ESPORTES_COBERTA|IN_QUADRA_ESPORTES_DESCOBERTA|IN_REFEITORIO|QT_SALAS_EXISTENTES|QT_SALAS_UTILIZADAS_DENTRO|QT_SALAS_UTILIZADAS_FORA|QT_SALAS_UTILIZADAS|QT_SALAS_UTILIZA_CLIMATIZADAS|QT_SALAS_UTILIZADAS_ACESSIVEIS|IN_ALIMENTACAO|\n",
      "+------------+---------+--------+--------------------+-----------------+---------------+-------------+--------------------------+----------+-----------+-------------------+-----------------------+-----------------------+--------------------------+----------------+-------------------+------------------+----------+------------------+--------------------------+-----------------------------+-------------+-------------------+--------------------------+------------------------+-------------------+-----------------------------+------------------------------+--------------+\n",
      "|        2018|    Norte|Rond�nia|Alta Floresta D'O...|Leste Rondoniense|         Cacoal|            0|                         0|         1|          0|                  0|                      0|                      0|                         0|               0|                  0|                 0|         0|                 0|                         0|                            0|            0|                  2|                         0|                       0|                  1|                            0|                             0|             1|\n",
      "|        2018|    Norte|Rond�nia|Alta Floresta D'O...|Leste Rondoniense|         Cacoal|            1|                         1|         1|          1|                  0|                      0|                      1|                         1|               1|                  0|                 0|         0|                 1|                         0|                            1|            1|                 16|                         0|                       0|                 20|                            0|                             0|             1|\n",
      "|        2018|    Norte|Rond�nia|Alta Floresta D'O...|Leste Rondoniense|         Cacoal|            0|                         0|         1|          0|                  0|                      0|                      0|                         0|               0|                  1|                 0|         0|                 0|                         0|                            0|            0|                  1|                         0|                       0|                  1|                            0|                             0|             1|\n",
      "|        2018|    Norte|Rond�nia|Alta Floresta D'O...|Leste Rondoniense|         Cacoal|            1|                         1|         1|          1|                  0|                      0|                      0|                         0|               1|                  0|                 0|         0|                 1|                         1|                            0|            1|                  7|                         0|                       0|                  7|                            0|                             0|             1|\n",
      "|        2018|    Norte|Rond�nia|Alta Floresta D'O...|Leste Rondoniense|         Cacoal|            0|                         0|         0|          0|                  0|                      0|                      0|                         0|               0|                  0|                 0|         0|                 0|                         0|                            0|            0|                  0|                         0|                       0|                  0|                            0|                             0|             0|\n",
      "|        2018|    Norte|Rond�nia|Alta Floresta D'O...|Leste Rondoniense|         Cacoal|            0|                         0|         0|          0|                  0|                      0|                      0|                         0|               0|                  0|                 0|         0|                 0|                         0|                            0|            0|                  0|                         0|                       0|                  0|                            0|                             0|             0|\n",
      "|        2018|    Norte|Rond�nia|Alta Floresta D'O...|Leste Rondoniense|         Cacoal|            0|                         0|         0|          0|                  0|                      0|                      0|                         0|               0|                  0|                 0|         0|                 0|                         0|                            0|            0|                  0|                         0|                       0|                  0|                            0|                             0|             0|\n",
      "|        2018|    Norte|Rond�nia|Alta Floresta D'O...|Leste Rondoniense|         Cacoal|            0|                         0|         1|          1|                  0|                      0|                      0|                         0|               1|                  0|                 0|         0|                 1|                         1|                            0|            0|                  9|                         0|                       0|                  8|                            0|                             0|             1|\n",
      "|        2018|    Norte|Rond�nia|Alta Floresta D'O...|Leste Rondoniense|         Cacoal|            1|                         1|         1|          1|                  0|                      0|                      0|                         1|               1|                  0|                 0|         0|                 1|                         1|                            0|            1|                 14|                         0|                       0|                 14|                            0|                             0|             1|\n",
      "|        2018|    Norte|Rond�nia|Alta Floresta D'O...|Leste Rondoniense|         Cacoal|            0|                         0|         0|          0|                  0|                      0|                      0|                         0|               0|                  0|                 0|         0|                 0|                         0|                            0|            0|                  0|                         0|                       0|                  0|                            0|                             0|             0|\n",
      "|        2018|    Norte|Rond�nia|Alta Floresta D'O...|Leste Rondoniense|         Cacoal|            0|                         0|         1|          1|                  0|                      0|                      0|                         0|               1|                  0|                 0|         0|                 1|                         1|                            0|            0|                 16|                         0|                       0|                 15|                            0|                             0|             1|\n",
      "|        2018|    Norte|Rond�nia|Alta Floresta D'O...|Leste Rondoniense|         Cacoal|            1|                         1|         1|          1|                  0|                      0|                      0|                         0|               1|                  0|                 0|         0|                 1|                         1|                            0|            0|                 10|                         0|                       0|                 10|                            0|                             0|             1|\n",
      "|        2018|    Norte|Rond�nia|Alta Floresta D'O...|Leste Rondoniense|         Cacoal|            1|                         1|         1|          1|                  0|                      0|                      1|                         1|               1|                  0|                 0|         0|                 1|                         1|                            0|            1|                 16|                         0|                       0|                 13|                            0|                             0|             1|\n",
      "|        2018|    Norte|Rond�nia|Alta Floresta D'O...|Leste Rondoniense|         Cacoal|            0|                         0|         0|          0|                  0|                      0|                      0|                         0|               0|                  0|                 0|         0|                 0|                         0|                            0|            0|                  0|                         0|                       0|                  0|                            0|                             0|             0|\n",
      "|        2018|    Norte|Rond�nia|Alta Floresta D'O...|Leste Rondoniense|         Cacoal|            0|                         0|         1|          1|                  0|                      0|                      0|                         0|               0|                  0|                 0|         0|                 0|                         0|                            0|            0|                  1|                         0|                       0|                  1|                            0|                             0|             1|\n",
      "|        2018|    Norte|Rond�nia|Alta Floresta D'O...|Leste Rondoniense|         Cacoal|            0|                         0|         1|          1|                  0|                      0|                      0|                         0|               1|                  0|                 0|         0|                 1|                         1|                            0|            0|                 12|                         0|                       0|                 12|                            0|                             0|             1|\n",
      "|        2018|    Norte|Rond�nia|Alta Floresta D'O...|Leste Rondoniense|         Cacoal|            0|                         0|         0|          0|                  0|                      0|                      0|                         0|               0|                  0|                 0|         0|                 0|                         0|                            0|            0|                  0|                         0|                       0|                  0|                            0|                             0|             0|\n",
      "|        2018|    Norte|Rond�nia|Alta Floresta D'O...|Leste Rondoniense|         Cacoal|            1|                         1|         1|          0|                  0|                      0|                      0|                         0|               0|                  0|                 0|         0|                 1|                         1|                            0|            0|                  7|                         0|                       0|                  2|                            0|                             0|             1|\n",
      "|        2018|    Norte|Rond�nia|Alta Floresta D'O...|Leste Rondoniense|         Cacoal|            0|                         0|         0|          0|                  0|                      0|                      0|                         0|               0|                  0|                 0|         0|                 0|                         0|                            0|            0|                  0|                         0|                       0|                  0|                            0|                             0|             0|\n",
      "|        2018|    Norte|Rond�nia|Alta Floresta D'O...|Leste Rondoniense|         Cacoal|            1|                         1|         1|          0|                  0|                      0|                      0|                         0|               0|                  0|                 0|         0|                 1|                         1|                            0|            0|                  7|                         0|                       0|                 10|                            0|                             0|             1|\n",
      "+------------+---------+--------+--------------------+-----------------+---------------+-------------+--------------------------+----------+-----------+-------------------+-----------------------+-----------------------+--------------------------+----------------+-------------------+------------------+----------+------------------+--------------------------+-----------------------------+-------------+-------------------+--------------------------+------------------------+-------------------+-----------------------------+------------------------------+--------------+\n",
      "only showing top 20 rows\n",
      "\n"
     ]
    }
   ],
   "source": [
    "censoEscolarPredioDF = censoEscolarDF.groupBy('NU_ANO_CENSO','NO_REGIAO','NO_UF').sum('IN_BIBLIOTECA','IN_BIBLIOTECA_SALA_LEITURA','IN_COZINHA','IN_DESPENSA','IN_DORMITORIO_ALUNO','IN_DORMITORIO_PROFESSOR','IN_LABORATORIO_CIENCIAS','IN_LABORATORIO_INFORMATICA','IN_PATIO_COBERTO','IN_PATIO_DESCOBERTO','IN_PARQUE_INFANTIL','IN_PISCINA','IN_QUADRA_ESPORTES','IN_QUADRA_ESPORTES_COBERTA','IN_QUADRA_ESPORTES_DESCOBERTA','IN_REFEITORIO','QT_SALAS_EXISTENTES','QT_SALAS_UTILIZADAS_DENTRO','QT_SALAS_UTILIZADAS_FORA','QT_SALAS_UTILIZADAS','QT_SALAS_UTILIZA_CLIMATIZADAS','QT_SALAS_UTILIZADAS_ACESSIVEIS','IN_ALIMENTACAO')\n",
    "censoEscolarPredioDF.show()"
   ]
  },
  {
   "cell_type": "code",
   "execution_count": 26,
   "metadata": {
    "scrolled": true
   },
   "outputs": [
    {
     "name": "stderr",
     "output_type": "stream",
     "text": [
      "22/06/22 02:39:05 WARN AbstractS3ACommitterFactory: Using standard FileOutputCommitter to commit work. This is slow and potentially unsafe.\n",
      "22/06/22 02:39:05 WARN AbstractS3ACommitterFactory: Using standard FileOutputCommitter to commit work. This is slow and potentially unsafe.\n",
      "22/06/22 02:39:05 WARN AbstractS3ACommitterFactory: Using standard FileOutputCommitter to commit work. This is slow and potentially unsafe.\n",
      "22/06/22 02:39:11 WARN AbstractS3ACommitterFactory: Using standard FileOutputCommitter to commit work. This is slow and potentially unsafe.\n",
      "22/06/22 02:39:12 WARN AbstractS3ACommitterFactory: Using standard FileOutputCommitter to commit work. This is slow and potentially unsafe.\n",
      "22/06/22 02:39:17 WARN AbstractS3ACommitterFactory: Using standard FileOutputCommitter to commit work. This is slow and potentially unsafe.\n",
      "22/06/22 02:39:18 WARN AbstractS3ACommitterFactory: Using standard FileOutputCommitter to commit work. This is slow and potentially unsafe.\n",
      "22/06/22 02:39:22 WARN AbstractS3ACommitterFactory: Using standard FileOutputCommitter to commit work. This is slow and potentially unsafe.\n",
      "22/06/22 02:39:23 WARN AbstractS3ACommitterFactory: Using standard FileOutputCommitter to commit work. This is slow and potentially unsafe.\n",
      "22/06/22 02:39:36 WARN AbstractS3ACommitterFactory: Using standard FileOutputCommitter to commit work. This is slow and potentially unsafe.\n",
      "22/06/22 02:39:36 WARN AbstractS3ACommitterFactory: Using standard FileOutputCommitter to commit work. This is slow and potentially unsafe.\n",
      "22/06/22 02:39:36 WARN AbstractS3ACommitterFactory: Using standard FileOutputCommitter to commit work. This is slow and potentially unsafe.\n",
      "22/06/22 02:39:42 WARN AbstractS3ACommitterFactory: Using standard FileOutputCommitter to commit work. This is slow and potentially unsafe.\n",
      "22/06/22 02:39:42 WARN AbstractS3ACommitterFactory: Using standard FileOutputCommitter to commit work. This is slow and potentially unsafe.\n",
      "22/06/22 02:39:48 WARN AbstractS3ACommitterFactory: Using standard FileOutputCommitter to commit work. This is slow and potentially unsafe.\n",
      "22/06/22 02:39:48 WARN AbstractS3ACommitterFactory: Using standard FileOutputCommitter to commit work. This is slow and potentially unsafe.\n",
      "22/06/22 02:39:53 WARN AbstractS3ACommitterFactory: Using standard FileOutputCommitter to commit work. This is slow and potentially unsafe.\n",
      "22/06/22 02:39:54 WARN AbstractS3ACommitterFactory: Using standard FileOutputCommitter to commit work. This is slow and potentially unsafe.\n",
      "                                                                                \r"
     ]
    }
   ],
   "source": [
    "s3.save_s3_data(censoEscolarPredioDF,'preprocessado','CENSO_ESCOLAR/DADOS_PREDIO')\n",
    "s3.save_s3_data(censoEscolarPredioDF,'cliente','CENSO_ESCOLAR/DADOS_PREDIO')"
   ]
  },
  {
   "cell_type": "code",
   "execution_count": 27,
   "metadata": {},
   "outputs": [
    {
     "name": "stderr",
     "output_type": "stream",
     "text": [
      "                                                                                \r"
     ]
    }
   ],
   "source": [
    "s3.save_data_client_side(censoEscolarPredioDF,'CENSO_ESCOLAR_DADOS_PREDIO')"
   ]
  },
  {
   "cell_type": "markdown",
   "metadata": {},
   "source": [
    "**Censo Escolar Informatica**"
   ]
  },
  {
   "cell_type": "code",
   "execution_count": 53,
   "metadata": {
    "scrolled": true
   },
   "outputs": [
    {
     "name": "stdout",
     "output_type": "stream",
     "text": [
      "+------------+---------+--------+--------------------+-----------------+---------------+----------------+----------------+----------------------+----------------------+---------------+---------------+-------------+----------------------+-----------+------------------+--------------------------+------------------------+----------------------+-----------------------------+------------------------------+-------------+--------------+\n",
      "|NU_ANO_CENSO|NO_REGIAO|   NO_UF|        NO_MUNICIPIO|   NO_MESORREGIAO|NO_MICRORREGIAO|IN_DESKTOP_ALUNO|QT_DESKTOP_ALUNO|IN_COMP_PORTATIL_ALUNO|QT_COMP_PORTATIL_ALUNO|IN_TABLET_ALUNO|QT_TABLET_ALUNO|QT_COMPUTADOR|QT_COMP_ADMINISTRATIVO|IN_INTERNET|IN_INTERNET_ALUNOS|IN_INTERNET_ADMINISTRATIVO|IN_INTERNET_APRENDIZAGEM|IN_INTERNET_COMUNIDADE|IN_ACESSO_INTERNET_COMPUTADOR|IN_ACES_INTERNET_DISP_PESSOAIS|TP_REDE_LOCAL|IN_BANDA_LARGA|\n",
      "+------------+---------+--------+--------------------+-----------------+---------------+----------------+----------------+----------------------+----------------------+---------------+---------------+-------------+----------------------+-----------+------------------+--------------------------+------------------------+----------------------+-----------------------------+------------------------------+-------------+--------------+\n",
      "|        2018|    Norte|Rond�nia|Alta Floresta D'O...|Leste Rondoniense|         Cacoal|               0|               0|                     0|                     0|              0|              0|            0|                     0|          0|                 0|                         0|                       0|                     0|                            0|                             0|            0|             0|\n",
      "|        2018|    Norte|Rond�nia|Alta Floresta D'O...|Leste Rondoniense|         Cacoal|               0|               0|                     0|                     0|              0|              0|           39|                    21|          1|                 0|                         0|                       0|                     0|                            0|                             0|            0|             1|\n",
      "|        2018|    Norte|Rond�nia|Alta Floresta D'O...|Leste Rondoniense|         Cacoal|               0|               0|                     0|                     0|              0|              0|            0|                     0|          0|                 0|                         0|                       0|                     0|                            0|                             0|            0|             0|\n",
      "|        2018|    Norte|Rond�nia|Alta Floresta D'O...|Leste Rondoniense|         Cacoal|               0|               0|                     0|                     0|              0|              0|            1|                     1|          1|                 0|                         0|                       0|                     0|                            0|                             0|            0|             0|\n",
      "|        2018|    Norte|Rond�nia|Alta Floresta D'O...|Leste Rondoniense|         Cacoal|               0|               0|                     0|                     0|              0|              0|            0|                     0|          0|                 0|                         0|                       0|                     0|                            0|                             0|            0|             0|\n",
      "|        2018|    Norte|Rond�nia|Alta Floresta D'O...|Leste Rondoniense|         Cacoal|               0|               0|                     0|                     0|              0|              0|            0|                     0|          0|                 0|                         0|                       0|                     0|                            0|                             0|            0|             0|\n",
      "|        2018|    Norte|Rond�nia|Alta Floresta D'O...|Leste Rondoniense|         Cacoal|               0|               0|                     0|                     0|              0|              0|            0|                     0|          0|                 0|                         0|                       0|                     0|                            0|                             0|            0|             0|\n",
      "|        2018|    Norte|Rond�nia|Alta Floresta D'O...|Leste Rondoniense|         Cacoal|               0|               0|                     0|                     0|              0|              0|            2|                     2|          1|                 0|                         0|                       0|                     0|                            0|                             0|            0|             0|\n",
      "|        2018|    Norte|Rond�nia|Alta Floresta D'O...|Leste Rondoniense|         Cacoal|               0|               0|                     0|                     0|              0|              0|           32|                    15|          1|                 0|                         0|                       0|                     0|                            0|                             0|            0|             1|\n",
      "|        2018|    Norte|Rond�nia|Alta Floresta D'O...|Leste Rondoniense|         Cacoal|               0|               0|                     0|                     0|              0|              0|            0|                     0|          0|                 0|                         0|                       0|                     0|                            0|                             0|            0|             0|\n",
      "|        2018|    Norte|Rond�nia|Alta Floresta D'O...|Leste Rondoniense|         Cacoal|               0|               0|                     0|                     0|              0|              0|            2|                     1|          1|                 0|                         0|                       0|                     0|                            0|                             0|            0|             0|\n",
      "|        2018|    Norte|Rond�nia|Alta Floresta D'O...|Leste Rondoniense|         Cacoal|               0|               0|                     0|                     0|              0|              0|            2|                     2|          1|                 0|                         0|                       0|                     0|                            0|                             0|            0|             0|\n",
      "|        2018|    Norte|Rond�nia|Alta Floresta D'O...|Leste Rondoniense|         Cacoal|               0|               0|                     0|                     0|              0|              0|           43|                    23|          1|                 0|                         0|                       0|                     0|                            0|                             0|            0|             1|\n",
      "|        2018|    Norte|Rond�nia|Alta Floresta D'O...|Leste Rondoniense|         Cacoal|               0|               0|                     0|                     0|              0|              0|            0|                     0|          0|                 0|                         0|                       0|                     0|                            0|                             0|            0|             0|\n",
      "|        2018|    Norte|Rond�nia|Alta Floresta D'O...|Leste Rondoniense|         Cacoal|               0|               0|                     0|                     0|              0|              0|            0|                     0|          0|                 0|                         0|                       0|                     0|                            0|                             0|            0|             0|\n",
      "|        2018|    Norte|Rond�nia|Alta Floresta D'O...|Leste Rondoniense|         Cacoal|               0|               0|                     0|                     0|              0|              0|            3|                     3|          1|                 0|                         0|                       0|                     0|                            0|                             0|            0|             0|\n",
      "|        2018|    Norte|Rond�nia|Alta Floresta D'O...|Leste Rondoniense|         Cacoal|               0|               0|                     0|                     0|              0|              0|            0|                     0|          0|                 0|                         0|                       0|                     0|                            0|                             0|            0|             0|\n",
      "|        2018|    Norte|Rond�nia|Alta Floresta D'O...|Leste Rondoniense|         Cacoal|               0|               0|                     0|                     0|              0|              0|            1|                     1|          0|                 0|                         0|                       0|                     0|                            0|                             0|            0|             0|\n",
      "|        2018|    Norte|Rond�nia|Alta Floresta D'O...|Leste Rondoniense|         Cacoal|               0|               0|                     0|                     0|              0|              0|            0|                     0|          0|                 0|                         0|                       0|                     0|                            0|                             0|            0|             0|\n",
      "|        2018|    Norte|Rond�nia|Alta Floresta D'O...|Leste Rondoniense|         Cacoal|               0|               0|                     0|                     0|              0|              0|            3|                     2|          0|                 0|                         0|                       0|                     0|                            0|                             0|            0|             0|\n",
      "+------------+---------+--------+--------------------+-----------------+---------------+----------------+----------------+----------------------+----------------------+---------------+---------------+-------------+----------------------+-----------+------------------+--------------------------+------------------------+----------------------+-----------------------------+------------------------------+-------------+--------------+\n",
      "only showing top 20 rows\n",
      "\n"
     ]
    }
   ],
   "source": [
    "censoEscolarInformaticaDF = censoEscolarDF.groupBy('NU_ANO_CENSO','NO_REGIAO','NO_UF').sum('IN_DESKTOP_ALUNO','QT_DESKTOP_ALUNO','IN_COMP_PORTATIL_ALUNO','QT_COMP_PORTATIL_ALUNO','IN_TABLET_ALUNO','QT_TABLET_ALUNO','QT_COMPUTADOR','QT_COMP_ADMINISTRATIVO','IN_INTERNET','IN_INTERNET_ALUNOS','IN_INTERNET_ADMINISTRATIVO','IN_INTERNET_APRENDIZAGEM','IN_INTERNET_COMUNIDADE','IN_ACESSO_INTERNET_COMPUTADOR','IN_ACES_INTERNET_DISP_PESSOAIS','TP_REDE_LOCAL','IN_BANDA_LARGA')\n",
    "censoEscolarInformaticaDF.show()"
   ]
  },
  {
   "cell_type": "code",
   "execution_count": 29,
   "metadata": {
    "scrolled": true
   },
   "outputs": [
    {
     "name": "stderr",
     "output_type": "stream",
     "text": [
      "22/06/22 02:47:04 WARN AbstractS3ACommitterFactory: Using standard FileOutputCommitter to commit work. This is slow and potentially unsafe.\n",
      "22/06/22 02:47:05 WARN AbstractS3ACommitterFactory: Using standard FileOutputCommitter to commit work. This is slow and potentially unsafe.\n",
      "22/06/22 02:47:05 WARN AbstractS3ACommitterFactory: Using standard FileOutputCommitter to commit work. This is slow and potentially unsafe.\n",
      "22/06/22 02:47:11 WARN AbstractS3ACommitterFactory: Using standard FileOutputCommitter to commit work. This is slow and potentially unsafe.\n",
      "22/06/22 02:47:11 WARN AbstractS3ACommitterFactory: Using standard FileOutputCommitter to commit work. This is slow and potentially unsafe.\n",
      "22/06/22 02:47:16 WARN AbstractS3ACommitterFactory: Using standard FileOutputCommitter to commit work. This is slow and potentially unsafe.\n",
      "22/06/22 02:47:16 WARN AbstractS3ACommitterFactory: Using standard FileOutputCommitter to commit work. This is slow and potentially unsafe.\n",
      "22/06/22 02:47:22 WARN AbstractS3ACommitterFactory: Using standard FileOutputCommitter to commit work. This is slow and potentially unsafe.\n",
      "22/06/22 02:47:22 WARN AbstractS3ACommitterFactory: Using standard FileOutputCommitter to commit work. This is slow and potentially unsafe.\n",
      "22/06/22 02:47:34 WARN AbstractS3ACommitterFactory: Using standard FileOutputCommitter to commit work. This is slow and potentially unsafe.\n",
      "22/06/22 02:47:34 WARN AbstractS3ACommitterFactory: Using standard FileOutputCommitter to commit work. This is slow and potentially unsafe.\n",
      "22/06/22 02:47:34 WARN AbstractS3ACommitterFactory: Using standard FileOutputCommitter to commit work. This is slow and potentially unsafe.\n",
      "22/06/22 02:47:39 WARN AbstractS3ACommitterFactory: Using standard FileOutputCommitter to commit work. This is slow and potentially unsafe.\n",
      "22/06/22 02:47:40 WARN AbstractS3ACommitterFactory: Using standard FileOutputCommitter to commit work. This is slow and potentially unsafe.\n",
      "22/06/22 02:47:44 WARN AbstractS3ACommitterFactory: Using standard FileOutputCommitter to commit work. This is slow and potentially unsafe.\n",
      "22/06/22 02:47:45 WARN AbstractS3ACommitterFactory: Using standard FileOutputCommitter to commit work. This is slow and potentially unsafe.\n",
      "22/06/22 02:47:50 WARN AbstractS3ACommitterFactory: Using standard FileOutputCommitter to commit work. This is slow and potentially unsafe.\n",
      "22/06/22 02:47:50 WARN AbstractS3ACommitterFactory: Using standard FileOutputCommitter to commit work. This is slow and potentially unsafe.\n",
      "                                                                                \r"
     ]
    }
   ],
   "source": [
    "s3.save_s3_data(censoEscolarInformaticaDF,'preprocessado','CENSO_ESCOLAR/DADOS_INFORMATICA')\n",
    "s3.save_s3_data(censoEscolarInformaticaDF,'cliente','CENSO_ESCOLAR/DADOS_INFORMATICA')"
   ]
  },
  {
   "cell_type": "code",
   "execution_count": 30,
   "metadata": {},
   "outputs": [
    {
     "name": "stderr",
     "output_type": "stream",
     "text": [
      "                                                                                \r"
     ]
    }
   ],
   "source": [
    "s3.save_data_client_side(censoEscolarInformaticaDF,'CENSO_ESCOLAR_DADOS_INFORMATICA')"
   ]
  },
  {
   "cell_type": "markdown",
   "metadata": {},
   "source": [
    "**Censo Escolar Professores**"
   ]
  },
  {
   "cell_type": "code",
   "execution_count": 31,
   "metadata": {},
   "outputs": [
    {
     "name": "stdout",
     "output_type": "stream",
     "text": [
      "+------------+---------+--------+--------------------+-----------------+---------------+---------------+-----------------------+-----------------------+-----------------------+-----------------------+---------------------+---------------------+-------------+-------------+-------------------+-------------------+--------------------+--------------------+---------------------+---------------------+-----------------+-----------------+-------------------+-------------------+-----------------+-----------------+------------------+------------------+-----------------+-----------------+-----------------+-----------------+--------------+--------------+---------------------+---------------------+\n",
      "|NU_ANO_CENSO|NO_REGIAO|   NO_UF|        NO_MUNICIPIO|   NO_MESORREGIAO|NO_MICRORREGIAO|QT_FUNCIONARIOS|IN_PROF_ADMINISTRATIVOS|QT_PROF_ADMINISTRATIVOS|IN_PROF_SERVICOS_GERAIS|QT_PROF_SERVICOS_GERAIS|IN_PROF_BIBLIOTECARIO|QT_PROF_BIBLIOTECARIO|IN_PROF_SAUDE|QT_PROF_SAUDE|IN_PROF_COORDENADOR|QT_PROF_COORDENADOR|IN_PROF_FONAUDIOLOGO|QT_PROF_FONAUDIOLOGO|IN_PROF_NUTRICIONISTA|QT_PROF_NUTRICIONISTA|IN_PROF_PSICOLOGO|QT_PROF_PSICOLOGO|IN_PROF_ALIMENTACAO|QT_PROF_ALIMENTACAO|IN_PROF_PEDAGOGIA|QT_PROF_PEDAGOGIA|IN_PROF_SECRETARIO|QT_PROF_SECRETARIO|IN_PROF_SEGURANCA|QT_PROF_SEGURANCA|IN_PROF_MONITORES|QT_PROF_MONITORES|IN_PROF_GESTAO|QT_PROF_GESTAO|IN_PROF_ASSIST_SOCIAL|QT_PROF_ASSIST_SOCIAL|\n",
      "+------------+---------+--------+--------------------+-----------------+---------------+---------------+-----------------------+-----------------------+-----------------------+-----------------------+---------------------+---------------------+-------------+-------------+-------------------+-------------------+--------------------+--------------------+---------------------+---------------------+-----------------+-----------------+-------------------+-------------------+-----------------+-----------------+------------------+------------------+-----------------+-----------------+-----------------+-----------------+--------------+--------------+---------------------+---------------------+\n",
      "|        2018|    Norte|Rond�nia|Alta Floresta D'O...|Leste Rondoniense|         Cacoal|              1|                     NA|                     NA|                     NA|                     NA|                   NA|                   NA|           NA|           NA|                 NA|                 NA|                  NA|                  NA|                   NA|                   NA|               NA|               NA|                 NA|                 NA|               NA|               NA|                NA|                NA|               NA|               NA|               NA|               NA|            NA|            NA|                   NA|                   NA|\n",
      "|        2018|    Norte|Rond�nia|Alta Floresta D'O...|Leste Rondoniense|         Cacoal|             46|                     NA|                     NA|                     NA|                     NA|                   NA|                   NA|           NA|           NA|                 NA|                 NA|                  NA|                  NA|                   NA|                   NA|               NA|               NA|                 NA|                 NA|               NA|               NA|                NA|                NA|               NA|               NA|               NA|               NA|            NA|            NA|                   NA|                   NA|\n",
      "|        2018|    Norte|Rond�nia|Alta Floresta D'O...|Leste Rondoniense|         Cacoal|              3|                     NA|                     NA|                     NA|                     NA|                   NA|                   NA|           NA|           NA|                 NA|                 NA|                  NA|                  NA|                   NA|                   NA|               NA|               NA|                 NA|                 NA|               NA|               NA|                NA|                NA|               NA|               NA|               NA|               NA|            NA|            NA|                   NA|                   NA|\n",
      "|        2018|    Norte|Rond�nia|Alta Floresta D'O...|Leste Rondoniense|         Cacoal|             20|                     NA|                     NA|                     NA|                     NA|                   NA|                   NA|           NA|           NA|                 NA|                 NA|                  NA|                  NA|                   NA|                   NA|               NA|               NA|                 NA|                 NA|               NA|               NA|                NA|                NA|               NA|               NA|               NA|               NA|            NA|            NA|                   NA|                   NA|\n",
      "|        2018|    Norte|Rond�nia|Alta Floresta D'O...|Leste Rondoniense|         Cacoal|             NA|                     NA|                     NA|                     NA|                     NA|                   NA|                   NA|           NA|           NA|                 NA|                 NA|                  NA|                  NA|                   NA|                   NA|               NA|               NA|                 NA|                 NA|               NA|               NA|                NA|                NA|               NA|               NA|               NA|               NA|            NA|            NA|                   NA|                   NA|\n",
      "|        2018|    Norte|Rond�nia|Alta Floresta D'O...|Leste Rondoniense|         Cacoal|             NA|                     NA|                     NA|                     NA|                     NA|                   NA|                   NA|           NA|           NA|                 NA|                 NA|                  NA|                  NA|                   NA|                   NA|               NA|               NA|                 NA|                 NA|               NA|               NA|                NA|                NA|               NA|               NA|               NA|               NA|            NA|            NA|                   NA|                   NA|\n",
      "|        2018|    Norte|Rond�nia|Alta Floresta D'O...|Leste Rondoniense|         Cacoal|             NA|                     NA|                     NA|                     NA|                     NA|                   NA|                   NA|           NA|           NA|                 NA|                 NA|                  NA|                  NA|                   NA|                   NA|               NA|               NA|                 NA|                 NA|               NA|               NA|                NA|                NA|               NA|               NA|               NA|               NA|            NA|            NA|                   NA|                   NA|\n",
      "|        2018|    Norte|Rond�nia|Alta Floresta D'O...|Leste Rondoniense|         Cacoal|             33|                     NA|                     NA|                     NA|                     NA|                   NA|                   NA|           NA|           NA|                 NA|                 NA|                  NA|                  NA|                   NA|                   NA|               NA|               NA|                 NA|                 NA|               NA|               NA|                NA|                NA|               NA|               NA|               NA|               NA|            NA|            NA|                   NA|                   NA|\n",
      "|        2018|    Norte|Rond�nia|Alta Floresta D'O...|Leste Rondoniense|         Cacoal|             57|                     NA|                     NA|                     NA|                     NA|                   NA|                   NA|           NA|           NA|                 NA|                 NA|                  NA|                  NA|                   NA|                   NA|               NA|               NA|                 NA|                 NA|               NA|               NA|                NA|                NA|               NA|               NA|               NA|               NA|            NA|            NA|                   NA|                   NA|\n",
      "|        2018|    Norte|Rond�nia|Alta Floresta D'O...|Leste Rondoniense|         Cacoal|             NA|                     NA|                     NA|                     NA|                     NA|                   NA|                   NA|           NA|           NA|                 NA|                 NA|                  NA|                  NA|                   NA|                   NA|               NA|               NA|                 NA|                 NA|               NA|               NA|                NA|                NA|               NA|               NA|               NA|               NA|            NA|            NA|                   NA|                   NA|\n",
      "|        2018|    Norte|Rond�nia|Alta Floresta D'O...|Leste Rondoniense|         Cacoal|             30|                     NA|                     NA|                     NA|                     NA|                   NA|                   NA|           NA|           NA|                 NA|                 NA|                  NA|                  NA|                   NA|                   NA|               NA|               NA|                 NA|                 NA|               NA|               NA|                NA|                NA|               NA|               NA|               NA|               NA|            NA|            NA|                   NA|                   NA|\n",
      "|        2018|    Norte|Rond�nia|Alta Floresta D'O...|Leste Rondoniense|         Cacoal|             23|                     NA|                     NA|                     NA|                     NA|                   NA|                   NA|           NA|           NA|                 NA|                 NA|                  NA|                  NA|                   NA|                   NA|               NA|               NA|                 NA|                 NA|               NA|               NA|                NA|                NA|               NA|               NA|               NA|               NA|            NA|            NA|                   NA|                   NA|\n",
      "|        2018|    Norte|Rond�nia|Alta Floresta D'O...|Leste Rondoniense|         Cacoal|             45|                     NA|                     NA|                     NA|                     NA|                   NA|                   NA|           NA|           NA|                 NA|                 NA|                  NA|                  NA|                   NA|                   NA|               NA|               NA|                 NA|                 NA|               NA|               NA|                NA|                NA|               NA|               NA|               NA|               NA|            NA|            NA|                   NA|                   NA|\n",
      "|        2018|    Norte|Rond�nia|Alta Floresta D'O...|Leste Rondoniense|         Cacoal|             NA|                     NA|                     NA|                     NA|                     NA|                   NA|                   NA|           NA|           NA|                 NA|                 NA|                  NA|                  NA|                   NA|                   NA|               NA|               NA|                 NA|                 NA|               NA|               NA|                NA|                NA|               NA|               NA|               NA|               NA|            NA|            NA|                   NA|                   NA|\n",
      "|        2018|    Norte|Rond�nia|Alta Floresta D'O...|Leste Rondoniense|         Cacoal|              2|                     NA|                     NA|                     NA|                     NA|                   NA|                   NA|           NA|           NA|                 NA|                 NA|                  NA|                  NA|                   NA|                   NA|               NA|               NA|                 NA|                 NA|               NA|               NA|                NA|                NA|               NA|               NA|               NA|               NA|            NA|            NA|                   NA|                   NA|\n",
      "|        2018|    Norte|Rond�nia|Alta Floresta D'O...|Leste Rondoniense|         Cacoal|             25|                     NA|                     NA|                     NA|                     NA|                   NA|                   NA|           NA|           NA|                 NA|                 NA|                  NA|                  NA|                   NA|                   NA|               NA|               NA|                 NA|                 NA|               NA|               NA|                NA|                NA|               NA|               NA|               NA|               NA|            NA|            NA|                   NA|                   NA|\n",
      "|        2018|    Norte|Rond�nia|Alta Floresta D'O...|Leste Rondoniense|         Cacoal|             NA|                     NA|                     NA|                     NA|                     NA|                   NA|                   NA|           NA|           NA|                 NA|                 NA|                  NA|                  NA|                   NA|                   NA|               NA|               NA|                 NA|                 NA|               NA|               NA|                NA|                NA|               NA|               NA|               NA|               NA|            NA|            NA|                   NA|                   NA|\n",
      "|        2018|    Norte|Rond�nia|Alta Floresta D'O...|Leste Rondoniense|         Cacoal|              6|                     NA|                     NA|                     NA|                     NA|                   NA|                   NA|           NA|           NA|                 NA|                 NA|                  NA|                  NA|                   NA|                   NA|               NA|               NA|                 NA|                 NA|               NA|               NA|                NA|                NA|               NA|               NA|               NA|               NA|            NA|            NA|                   NA|                   NA|\n",
      "|        2018|    Norte|Rond�nia|Alta Floresta D'O...|Leste Rondoniense|         Cacoal|             NA|                     NA|                     NA|                     NA|                     NA|                   NA|                   NA|           NA|           NA|                 NA|                 NA|                  NA|                  NA|                   NA|                   NA|               NA|               NA|                 NA|                 NA|               NA|               NA|                NA|                NA|               NA|               NA|               NA|               NA|            NA|            NA|                   NA|                   NA|\n",
      "|        2018|    Norte|Rond�nia|Alta Floresta D'O...|Leste Rondoniense|         Cacoal|             19|                     NA|                     NA|                     NA|                     NA|                   NA|                   NA|           NA|           NA|                 NA|                 NA|                  NA|                  NA|                   NA|                   NA|               NA|               NA|                 NA|                 NA|               NA|               NA|                NA|                NA|               NA|               NA|               NA|               NA|            NA|            NA|                   NA|                   NA|\n",
      "+------------+---------+--------+--------------------+-----------------+---------------+---------------+-----------------------+-----------------------+-----------------------+-----------------------+---------------------+---------------------+-------------+-------------+-------------------+-------------------+--------------------+--------------------+---------------------+---------------------+-----------------+-----------------+-------------------+-------------------+-----------------+-----------------+------------------+------------------+-----------------+-----------------+-----------------+-----------------+--------------+--------------+---------------------+---------------------+\n",
      "only showing top 20 rows\n",
      "\n"
     ]
    }
   ],
   "source": [
    "censoEscolarProfessoresDF = censoEscolarDF.groupBy('NU_ANO_CENSO','NO_REGIAO','NO_UF').sum('QT_FUNCIONARIOS','IN_PROF_ADMINISTRATIVOS','QT_PROF_ADMINISTRATIVOS','IN_PROF_SERVICOS_GERAIS','QT_PROF_SERVICOS_GERAIS','IN_PROF_BIBLIOTECARIO','QT_PROF_BIBLIOTECARIO','IN_PROF_SAUDE','QT_PROF_SAUDE','IN_PROF_COORDENADOR','QT_PROF_COORDENADOR','IN_PROF_FONAUDIOLOGO','QT_PROF_FONAUDIOLOGO','IN_PROF_NUTRICIONISTA','QT_PROF_NUTRICIONISTA','IN_PROF_PSICOLOGO','QT_PROF_PSICOLOGO','IN_PROF_ALIMENTACAO','QT_PROF_ALIMENTACAO','IN_PROF_PEDAGOGIA','QT_PROF_PEDAGOGIA','IN_PROF_SECRETARIO','QT_PROF_SECRETARIO','IN_PROF_SEGURANCA','QT_PROF_SEGURANCA','IN_PROF_MONITORES','QT_PROF_MONITORES','IN_PROF_GESTAO','QT_PROF_GESTAO','IN_PROF_ASSIST_SOCIAL','QT_PROF_ASSIST_SOCIAL')\n",
    "censoEscolarProfessoresDF.show()"
   ]
  },
  {
   "cell_type": "code",
   "execution_count": 32,
   "metadata": {
    "scrolled": true
   },
   "outputs": [
    {
     "name": "stderr",
     "output_type": "stream",
     "text": [
      "22/06/22 02:55:52 WARN AbstractS3ACommitterFactory: Using standard FileOutputCommitter to commit work. This is slow and potentially unsafe.\n",
      "22/06/22 02:55:52 WARN AbstractS3ACommitterFactory: Using standard FileOutputCommitter to commit work. This is slow and potentially unsafe.\n",
      "22/06/22 02:55:52 WARN AbstractS3ACommitterFactory: Using standard FileOutputCommitter to commit work. This is slow and potentially unsafe.\n",
      "22/06/22 02:55:59 WARN AbstractS3ACommitterFactory: Using standard FileOutputCommitter to commit work. This is slow and potentially unsafe.\n",
      "22/06/22 02:55:59 WARN AbstractS3ACommitterFactory: Using standard FileOutputCommitter to commit work. This is slow and potentially unsafe.\n",
      "22/06/22 02:56:06 WARN AbstractS3ACommitterFactory: Using standard FileOutputCommitter to commit work. This is slow and potentially unsafe.\n",
      "22/06/22 02:56:06 WARN AbstractS3ACommitterFactory: Using standard FileOutputCommitter to commit work. This is slow and potentially unsafe.\n",
      "22/06/22 02:56:13 WARN AbstractS3ACommitterFactory: Using standard FileOutputCommitter to commit work. This is slow and potentially unsafe.\n",
      "22/06/22 02:56:13 WARN AbstractS3ACommitterFactory: Using standard FileOutputCommitter to commit work. This is slow and potentially unsafe.\n",
      "22/06/22 02:56:26 WARN AbstractS3ACommitterFactory: Using standard FileOutputCommitter to commit work. This is slow and potentially unsafe.\n",
      "22/06/22 02:56:27 WARN AbstractS3ACommitterFactory: Using standard FileOutputCommitter to commit work. This is slow and potentially unsafe.\n",
      "22/06/22 02:56:27 WARN AbstractS3ACommitterFactory: Using standard FileOutputCommitter to commit work. This is slow and potentially unsafe.\n",
      "22/06/22 02:56:32 WARN AbstractS3ACommitterFactory: Using standard FileOutputCommitter to commit work. This is slow and potentially unsafe.\n",
      "22/06/22 02:56:32 WARN AbstractS3ACommitterFactory: Using standard FileOutputCommitter to commit work. This is slow and potentially unsafe.\n",
      "22/06/22 02:56:39 WARN AbstractS3ACommitterFactory: Using standard FileOutputCommitter to commit work. This is slow and potentially unsafe.\n",
      "22/06/22 02:56:39 WARN AbstractS3ACommitterFactory: Using standard FileOutputCommitter to commit work. This is slow and potentially unsafe.\n",
      "22/06/22 02:56:44 WARN AbstractS3ACommitterFactory: Using standard FileOutputCommitter to commit work. This is slow and potentially unsafe.\n",
      "22/06/22 02:56:45 WARN AbstractS3ACommitterFactory: Using standard FileOutputCommitter to commit work. This is slow and potentially unsafe.\n",
      "                                                                                \r"
     ]
    }
   ],
   "source": [
    "s3.save_s3_data(censoEscolarProfessoresDF,'preprocessado','CENSO_ESCOLAR/DADOS_PROFESSORES')\n",
    "s3.save_s3_data(censoEscolarProfessoresDF,'cliente','CENSO_ESCOLAR/DADOS_PROFESSORES')"
   ]
  },
  {
   "cell_type": "code",
   "execution_count": 33,
   "metadata": {},
   "outputs": [
    {
     "name": "stderr",
     "output_type": "stream",
     "text": [
      "                                                                                \r"
     ]
    }
   ],
   "source": [
    "s3.save_data_client_side(censoEscolarProfessoresDF,'CENSO_ESCOLAR_DADOS_PROFESSORES')"
   ]
  },
  {
   "cell_type": "markdown",
   "metadata": {},
   "source": [
    "**Censo Escolar Ensino**"
   ]
  },
  {
   "cell_type": "code",
   "execution_count": 34,
   "metadata": {
    "scrolled": true
   },
   "outputs": [
    {
     "name": "stdout",
     "output_type": "stream",
     "text": [
      "+------------+---------+--------+--------------------+-----------------+---------------+----------------+---------+----------+------+------+------+----------+----------+-------+----------+----------+------+-------+-----------+------+-----------+----------+------+---------+---------+\n",
      "|NU_ANO_CENSO|NO_REGIAO|   NO_UF|        NO_MUNICIPIO|   NO_MESORREGIAO|NO_MICRORREGIAO|IN_EXAME_SELECAO|IN_DIURNO|IN_NOTURNO|IN_EAD|IN_BAS|IN_INF|IN_INF_CRE|IN_INF_PRE|IN_FUND|IN_FUND_AI|IN_FUND_AF|IN_MED|IN_PROF|IN_PROF_TEC|IN_EJA|IN_EJA_FUND|IN_EJA_MED|IN_ESP|IN_ESP_CC|IN_ESP_CE|\n",
      "+------------+---------+--------+--------------------+-----------------+---------------+----------------+---------+----------+------+------+------+----------+----------+-------+----------+----------+------+-------+-----------+------+-----------+----------+------+---------+---------+\n",
      "|        2018|    Norte|Rond�nia|Alta Floresta D'O...|Leste Rondoniense|         Cacoal|              NA|        1|         0|     0|     1|     0|         0|         0|      1|         1|         0|     0|      0|          0|     0|          0|         0|     0|        0|        0|\n",
      "|        2018|    Norte|Rond�nia|Alta Floresta D'O...|Leste Rondoniense|         Cacoal|              NA|        1|         1|     0|     1|     0|         0|         0|      0|         0|         0|     0|      0|          0|     1|          1|         1|     1|        1|        0|\n",
      "|        2018|    Norte|Rond�nia|Alta Floresta D'O...|Leste Rondoniense|         Cacoal|              NA|        1|         0|     0|     1|     0|         0|         0|      1|         1|         0|     0|      0|          0|     0|          0|         0|     0|        0|        0|\n",
      "|        2018|    Norte|Rond�nia|Alta Floresta D'O...|Leste Rondoniense|         Cacoal|              NA|        1|         0|     0|     1|     1|         0|         1|      1|         1|         1|     0|      0|          0|     0|          0|         0|     1|        1|        0|\n",
      "|        2018|    Norte|Rond�nia|Alta Floresta D'O...|Leste Rondoniense|         Cacoal|              NA|       NA|        NA|    NA|    NA|    NA|        NA|        NA|     NA|        NA|        NA|    NA|     NA|         NA|    NA|         NA|        NA|    NA|       NA|       NA|\n",
      "|        2018|    Norte|Rond�nia|Alta Floresta D'O...|Leste Rondoniense|         Cacoal|              NA|       NA|        NA|    NA|    NA|    NA|        NA|        NA|     NA|        NA|        NA|    NA|     NA|         NA|    NA|         NA|        NA|    NA|       NA|       NA|\n",
      "|        2018|    Norte|Rond�nia|Alta Floresta D'O...|Leste Rondoniense|         Cacoal|              NA|       NA|        NA|    NA|    NA|    NA|        NA|        NA|     NA|        NA|        NA|    NA|     NA|         NA|    NA|         NA|        NA|    NA|       NA|       NA|\n",
      "|        2018|    Norte|Rond�nia|Alta Floresta D'O...|Leste Rondoniense|         Cacoal|              NA|        1|         0|     0|     1|     1|         0|         1|      1|         1|         1|     0|      0|          0|     0|          0|         0|     1|        1|        0|\n",
      "|        2018|    Norte|Rond�nia|Alta Floresta D'O...|Leste Rondoniense|         Cacoal|              NA|        1|         0|     0|     1|     0|         0|         0|      1|         1|         1|     0|      0|          0|     0|          0|         0|     1|        1|        0|\n",
      "|        2018|    Norte|Rond�nia|Alta Floresta D'O...|Leste Rondoniense|         Cacoal|              NA|       NA|        NA|    NA|    NA|    NA|        NA|        NA|     NA|        NA|        NA|    NA|     NA|         NA|    NA|         NA|        NA|    NA|       NA|       NA|\n",
      "|        2018|    Norte|Rond�nia|Alta Floresta D'O...|Leste Rondoniense|         Cacoal|              NA|        1|         0|     0|     1|     1|         0|         1|      1|         1|         1|     0|      0|          0|     0|          0|         0|     1|        1|        0|\n",
      "|        2018|    Norte|Rond�nia|Alta Floresta D'O...|Leste Rondoniense|         Cacoal|              NA|        1|         0|     0|     1|     0|         0|         0|      1|         1|         1|     0|      0|          0|     0|          0|         0|     1|        1|        0|\n",
      "|        2018|    Norte|Rond�nia|Alta Floresta D'O...|Leste Rondoniense|         Cacoal|              NA|        1|         0|     0|     1|     0|         0|         0|      0|         0|         0|     1|      0|          0|     0|          0|         0|     0|        0|        0|\n",
      "|        2018|    Norte|Rond�nia|Alta Floresta D'O...|Leste Rondoniense|         Cacoal|              NA|       NA|        NA|    NA|    NA|    NA|        NA|        NA|     NA|        NA|        NA|    NA|     NA|         NA|    NA|         NA|        NA|    NA|       NA|       NA|\n",
      "|        2018|    Norte|Rond�nia|Alta Floresta D'O...|Leste Rondoniense|         Cacoal|              NA|        1|         0|     0|     1|     0|         0|         0|      1|         1|         0|     0|      0|          0|     0|          0|         0|     0|        0|        0|\n",
      "|        2018|    Norte|Rond�nia|Alta Floresta D'O...|Leste Rondoniense|         Cacoal|              NA|        1|         0|     0|     1|     1|         0|         1|      1|         1|         1|     0|      0|          0|     0|          0|         0|     1|        1|        0|\n",
      "|        2018|    Norte|Rond�nia|Alta Floresta D'O...|Leste Rondoniense|         Cacoal|              NA|       NA|        NA|    NA|    NA|    NA|        NA|        NA|     NA|        NA|        NA|    NA|     NA|         NA|    NA|         NA|        NA|    NA|       NA|       NA|\n",
      "|        2018|    Norte|Rond�nia|Alta Floresta D'O...|Leste Rondoniense|         Cacoal|              NA|        1|         0|     0|     1|     0|         0|         0|      1|         1|         0|     0|      0|          0|     0|          0|         0|     0|        0|        0|\n",
      "|        2018|    Norte|Rond�nia|Alta Floresta D'O...|Leste Rondoniense|         Cacoal|              NA|       NA|        NA|    NA|    NA|    NA|        NA|        NA|     NA|        NA|        NA|    NA|     NA|         NA|    NA|         NA|        NA|    NA|       NA|       NA|\n",
      "|        2018|    Norte|Rond�nia|Alta Floresta D'O...|Leste Rondoniense|         Cacoal|              NA|        1|         0|     0|     1|     0|         0|         0|      1|         1|         1|     0|      0|          0|     0|          0|         0|     0|        0|        0|\n",
      "+------------+---------+--------+--------------------+-----------------+---------------+----------------+---------+----------+------+------+------+----------+----------+-------+----------+----------+------+-------+-----------+------+-----------+----------+------+---------+---------+\n",
      "only showing top 20 rows\n",
      "\n"
     ]
    }
   ],
   "source": [
    "censoEscolarEnsinoDF = censoEscolarDF.groupBy('NU_ANO_CENSO','NO_REGIAO','NO_UF').sum('IN_EXAME_SELECAO','IN_DIURNO','IN_NOTURNO','IN_EAD','IN_BAS','IN_INF','IN_INF_CRE','IN_INF_PRE','IN_FUND','IN_FUND_AI','IN_FUND_AF','IN_MED','IN_PROF','IN_PROF_TEC','IN_EJA','IN_EJA_FUND','IN_EJA_MED','IN_ESP','IN_ESP_CC','IN_ESP_CE')\n",
    "censoEscolarEnsinoDF.show()"
   ]
  },
  {
   "cell_type": "code",
   "execution_count": 35,
   "metadata": {
    "scrolled": true
   },
   "outputs": [
    {
     "name": "stderr",
     "output_type": "stream",
     "text": [
      "22/06/22 03:05:00 WARN AbstractS3ACommitterFactory: Using standard FileOutputCommitter to commit work. This is slow and potentially unsafe.\n",
      "22/06/22 03:05:01 WARN AbstractS3ACommitterFactory: Using standard FileOutputCommitter to commit work. This is slow and potentially unsafe.\n",
      "22/06/22 03:05:01 WARN AbstractS3ACommitterFactory: Using standard FileOutputCommitter to commit work. This is slow and potentially unsafe.\n",
      "22/06/22 03:05:08 WARN AbstractS3ACommitterFactory: Using standard FileOutputCommitter to commit work. This is slow and potentially unsafe.\n",
      "22/06/22 03:05:09 WARN AbstractS3ACommitterFactory: Using standard FileOutputCommitter to commit work. This is slow and potentially unsafe.\n",
      "22/06/22 03:05:14 WARN AbstractS3ACommitterFactory: Using standard FileOutputCommitter to commit work. This is slow and potentially unsafe.\n",
      "22/06/22 03:05:14 WARN AbstractS3ACommitterFactory: Using standard FileOutputCommitter to commit work. This is slow and potentially unsafe.\n",
      "22/06/22 03:05:21 WARN AbstractS3ACommitterFactory: Using standard FileOutputCommitter to commit work. This is slow and potentially unsafe.\n",
      "22/06/22 03:05:21 WARN AbstractS3ACommitterFactory: Using standard FileOutputCommitter to commit work. This is slow and potentially unsafe.\n",
      "22/06/22 03:05:34 WARN AbstractS3ACommitterFactory: Using standard FileOutputCommitter to commit work. This is slow and potentially unsafe.\n",
      "22/06/22 03:05:34 WARN AbstractS3ACommitterFactory: Using standard FileOutputCommitter to commit work. This is slow and potentially unsafe.\n",
      "22/06/22 03:05:34 WARN AbstractS3ACommitterFactory: Using standard FileOutputCommitter to commit work. This is slow and potentially unsafe.\n",
      "22/06/22 03:05:39 WARN AbstractS3ACommitterFactory: Using standard FileOutputCommitter to commit work. This is slow and potentially unsafe.\n",
      "22/06/22 03:05:40 WARN AbstractS3ACommitterFactory: Using standard FileOutputCommitter to commit work. This is slow and potentially unsafe.\n",
      "22/06/22 03:05:45 WARN AbstractS3ACommitterFactory: Using standard FileOutputCommitter to commit work. This is slow and potentially unsafe.\n",
      "22/06/22 03:05:45 WARN AbstractS3ACommitterFactory: Using standard FileOutputCommitter to commit work. This is slow and potentially unsafe.\n",
      "22/06/22 03:05:50 WARN AbstractS3ACommitterFactory: Using standard FileOutputCommitter to commit work. This is slow and potentially unsafe.\n",
      "22/06/22 03:05:51 WARN AbstractS3ACommitterFactory: Using standard FileOutputCommitter to commit work. This is slow and potentially unsafe.\n",
      "                                                                                \r"
     ]
    }
   ],
   "source": [
    "s3.save_s3_data(censoEscolarEnsinoDF,'preprocessado','CENSO_ESCOLAR/DADOS_ENSINO')\n",
    "s3.save_s3_data(censoEscolarEnsinoDF,'cliente','CENSO_ESCOLAR/DADOS_ENSINO')"
   ]
  },
  {
   "cell_type": "code",
   "execution_count": 36,
   "metadata": {},
   "outputs": [
    {
     "name": "stderr",
     "output_type": "stream",
     "text": [
      "                                                                                \r"
     ]
    }
   ],
   "source": [
    "s3.save_data_client_side(censoEscolarEnsinoDF,'CENSO_ESCOLAR_DADOS_ENSINO')"
   ]
  },
  {
   "cell_type": "markdown",
   "metadata": {},
   "source": [
    "**Censo Escolar Matriculas**"
   ]
  },
  {
   "cell_type": "code",
   "execution_count": 37,
   "metadata": {},
   "outputs": [
    {
     "name": "stdout",
     "output_type": "stream",
     "text": [
      "+------------+---------+--------+--------------------+-----------------+---------------+----------+----------+--------------+--------------+-----------+--------------+--------------+----------+-----------+---------------+----------+---------------+--------------+----------+-------------+-------------+--------------+---------------+-------------+-----------------+----------------+----------------+------------------+-------------------+--------------+--------------+---------------+----------------+----------------+------------------+------------+------------+--------------+--------------+------------------+------------------+---------------+------------------+------------------+--------------+\n",
      "|NU_ANO_CENSO|NO_REGIAO|   NO_UF|        NO_MUNICIPIO|   NO_MESORREGIAO|NO_MICRORREGIAO|QT_MAT_BAS|QT_MAT_INF|QT_MAT_INF_CRE|QT_MAT_INF_PRE|QT_MAT_FUND|QT_MAT_FUND_AI|QT_MAT_FUND_AF|QT_MAT_MED|QT_MAT_PROF|QT_MAT_PROF_TEC|QT_MAT_EJA|QT_MAT_EJA_FUND|QT_MAT_EJA_MED|QT_MAT_ESP|QT_MAT_ESP_CC|QT_MAT_ESP_CE|QT_MAT_BAS_FEM|QT_MAT_BAS_MASC|QT_MAT_BAS_ND|QT_MAT_BAS_BRANCA|QT_MAT_BAS_PRETA|QT_MAT_BAS_PARDA|QT_MAT_BAS_AMARELA|QT_MAT_BAS_INDIGENA|QT_MAT_BAS_0_3|QT_MAT_BAS_4_5|QT_MAT_BAS_6_10|QT_MAT_BAS_11_14|QT_MAT_BAS_15_17|QT_MAT_BAS_18_MAIS|QT_MAT_BAS_D|QT_MAT_BAS_N|QT_MAT_BAS_EAD|QT_MAT_INF_INT|QT_MAT_INF_CRE_INT|QT_MAT_INF_PRE_INT|QT_MAT_FUND_INT|QT_MAT_FUND_AI_INT|QT_MAT_FUND_AF_INT|QT_MAT_MED_INT|\n",
      "+------------+---------+--------+--------------------+-----------------+---------------+----------+----------+--------------+--------------+-----------+--------------+--------------+----------+-----------+---------------+----------+---------------+--------------+----------+-------------+-------------+--------------+---------------+-------------+-----------------+----------------+----------------+------------------+-------------------+--------------+--------------+---------------+----------------+----------------+------------------+------------+------------+--------------+--------------+------------------+------------------+---------------+------------------+------------------+--------------+\n",
      "|        2018|    Norte|Rond�nia|Alta Floresta D'O...|Leste Rondoniense|         Cacoal|        11|         0|             0|             0|         11|            11|             0|         0|          0|              0|         0|              0|             0|         0|            0|            0|             4|              7|            0|                0|               0|               1|                 0|                 10|             0|             0|              7|               4|               0|                 0|          11|           0|             0|             0|                 0|                 0|              0|                 0|                 0|             0|\n",
      "|        2018|    Norte|Rond�nia|Alta Floresta D'O...|Leste Rondoniense|         Cacoal|       231|         0|             0|             0|          0|             0|             0|         0|          0|              0|       231|            105|           126|         1|            1|            0|           118|            113|            2|               62|              14|             139|                 0|                 14|             0|             0|              0|               0|              18|               213|          16|         215|             0|             0|                 0|                 0|              0|                 0|                 0|             0|\n",
      "|        2018|    Norte|Rond�nia|Alta Floresta D'O...|Leste Rondoniense|         Cacoal|        35|         0|             0|             0|         35|            35|             0|         0|          0|              0|         0|              0|             0|         0|            0|            0|            15|             20|            0|               13|               0|              22|                 0|                  0|             0|             4|             28|               3|               0|                 0|          35|           0|             0|             0|                 0|                 0|              0|                 0|                 0|             0|\n",
      "|        2018|    Norte|Rond�nia|Alta Floresta D'O...|Leste Rondoniense|         Cacoal|       111|        10|             0|            10|        101|            57|            44|         0|          0|              0|         0|              0|             0|         4|            4|            0|            39|             72|            8|               16|               5|              51|                 0|                 31|             3|            11|             48|              35|              12|                 2|         111|           0|             0|             0|                 0|                 0|              0|                 0|                 0|             0|\n",
      "|        2018|    Norte|Rond�nia|Alta Floresta D'O...|Leste Rondoniense|         Cacoal|        NA|        NA|            NA|            NA|         NA|            NA|            NA|        NA|         NA|             NA|        NA|             NA|            NA|        NA|           NA|           NA|            NA|             NA|           NA|               NA|              NA|              NA|                NA|                 NA|            NA|            NA|             NA|              NA|              NA|                NA|          NA|          NA|            NA|            NA|                NA|                NA|             NA|                NA|                NA|            NA|\n",
      "|        2018|    Norte|Rond�nia|Alta Floresta D'O...|Leste Rondoniense|         Cacoal|        NA|        NA|            NA|            NA|         NA|            NA|            NA|        NA|         NA|             NA|        NA|             NA|            NA|        NA|           NA|           NA|            NA|             NA|           NA|               NA|              NA|              NA|                NA|                 NA|            NA|            NA|             NA|              NA|              NA|                NA|          NA|          NA|            NA|            NA|                NA|                NA|             NA|                NA|                NA|            NA|\n",
      "|        2018|    Norte|Rond�nia|Alta Floresta D'O...|Leste Rondoniense|         Cacoal|        NA|        NA|            NA|            NA|         NA|            NA|            NA|        NA|         NA|             NA|        NA|             NA|            NA|        NA|           NA|           NA|            NA|             NA|           NA|               NA|              NA|              NA|                NA|                 NA|            NA|            NA|             NA|              NA|              NA|                NA|          NA|          NA|            NA|            NA|                NA|                NA|             NA|                NA|                NA|            NA|\n",
      "|        2018|    Norte|Rond�nia|Alta Floresta D'O...|Leste Rondoniense|         Cacoal|       217|        12|             0|            12|        205|           112|            93|         0|          0|              0|         0|              0|             0|         5|            5|            0|           100|            117|            3|               97|               4|             111|                 0|                  2|             0|            25|             93|              79|              18|                 2|         217|           0|             0|             0|                 0|                 0|              0|                 0|                 0|             0|\n",
      "|        2018|    Norte|Rond�nia|Alta Floresta D'O...|Leste Rondoniense|         Cacoal|       673|         0|             0|             0|        673|           360|           313|         0|          0|              0|         0|              0|             0|        20|           20|            0|           354|            319|           36|              318|               6|             311|                 0|                  2|             0|             0|            296|             360|              16|                 1|         673|           0|             0|             0|                 0|                 0|              0|                 0|                 0|             0|\n",
      "|        2018|    Norte|Rond�nia|Alta Floresta D'O...|Leste Rondoniense|         Cacoal|        NA|        NA|            NA|            NA|         NA|            NA|            NA|        NA|         NA|             NA|        NA|             NA|            NA|        NA|           NA|           NA|            NA|             NA|           NA|               NA|              NA|              NA|                NA|                 NA|            NA|            NA|             NA|              NA|              NA|                NA|          NA|          NA|            NA|            NA|                NA|                NA|             NA|                NA|                NA|            NA|\n",
      "|        2018|    Norte|Rond�nia|Alta Floresta D'O...|Leste Rondoniense|         Cacoal|       217|        19|             0|            19|        198|           120|            78|         0|          0|              0|         0|              0|             0|         1|            1|            0|           109|            108|            9|               87|               4|             115|                 0|                  2|             0|            27|             99|              75|              15|                 1|         217|           0|             0|             0|                 0|                 0|              0|                 0|                 0|             0|\n",
      "|        2018|    Norte|Rond�nia|Alta Floresta D'O...|Leste Rondoniense|         Cacoal|        70|         0|             0|             0|         70|            41|            29|         0|          0|              0|         0|              0|             0|         2|            2|            0|            34|             36|            0|               23|               1|              46|                 0|                  0|             0|             2|             36|              30|               2|                 0|          70|           0|             0|             0|                 0|                 0|              0|                 0|                 0|             0|\n",
      "|        2018|    Norte|Rond�nia|Alta Floresta D'O...|Leste Rondoniense|         Cacoal|       155|         0|             0|             0|          0|             0|             0|       155|          0|              0|         0|              0|             0|         0|            0|            0|            90|             65|           21|               63|               1|              70|                 0|                  0|             0|             0|              0|               4|             143|                 8|         155|           0|             0|             0|                 0|                 0|              0|                 0|                 0|           155|\n",
      "|        2018|    Norte|Rond�nia|Alta Floresta D'O...|Leste Rondoniense|         Cacoal|        NA|        NA|            NA|            NA|         NA|            NA|            NA|        NA|         NA|             NA|        NA|             NA|            NA|        NA|           NA|           NA|            NA|             NA|           NA|               NA|              NA|              NA|                NA|                 NA|            NA|            NA|             NA|              NA|              NA|                NA|          NA|          NA|            NA|            NA|                NA|                NA|             NA|                NA|                NA|            NA|\n",
      "|        2018|    Norte|Rond�nia|Alta Floresta D'O...|Leste Rondoniense|         Cacoal|        15|         0|             0|             0|         15|            15|             0|         0|          0|              0|         0|              0|             0|         0|            0|            0|             6|              9|            0|                5|               0|              10|                 0|                  0|             0|             3|             12|               0|               0|                 0|          15|           0|             0|             0|                 0|                 0|              0|                 0|                 0|             0|\n",
      "|        2018|    Norte|Rond�nia|Alta Floresta D'O...|Leste Rondoniense|         Cacoal|       133|        17|             0|            17|        116|            63|            53|         0|          0|              0|         0|              0|             0|         6|            6|            0|            62|             71|            2|               34|               4|              78|                 1|                 14|             1|            21|             46|              52|              12|                 1|         133|           0|             0|             0|                 0|                 0|              0|                 0|                 0|             0|\n",
      "|        2018|    Norte|Rond�nia|Alta Floresta D'O...|Leste Rondoniense|         Cacoal|        NA|        NA|            NA|            NA|         NA|            NA|            NA|        NA|         NA|             NA|        NA|             NA|            NA|        NA|           NA|           NA|            NA|             NA|           NA|               NA|              NA|              NA|                NA|                 NA|            NA|            NA|             NA|              NA|              NA|                NA|          NA|          NA|            NA|            NA|                NA|                NA|             NA|                NA|                NA|            NA|\n",
      "|        2018|    Norte|Rond�nia|Alta Floresta D'O...|Leste Rondoniense|         Cacoal|        27|         0|             0|             0|         27|            27|             0|         0|          0|              0|         0|              0|             0|         0|            0|            0|             7|             20|            0|               11|               0|              16|                 0|                  0|             0|             3|             21|               3|               0|                 0|          27|           0|             0|             0|                 0|                 0|              0|                 0|                 0|             0|\n",
      "|        2018|    Norte|Rond�nia|Alta Floresta D'O...|Leste Rondoniense|         Cacoal|        NA|        NA|            NA|            NA|         NA|            NA|            NA|        NA|         NA|             NA|        NA|             NA|            NA|        NA|           NA|           NA|            NA|             NA|           NA|               NA|              NA|              NA|                NA|                 NA|            NA|            NA|             NA|              NA|              NA|                NA|          NA|          NA|            NA|            NA|                NA|                NA|             NA|                NA|                NA|            NA|\n",
      "|        2018|    Norte|Rond�nia|Alta Floresta D'O...|Leste Rondoniense|         Cacoal|        88|         0|             0|             0|         88|            39|            49|         0|          0|              0|         0|              0|             0|         0|            0|            0|            47|             41|            0|               37|               0|              51|                 0|                  0|             0|             5|             28|              46|               8|                 1|          88|           0|             0|             0|                 0|                 0|              0|                 0|                 0|             0|\n",
      "+------------+---------+--------+--------------------+-----------------+---------------+----------+----------+--------------+--------------+-----------+--------------+--------------+----------+-----------+---------------+----------+---------------+--------------+----------+-------------+-------------+--------------+---------------+-------------+-----------------+----------------+----------------+------------------+-------------------+--------------+--------------+---------------+----------------+----------------+------------------+------------+------------+--------------+--------------+------------------+------------------+---------------+------------------+------------------+--------------+\n",
      "only showing top 20 rows\n",
      "\n"
     ]
    }
   ],
   "source": [
    "censoEscolarMatriculasDF = censoEscolarDF.groupBy('NU_ANO_CENSO','NO_REGIAO','NO_UF').sum('QT_MAT_BAS','QT_MAT_INF','QT_MAT_INF_CRE','QT_MAT_INF_PRE','QT_MAT_FUND','QT_MAT_FUND_AI','QT_MAT_FUND_AF','QT_MAT_MED','QT_MAT_PROF','QT_MAT_PROF_TEC','QT_MAT_EJA','QT_MAT_EJA_FUND','QT_MAT_EJA_MED','QT_MAT_ESP','QT_MAT_ESP_CC','QT_MAT_ESP_CE','QT_MAT_BAS_FEM','QT_MAT_BAS_MASC','QT_MAT_BAS_ND','QT_MAT_BAS_BRANCA','QT_MAT_BAS_PRETA','QT_MAT_BAS_PARDA','QT_MAT_BAS_AMARELA','QT_MAT_BAS_INDIGENA','QT_MAT_BAS_0_3','QT_MAT_BAS_4_5','QT_MAT_BAS_6_10','QT_MAT_BAS_11_14','QT_MAT_BAS_15_17','QT_MAT_BAS_18_MAIS','QT_MAT_BAS_D','QT_MAT_BAS_N','QT_MAT_BAS_EAD','QT_MAT_INF_INT','QT_MAT_INF_CRE_INT','QT_MAT_INF_PRE_INT','QT_MAT_FUND_INT','QT_MAT_FUND_AI_INT','QT_MAT_FUND_AF_INT','QT_MAT_MED_INT')\n",
    "censoEscolarMatriculasDF.show()"
   ]
  },
  {
   "cell_type": "code",
   "execution_count": 38,
   "metadata": {
    "scrolled": true
   },
   "outputs": [
    {
     "name": "stderr",
     "output_type": "stream",
     "text": [
      "22/06/22 03:12:43 WARN AbstractS3ACommitterFactory: Using standard FileOutputCommitter to commit work. This is slow and potentially unsafe.\n",
      "22/06/22 03:12:43 WARN AbstractS3ACommitterFactory: Using standard FileOutputCommitter to commit work. This is slow and potentially unsafe.\n",
      "22/06/22 03:12:43 WARN AbstractS3ACommitterFactory: Using standard FileOutputCommitter to commit work. This is slow and potentially unsafe.\n",
      "22/06/22 03:12:51 WARN AbstractS3ACommitterFactory: Using standard FileOutputCommitter to commit work. This is slow and potentially unsafe.\n",
      "22/06/22 03:12:51 WARN AbstractS3ACommitterFactory: Using standard FileOutputCommitter to commit work. This is slow and potentially unsafe.\n",
      "22/06/22 03:12:58 WARN AbstractS3ACommitterFactory: Using standard FileOutputCommitter to commit work. This is slow and potentially unsafe.\n",
      "22/06/22 03:12:59 WARN AbstractS3ACommitterFactory: Using standard FileOutputCommitter to commit work. This is slow and potentially unsafe.\n",
      "22/06/22 03:13:07 WARN AbstractS3ACommitterFactory: Using standard FileOutputCommitter to commit work. This is slow and potentially unsafe.\n",
      "22/06/22 03:13:08 WARN AbstractS3ACommitterFactory: Using standard FileOutputCommitter to commit work. This is slow and potentially unsafe.\n",
      "22/06/22 03:13:22 WARN AbstractS3ACommitterFactory: Using standard FileOutputCommitter to commit work. This is slow and potentially unsafe.\n",
      "22/06/22 03:13:22 WARN AbstractS3ACommitterFactory: Using standard FileOutputCommitter to commit work. This is slow and potentially unsafe.\n",
      "22/06/22 03:13:22 WARN AbstractS3ACommitterFactory: Using standard FileOutputCommitter to commit work. This is slow and potentially unsafe.\n",
      "22/06/22 03:13:29 WARN AbstractS3ACommitterFactory: Using standard FileOutputCommitter to commit work. This is slow and potentially unsafe.\n",
      "22/06/22 03:13:29 WARN AbstractS3ACommitterFactory: Using standard FileOutputCommitter to commit work. This is slow and potentially unsafe.\n",
      "22/06/22 03:13:36 WARN AbstractS3ACommitterFactory: Using standard FileOutputCommitter to commit work. This is slow and potentially unsafe.\n",
      "22/06/22 03:13:36 WARN AbstractS3ACommitterFactory: Using standard FileOutputCommitter to commit work. This is slow and potentially unsafe.\n",
      "22/06/22 03:13:44 WARN AbstractS3ACommitterFactory: Using standard FileOutputCommitter to commit work. This is slow and potentially unsafe.\n",
      "22/06/22 03:13:44 WARN AbstractS3ACommitterFactory: Using standard FileOutputCommitter to commit work. This is slow and potentially unsafe.\n",
      "                                                                                \r"
     ]
    }
   ],
   "source": [
    "s3.save_s3_data(censoEscolarMatriculasDF,'preprocessado','CENSO_ESCOLAR/DADOS_MATRICULAS')\n",
    "s3.save_s3_data(censoEscolarMatriculasDF,'cliente','CENSO_ESCOLAR/DADOS_MATRICULAS')"
   ]
  },
  {
   "cell_type": "code",
   "execution_count": 39,
   "metadata": {},
   "outputs": [
    {
     "name": "stderr",
     "output_type": "stream",
     "text": [
      "                                                                                \r"
     ]
    }
   ],
   "source": [
    "s3.save_data_client_side(censoEscolarMatriculasDF,'CENSO_ESCOLAR_DADOS_MATRICULAS')"
   ]
  },
  {
   "cell_type": "code",
   "execution_count": null,
   "metadata": {},
   "outputs": [],
   "source": []
  },
  {
   "cell_type": "code",
   "execution_count": 32,
   "metadata": {
    "collapsed": true
   },
   "outputs": [
    {
     "name": "stderr",
     "output_type": "stream",
     "text": [
      "ERROR:root:KeyboardInterrupt while sending command.                 (0 + 2) / 8]\n",
      "Traceback (most recent call last):\n",
      "  File \"/usr/local/lib/python3.7/site-packages/py4j/java_gateway.py\", line 1038, in send_command\n",
      "    response = connection.send_command(command)\n",
      "  File \"/usr/local/lib/python3.7/site-packages/py4j/clientserver.py\", line 475, in send_command\n",
      "    answer = smart_decode(self.stream.readline()[:-1])\n",
      "  File \"/usr/lib64/python3.7/socket.py\", line 589, in readinto\n",
      "    return self._sock.recv_into(b)\n",
      "KeyboardInterrupt\n"
     ]
    },
    {
     "ename": "KeyboardInterrupt",
     "evalue": "",
     "output_type": "error",
     "traceback": [
      "\u001b[0;31m---------------------------------------------------------------------------\u001b[0m",
      "\u001b[0;31mKeyboardInterrupt\u001b[0m                         Traceback (most recent call last)",
      "\u001b[0;32m/tmp/ipykernel_6907/3318408767.py\u001b[0m in \u001b[0;36m<module>\u001b[0;34m\u001b[0m\n\u001b[0;32m----> 1\u001b[0;31m \u001b[0ms3\u001b[0m\u001b[0;34m.\u001b[0m\u001b[0msave_data_client_side\u001b[0m\u001b[0;34m(\u001b[0m\u001b[0mcensoEscolarDF\u001b[0m\u001b[0;34m,\u001b[0m\u001b[0;34m'CENSO_ESCOLAR'\u001b[0m\u001b[0;34m)\u001b[0m\u001b[0;34m\u001b[0m\u001b[0;34m\u001b[0m\u001b[0m\n\u001b[0m",
      "\u001b[0;32m/tmp/ipykernel_6907/2044816620.py\u001b[0m in \u001b[0;36msave_data_client_side\u001b[0;34m(self, df, table)\u001b[0m\n\u001b[1;32m     11\u001b[0m             \u001b[0;34m.\u001b[0m\u001b[0moption\u001b[0m\u001b[0;34m(\u001b[0m\u001b[0;34m'dbtable'\u001b[0m\u001b[0;34m,\u001b[0m \u001b[0;34m'dbo.{}'\u001b[0m\u001b[0;34m.\u001b[0m\u001b[0mformat\u001b[0m\u001b[0;34m(\u001b[0m\u001b[0mtable\u001b[0m\u001b[0;34m)\u001b[0m\u001b[0;34m)\u001b[0m\u001b[0;31m \u001b[0m\u001b[0;31m\\\u001b[0m\u001b[0;34m\u001b[0m\u001b[0;34m\u001b[0m\u001b[0m\n\u001b[1;32m     12\u001b[0m             \u001b[0;34m.\u001b[0m\u001b[0moption\u001b[0m\u001b[0;34m(\u001b[0m\u001b[0;34m'user'\u001b[0m\u001b[0;34m,\u001b[0m \u001b[0;34m'urubu100'\u001b[0m\u001b[0;34m)\u001b[0m\u001b[0;31m \u001b[0m\u001b[0;31m\\\u001b[0m\u001b[0;34m\u001b[0m\u001b[0;34m\u001b[0m\u001b[0m\n\u001b[0;32m---> 13\u001b[0;31m             \u001b[0;34m.\u001b[0m\u001b[0moption\u001b[0m\u001b[0;34m(\u001b[0m\u001b[0;34m'password'\u001b[0m\u001b[0;34m,\u001b[0m \u001b[0;34m'#Gf37624352869'\u001b[0m\u001b[0;34m)\u001b[0m\u001b[0;31m \u001b[0m\u001b[0;31m\\\u001b[0m\u001b[0;34m\u001b[0m\u001b[0;34m\u001b[0m\u001b[0m\n\u001b[0m\u001b[1;32m     14\u001b[0m             \u001b[0;34m.\u001b[0m\u001b[0msave\u001b[0m\u001b[0;34m(\u001b[0m\u001b[0;34m)\u001b[0m\u001b[0;34m\u001b[0m\u001b[0;34m\u001b[0m\u001b[0m\n\u001b[1;32m     15\u001b[0m \u001b[0;34m\u001b[0m\u001b[0m\n",
      "\u001b[0;32m/usr/local/lib/python3.7/site-packages/pyspark/sql/readwriter.py\u001b[0m in \u001b[0;36msave\u001b[0;34m(self, path, format, mode, partitionBy, **options)\u001b[0m\n\u001b[1;32m    736\u001b[0m             \u001b[0mself\u001b[0m\u001b[0;34m.\u001b[0m\u001b[0mformat\u001b[0m\u001b[0;34m(\u001b[0m\u001b[0mformat\u001b[0m\u001b[0;34m)\u001b[0m\u001b[0;34m\u001b[0m\u001b[0;34m\u001b[0m\u001b[0m\n\u001b[1;32m    737\u001b[0m         \u001b[0;32mif\u001b[0m \u001b[0mpath\u001b[0m \u001b[0;32mis\u001b[0m \u001b[0;32mNone\u001b[0m\u001b[0;34m:\u001b[0m\u001b[0;34m\u001b[0m\u001b[0;34m\u001b[0m\u001b[0m\n\u001b[0;32m--> 738\u001b[0;31m             \u001b[0mself\u001b[0m\u001b[0;34m.\u001b[0m\u001b[0m_jwrite\u001b[0m\u001b[0;34m.\u001b[0m\u001b[0msave\u001b[0m\u001b[0;34m(\u001b[0m\u001b[0;34m)\u001b[0m\u001b[0;34m\u001b[0m\u001b[0;34m\u001b[0m\u001b[0m\n\u001b[0m\u001b[1;32m    739\u001b[0m         \u001b[0;32melse\u001b[0m\u001b[0;34m:\u001b[0m\u001b[0;34m\u001b[0m\u001b[0;34m\u001b[0m\u001b[0m\n\u001b[1;32m    740\u001b[0m             \u001b[0mself\u001b[0m\u001b[0;34m.\u001b[0m\u001b[0m_jwrite\u001b[0m\u001b[0;34m.\u001b[0m\u001b[0msave\u001b[0m\u001b[0;34m(\u001b[0m\u001b[0mpath\u001b[0m\u001b[0;34m)\u001b[0m\u001b[0;34m\u001b[0m\u001b[0;34m\u001b[0m\u001b[0m\n",
      "\u001b[0;32m/usr/local/lib/python3.7/site-packages/py4j/java_gateway.py\u001b[0m in \u001b[0;36m__call__\u001b[0;34m(self, *args)\u001b[0m\n\u001b[1;32m   1318\u001b[0m             \u001b[0mproto\u001b[0m\u001b[0;34m.\u001b[0m\u001b[0mEND_COMMAND_PART\u001b[0m\u001b[0;34m\u001b[0m\u001b[0;34m\u001b[0m\u001b[0m\n\u001b[1;32m   1319\u001b[0m \u001b[0;34m\u001b[0m\u001b[0m\n\u001b[0;32m-> 1320\u001b[0;31m         \u001b[0manswer\u001b[0m \u001b[0;34m=\u001b[0m \u001b[0mself\u001b[0m\u001b[0;34m.\u001b[0m\u001b[0mgateway_client\u001b[0m\u001b[0;34m.\u001b[0m\u001b[0msend_command\u001b[0m\u001b[0;34m(\u001b[0m\u001b[0mcommand\u001b[0m\u001b[0;34m)\u001b[0m\u001b[0;34m\u001b[0m\u001b[0;34m\u001b[0m\u001b[0m\n\u001b[0m\u001b[1;32m   1321\u001b[0m         return_value = get_return_value(\n\u001b[1;32m   1322\u001b[0m             answer, self.gateway_client, self.target_id, self.name)\n",
      "\u001b[0;32m/usr/local/lib/python3.7/site-packages/py4j/java_gateway.py\u001b[0m in \u001b[0;36msend_command\u001b[0;34m(self, command, retry, binary)\u001b[0m\n\u001b[1;32m   1036\u001b[0m         \u001b[0mconnection\u001b[0m \u001b[0;34m=\u001b[0m \u001b[0mself\u001b[0m\u001b[0;34m.\u001b[0m\u001b[0m_get_connection\u001b[0m\u001b[0;34m(\u001b[0m\u001b[0;34m)\u001b[0m\u001b[0;34m\u001b[0m\u001b[0;34m\u001b[0m\u001b[0m\n\u001b[1;32m   1037\u001b[0m         \u001b[0;32mtry\u001b[0m\u001b[0;34m:\u001b[0m\u001b[0;34m\u001b[0m\u001b[0;34m\u001b[0m\u001b[0m\n\u001b[0;32m-> 1038\u001b[0;31m             \u001b[0mresponse\u001b[0m \u001b[0;34m=\u001b[0m \u001b[0mconnection\u001b[0m\u001b[0;34m.\u001b[0m\u001b[0msend_command\u001b[0m\u001b[0;34m(\u001b[0m\u001b[0mcommand\u001b[0m\u001b[0;34m)\u001b[0m\u001b[0;34m\u001b[0m\u001b[0;34m\u001b[0m\u001b[0m\n\u001b[0m\u001b[1;32m   1039\u001b[0m             \u001b[0;32mif\u001b[0m \u001b[0mbinary\u001b[0m\u001b[0;34m:\u001b[0m\u001b[0;34m\u001b[0m\u001b[0;34m\u001b[0m\u001b[0m\n\u001b[1;32m   1040\u001b[0m                 \u001b[0;32mreturn\u001b[0m \u001b[0mresponse\u001b[0m\u001b[0;34m,\u001b[0m \u001b[0mself\u001b[0m\u001b[0;34m.\u001b[0m\u001b[0m_create_connection_guard\u001b[0m\u001b[0;34m(\u001b[0m\u001b[0mconnection\u001b[0m\u001b[0;34m)\u001b[0m\u001b[0;34m\u001b[0m\u001b[0;34m\u001b[0m\u001b[0m\n",
      "\u001b[0;32m/usr/local/lib/python3.7/site-packages/py4j/clientserver.py\u001b[0m in \u001b[0;36msend_command\u001b[0;34m(self, command)\u001b[0m\n\u001b[1;32m    473\u001b[0m         \u001b[0;32mtry\u001b[0m\u001b[0;34m:\u001b[0m\u001b[0;34m\u001b[0m\u001b[0;34m\u001b[0m\u001b[0m\n\u001b[1;32m    474\u001b[0m             \u001b[0;32mwhile\u001b[0m \u001b[0;32mTrue\u001b[0m\u001b[0;34m:\u001b[0m\u001b[0;34m\u001b[0m\u001b[0;34m\u001b[0m\u001b[0m\n\u001b[0;32m--> 475\u001b[0;31m                 \u001b[0manswer\u001b[0m \u001b[0;34m=\u001b[0m \u001b[0msmart_decode\u001b[0m\u001b[0;34m(\u001b[0m\u001b[0mself\u001b[0m\u001b[0;34m.\u001b[0m\u001b[0mstream\u001b[0m\u001b[0;34m.\u001b[0m\u001b[0mreadline\u001b[0m\u001b[0;34m(\u001b[0m\u001b[0;34m)\u001b[0m\u001b[0;34m[\u001b[0m\u001b[0;34m:\u001b[0m\u001b[0;34m-\u001b[0m\u001b[0;36m1\u001b[0m\u001b[0;34m]\u001b[0m\u001b[0;34m)\u001b[0m\u001b[0;34m\u001b[0m\u001b[0;34m\u001b[0m\u001b[0m\n\u001b[0m\u001b[1;32m    476\u001b[0m                 \u001b[0mlogger\u001b[0m\u001b[0;34m.\u001b[0m\u001b[0mdebug\u001b[0m\u001b[0;34m(\u001b[0m\u001b[0;34m\"Answer received: {0}\"\u001b[0m\u001b[0;34m.\u001b[0m\u001b[0mformat\u001b[0m\u001b[0;34m(\u001b[0m\u001b[0manswer\u001b[0m\u001b[0;34m)\u001b[0m\u001b[0;34m)\u001b[0m\u001b[0;34m\u001b[0m\u001b[0;34m\u001b[0m\u001b[0m\n\u001b[1;32m    477\u001b[0m                 \u001b[0;31m# Happens when a the other end is dead. There might be an empty\u001b[0m\u001b[0;34m\u001b[0m\u001b[0;34m\u001b[0m\u001b[0;34m\u001b[0m\u001b[0m\n",
      "\u001b[0;32m/usr/lib64/python3.7/socket.py\u001b[0m in \u001b[0;36mreadinto\u001b[0;34m(self, b)\u001b[0m\n\u001b[1;32m    587\u001b[0m         \u001b[0;32mwhile\u001b[0m \u001b[0;32mTrue\u001b[0m\u001b[0;34m:\u001b[0m\u001b[0;34m\u001b[0m\u001b[0;34m\u001b[0m\u001b[0m\n\u001b[1;32m    588\u001b[0m             \u001b[0;32mtry\u001b[0m\u001b[0;34m:\u001b[0m\u001b[0;34m\u001b[0m\u001b[0;34m\u001b[0m\u001b[0m\n\u001b[0;32m--> 589\u001b[0;31m                 \u001b[0;32mreturn\u001b[0m \u001b[0mself\u001b[0m\u001b[0;34m.\u001b[0m\u001b[0m_sock\u001b[0m\u001b[0;34m.\u001b[0m\u001b[0mrecv_into\u001b[0m\u001b[0;34m(\u001b[0m\u001b[0mb\u001b[0m\u001b[0;34m)\u001b[0m\u001b[0;34m\u001b[0m\u001b[0;34m\u001b[0m\u001b[0m\n\u001b[0m\u001b[1;32m    590\u001b[0m             \u001b[0;32mexcept\u001b[0m \u001b[0mtimeout\u001b[0m\u001b[0;34m:\u001b[0m\u001b[0;34m\u001b[0m\u001b[0;34m\u001b[0m\u001b[0m\n\u001b[1;32m    591\u001b[0m                 \u001b[0mself\u001b[0m\u001b[0;34m.\u001b[0m\u001b[0m_timeout_occurred\u001b[0m \u001b[0;34m=\u001b[0m \u001b[0;32mTrue\u001b[0m\u001b[0;34m\u001b[0m\u001b[0;34m\u001b[0m\u001b[0m\n",
      "\u001b[0;31mKeyboardInterrupt\u001b[0m: "
     ]
    }
   ],
   "source": [
    "s3.save_data_client_side(censoEscolarDF,'CENSO_ESCOLAR')"
   ]
  },
  {
   "cell_type": "code",
   "execution_count": null,
   "metadata": {},
   "outputs": [],
   "source": []
  }
 ],
 "metadata": {
  "kernelspec": {
   "display_name": "Python 3 (ipykernel)",
   "language": "python",
   "name": "python3"
  },
  "language_info": {
   "codemirror_mode": {
    "name": "ipython",
    "version": 3
   },
   "file_extension": ".py",
   "mimetype": "text/x-python",
   "name": "python",
   "nbconvert_exporter": "python",
   "pygments_lexer": "ipython3",
   "version": "3.10.3"
  }
 },
 "nbformat": 4,
 "nbformat_minor": 4
}

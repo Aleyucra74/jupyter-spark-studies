{
 "cells": [
  {
   "cell_type": "code",
   "execution_count": 3,
   "id": "7c094ff8",
   "metadata": {},
   "outputs": [],
   "source": [
    "class Aws_importer():\n",
    "    def save_s3_data(self, df,bucket,folder):\n",
    "        df.write.mode('overwrite').csv('s3a://alex-group2-sptech-bucket-{}/{}'.format(bucket,folder))\n",
    "\n",
    "    def save_data_client_side(self, df,table):\n",
    "        df.write \\\n",
    "            .format('com.microsoft.sqlserver.jdbc.spark') \\\n",
    "            .mode('overwrite') \\\n",
    "            .option('driver', 'com.microsoft.sqlserver.jdbc.SQLServerDriver') \\\n",
    "            .option('url', 'jdbc:sqlserver://grupo02alexandre.database.windows.net:1433;databaseName=grupo02alexandre;') \\\n",
    "            .option('dbtable', 'dbo.{}'.format(table)) \\\n",
    "            .option('user', 'urubu100') \\\n",
    "            .option('password', '#Gf37624352869') \\\n",
    "            .save()\n",
    "        \n",
    "class Pandas_Spark():\n",
    "    #transform pandas dataframe into spark dataframe\n",
    "    def equivalent_type(self,f):\n",
    "        if f == 'datetime64[ns]': return TimestampType()\n",
    "        elif f == 'int64': return LongType()\n",
    "        elif f == 'int32': return IntegerType()\n",
    "        elif f == 'float64': return DoubleType()\n",
    "        elif f == 'float32': return FloatType()\n",
    "        else: return StringType()\n",
    "\n",
    "    def define_structure(self,string, format_type):\n",
    "        try: typo = equivalent_type(format_type)\n",
    "        except: typo = StringType()\n",
    "        return StructField(string, typo)\n",
    "\n",
    "    # Given pandas dataframe, it will return a spark's dataframe.\n",
    "    def pandas_to_spark(self,pandas_df):\n",
    "        columns = list(pandas_df.columns)\n",
    "        types = list(pandas_df.dtypes)\n",
    "        struct_list = []\n",
    "        for column, typo in zip(columns, types): \n",
    "          struct_list.append(define_structure(column, typo))\n",
    "        p_schema = StructType(struct_list)\n",
    "        return sqlCtx.createDataFrame(pandas_df, p_schema)"
   ]
  }
 ],
 "metadata": {
  "kernelspec": {
   "display_name": "Python 3 (ipykernel)",
   "language": "python",
   "name": "python3"
  },
  "language_info": {
   "codemirror_mode": {
    "name": "ipython",
    "version": 3
   },
   "file_extension": ".py",
   "mimetype": "text/x-python",
   "name": "python",
   "nbconvert_exporter": "python",
   "pygments_lexer": "ipython3",
   "version": "3.10.3"
  }
 },
 "nbformat": 4,
 "nbformat_minor": 5
}
